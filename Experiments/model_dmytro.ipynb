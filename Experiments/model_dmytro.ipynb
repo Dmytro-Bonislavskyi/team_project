{
 "cells": [
  {
   "cell_type": "code",
   "execution_count": 12,
   "metadata": {},
   "outputs": [],
   "source": [
    "#complite_accidents = pd.read_csv(\"C:/Users/bonis/Downloads/US_Accidents_March23.csv\")"
   ]
  },
  {
   "cell_type": "code",
   "execution_count": 13,
   "metadata": {},
   "outputs": [],
   "source": [
    "#complite_accidents.columns"
   ]
  },
  {
   "cell_type": "code",
   "execution_count": 14,
   "metadata": {},
   "outputs": [],
   "source": [
    "#la_accidents = complite_accidents[complite_accidents['City'] == 'Los Angeles']"
   ]
  },
  {
   "cell_type": "code",
   "execution_count": 15,
   "metadata": {},
   "outputs": [],
   "source": [
    "# Save the la_accidents to a CSV file\n",
    "#la_accidents.to_csv(\"../data/processed/LA_Accidents.csv\", index=False)"
   ]
  },
  {
   "cell_type": "code",
   "execution_count": 16,
   "metadata": {},
   "outputs": [],
   "source": [
    "#la_accidents.describe()"
   ]
  },
  {
   "cell_type": "code",
   "execution_count": 17,
   "metadata": {},
   "outputs": [],
   "source": [
    "\n",
    "import pandas as pd\n",
    "import numpy as np\n",
    "from sklearn.impute import KNNImputer\n",
    "la_accidents = pd.read_csv(\"../data/processed/LA_Accidents.csv\")"
   ]
  },
  {
   "cell_type": "code",
   "execution_count": 18,
   "metadata": {},
   "outputs": [],
   "source": [
    "#la_accidents = complite_accidents[complite_accidents['City'] == 'Los Angeles']\n",
    "\n",
    "columns_to_keep = [\n",
    "    'Start_Time', 'Temperature(F)', \n",
    "    'Humidity(%)', 'Pressure(in)', 'Visibility(mi)', 'Wind_Direction',\n",
    "    'Wind_Speed(mph)', 'Weather_Condition',\n",
    "    'Sunrise_Sunset'\n",
    "]\n",
    "\n",
    "# Create a copy of the DataFrame\n",
    "filtered_la_accidents = la_accidents[columns_to_keep].copy()\n",
    "\n",
    "filtered_la_accidents['Date'] = pd.to_datetime(filtered_la_accidents['Start_Time'], format=\"mixed\")\n"
   ]
  },
  {
   "cell_type": "code",
   "execution_count": 19,
   "metadata": {},
   "outputs": [
    {
     "name": "stdout",
     "output_type": "stream",
     "text": [
      "                 Start_Time  Temperature(F)  Humidity(%)  Pressure(in)  \\\n",
      "0       2016-06-21 10:46:30            82.9         47.0         29.95   \n",
      "1       2016-06-21 10:49:21            82.9         47.0         29.95   \n",
      "2       2016-06-21 10:51:45            82.9         47.0         29.95   \n",
      "3       2016-06-21 10:56:24            82.9         47.0         29.95   \n",
      "4       2016-06-21 11:30:46            80.1         52.0         29.96   \n",
      "...                     ...             ...          ...           ...   \n",
      "156486  2019-08-22 17:07:14            72.0         76.0         29.57   \n",
      "156487  2019-08-23 04:04:48            67.0         79.0         29.62   \n",
      "156488  2019-08-23 12:52:31            81.0         49.0         29.66   \n",
      "156489  2019-08-23 13:42:50            82.0         47.0         29.65   \n",
      "156490  2019-08-23 15:45:43            74.0         66.0         29.64   \n",
      "\n",
      "        Visibility(mi) Wind_Direction  Wind_Speed(mph) Weather_Condition  \\\n",
      "0                 10.0       Variable              4.6             Clear   \n",
      "1                 10.0       Variable              4.6             Clear   \n",
      "2                 10.0       Variable              4.6             Clear   \n",
      "3                 10.0       Variable              4.6             Clear   \n",
      "4                 10.0            ESE              9.2             Clear   \n",
      "...                ...            ...              ...               ...   \n",
      "156486            10.0             SW              8.0              Fair   \n",
      "156487             7.0           CALM              0.0            Cloudy   \n",
      "156488             8.0           CALM              0.0              Fair   \n",
      "156489             9.0           CALM              0.0              Fair   \n",
      "156490            10.0              W              8.0              Fair   \n",
      "\n",
      "       Sunrise_Sunset                Date  \n",
      "0                 Day 2016-06-21 10:46:30  \n",
      "1                 Day 2016-06-21 10:49:21  \n",
      "2                 Day 2016-06-21 10:51:45  \n",
      "3                 Day 2016-06-21 10:56:24  \n",
      "4                 Day 2016-06-21 11:30:46  \n",
      "...               ...                 ...  \n",
      "156486            Day 2019-08-22 17:07:14  \n",
      "156487          Night 2019-08-23 04:04:48  \n",
      "156488            Day 2019-08-23 12:52:31  \n",
      "156489            Day 2019-08-23 13:42:50  \n",
      "156490            Day 2019-08-23 15:45:43  \n",
      "\n",
      "[156491 rows x 10 columns]\n"
     ]
    },
    {
     "data": {
      "text/plain": [
       "Start_Time               0\n",
       "Temperature(F)        1105\n",
       "Humidity(%)           1180\n",
       "Pressure(in)           965\n",
       "Visibility(mi)         684\n",
       "Wind_Direction        2431\n",
       "Wind_Speed(mph)      23989\n",
       "Weather_Condition      650\n",
       "Sunrise_Sunset           0\n",
       "Date                     0\n",
       "dtype: int64"
      ]
     },
     "execution_count": 19,
     "metadata": {},
     "output_type": "execute_result"
    }
   ],
   "source": [
    "print(filtered_la_accidents)\n",
    "missing_values_count = filtered_la_accidents.isnull().sum()\n",
    "missing_values_count[0:]"
   ]
  },
  {
   "cell_type": "code",
   "execution_count": 20,
   "metadata": {},
   "outputs": [
    {
     "name": "stdout",
     "output_type": "stream",
     "text": [
      "Missing values before imputation:\n",
      "Temperature(F)      1105\n",
      "Humidity(%)         1180\n",
      "Pressure(in)         965\n",
      "Visibility(mi)       684\n",
      "Wind_Speed(mph)    23989\n",
      "dtype: int64\n",
      "\n",
      "Missing values after imputation:\n",
      "Temperature(F)     0\n",
      "Humidity(%)        0\n",
      "Pressure(in)       0\n",
      "Visibility(mi)     0\n",
      "Wind_Speed(mph)    0\n",
      "dtype: int64\n"
     ]
    }
   ],
   "source": [
    "from sklearn.impute import KNNImputer\n",
    "import pandas as pd\n",
    "\n",
    "# List of numerical columns with missing values\n",
    "numerical_cols = ['Temperature(F)', 'Humidity(%)', 'Pressure(in)', 'Visibility(mi)', 'Wind_Speed(mph)']\n",
    "\n",
    "# Extract the relevant columns for imputation\n",
    "data_for_imputation = filtered_la_accidents[numerical_cols]\n",
    "\n",
    "# Print the count of missing values before imputation\n",
    "print(\"Missing values before imputation:\")\n",
    "print(data_for_imputation.isnull().sum())\n",
    "\n",
    "# Initialize KNNImputer\n",
    "imputer = KNNImputer(n_neighbors=3)  \n",
    "\n",
    "# Perform imputation\n",
    "imputed_data = imputer.fit_transform(data_for_imputation)\n",
    "\n",
    "# Create a DataFrame with imputed data\n",
    "imputed_df = pd.DataFrame(imputed_data, columns=numerical_cols, index=filtered_la_accidents.index)\n",
    "\n",
    "# Replace the original numerical columns with the imputed data\n",
    "filtered_la_accidents[numerical_cols] = imputed_df\n",
    "\n",
    "# Print the count of missing values after imputation\n",
    "print(\"\\nMissing values after imputation:\")\n",
    "print(filtered_la_accidents[numerical_cols].isnull().sum())\n",
    "\n"
   ]
  },
  {
   "cell_type": "code",
   "execution_count": 21,
   "metadata": {},
   "outputs": [
    {
     "name": "stdout",
     "output_type": "stream",
     "text": [
      "Start_Time              0\n",
      "Temperature(F)          0\n",
      "Humidity(%)             0\n",
      "Pressure(in)            0\n",
      "Visibility(mi)          0\n",
      "Wind_Direction       2431\n",
      "Wind_Speed(mph)         0\n",
      "Weather_Condition     650\n",
      "Sunrise_Sunset          0\n",
      "Date                    0\n",
      "dtype: int64\n"
     ]
    }
   ],
   "source": [
    "print(filtered_la_accidents.isnull().sum())"
   ]
  },
  {
   "cell_type": "code",
   "execution_count": 22,
   "metadata": {},
   "outputs": [
    {
     "name": "stdout",
     "output_type": "stream",
     "text": [
      "Missing values before imputation:\n",
      "Wind_Direction       0\n",
      "Weather_Condition    0\n",
      "dtype: int64\n",
      "\n",
      "Missing values after imputation:\n",
      "Wind_Direction       0\n",
      "Weather_Condition    0\n",
      "dtype: int64\n"
     ]
    }
   ],
   "source": [
    "from sklearn.impute import KNNImputer\n",
    "import pandas as pd\n",
    "\n",
    "# Define columns\n",
    "categorical_cols = ['Wind_Direction', 'Weather_Condition']\n",
    "\n",
    "# Convert categorical columns to numeric using encoding\n",
    "for col in categorical_cols:\n",
    "    filtered_la_accidents[col] = filtered_la_accidents[col].astype('category').cat.codes\n",
    "\n",
    "# Print the count of missing values before imputation\n",
    "print(\"Missing values before imputation:\")\n",
    "print(filtered_la_accidents[categorical_cols].isnull().sum())\n",
    "\n",
    "# Initialize KNNImputer for categorical columns\n",
    "imputer = KNNImputer(n_neighbors=9) \n",
    "\n",
    "# Extract data for imputation\n",
    "categorical_data = filtered_la_accidents[categorical_cols]\n",
    "imputed_data = imputer.fit_transform(categorical_data)\n",
    "\n",
    "# Create a DataFrame with imputed data\n",
    "imputed_df = pd.DataFrame(imputed_data, columns=categorical_cols, index=filtered_la_accidents.index)\n",
    "\n",
    "# Convert imputed numeric data back to categorical\n",
    "for col in categorical_cols:\n",
    "    original_categories = filtered_la_accidents[col].astype('category').cat.categories\n",
    "    imputed_df[col] = imputed_df[col].round().astype(int)  # Round and convert to int\n",
    "    imputed_df[col] = original_categories[imputed_df[col].clip(lower=0, upper=len(original_categories)-1)]  # Map back to original categories\n",
    "\n",
    "# Replace the original categorical columns with the imputed data\n",
    "filtered_la_accidents[categorical_cols] = imputed_df\n",
    "\n",
    "# Print the count of missing values after imputation\n",
    "print(\"\\nMissing values after imputation:\")\n",
    "print(filtered_la_accidents[categorical_cols].isnull().sum())\n"
   ]
  },
  {
   "cell_type": "code",
   "execution_count": 23,
   "metadata": {},
   "outputs": [
    {
     "name": "stdout",
     "output_type": "stream",
     "text": [
      "Index(['Start_Time', 'Temperature(F)', 'Humidity(%)', 'Pressure(in)',\n",
      "       'Visibility(mi)', 'Wind_Direction', 'Wind_Speed(mph)',\n",
      "       'Weather_Condition', 'Sunrise_Sunset', 'Date', 'Hour', 'Day_of_Week',\n",
      "       'Month', 'Is_Weekend', 'Week_of_Year', 'Year'],\n",
      "      dtype='object')\n"
     ]
    }
   ],
   "source": [
    "filtered_la_accidents.loc[:, 'Hour'] = filtered_la_accidents['Date'].dt.hour\n",
    "filtered_la_accidents.loc[:, 'Day_of_Week'] = filtered_la_accidents['Date'].dt.day_name()\n",
    "filtered_la_accidents.loc[:, 'Month'] = filtered_la_accidents['Date'].dt.month_name()\n",
    "filtered_la_accidents.loc[:, 'Is_Weekend'] = filtered_la_accidents['Date'].dt.dayofweek >= 5\n",
    "filtered_la_accidents.loc[:, 'Week_of_Year'] = filtered_la_accidents['Date'].dt.isocalendar().week\n",
    "filtered_la_accidents.loc[:, 'Year'] = filtered_la_accidents['Date'].dt.year\n",
    "\n",
    "# Display the updated dataframe\n",
    "print(filtered_la_accidents.columns)"
   ]
  },
  {
   "cell_type": "code",
   "execution_count": 24,
   "metadata": {},
   "outputs": [],
   "source": [
    "\n",
    "filtered_la_accidents['Date_only'] = filtered_la_accidents['Date'].dt.date\n",
    "\n",
    "# Group by Date and Hour, and count the number of accidents\n",
    "hourly_accidents = filtered_la_accidents.groupby(['Date_only','Hour']).size().reset_index(name='Accidents')\n",
    "\n"
   ]
  },
  {
   "cell_type": "code",
   "execution_count": 25,
   "metadata": {},
   "outputs": [
    {
     "name": "stdout",
     "output_type": "stream",
     "text": [
      "               Hour     Accidents\n",
      "count  44010.000000  44010.000000\n",
      "mean      11.972529      3.555805\n",
      "std        6.533393      3.303817\n",
      "min        0.000000      1.000000\n",
      "25%        7.000000      1.000000\n",
      "50%       12.000000      3.000000\n",
      "75%       17.000000      5.000000\n",
      "max       23.000000     50.000000\n"
     ]
    }
   ],
   "source": [
    "# Display the aggregated data\n",
    "print(hourly_accidents.describe())"
   ]
  },
  {
   "cell_type": "code",
   "execution_count": 26,
   "metadata": {},
   "outputs": [
    {
     "name": "stdout",
     "output_type": "stream",
     "text": [
      "               Hour  Temperature(F)   Humidity(%)  Pressure(in)  \\\n",
      "count  44010.000000    44010.000000  44010.000000  44010.000000   \n",
      "mean      11.972529       65.307504     62.566455     29.866675   \n",
      "std        6.533393        9.042624     20.024927      0.157295   \n",
      "min        0.000000       37.900000      3.000000     28.860000   \n",
      "25%        7.000000       59.000000     51.000000     29.760000   \n",
      "50%       12.000000       64.900000     66.000000     29.870000   \n",
      "75%       17.000000       71.000000     78.000000     29.970000   \n",
      "max       23.000000      106.000000    100.000000     30.480000   \n",
      "\n",
      "       Visibility(mi)  Wind_Speed(mph)  \n",
      "count    44010.000000     44010.000000  \n",
      "mean         9.116987         3.940862  \n",
      "std          1.837538         3.102305  \n",
      "min          0.103448         0.000000  \n",
      "25%          9.222222         1.000000  \n",
      "50%         10.000000         4.050000  \n",
      "75%         10.000000         5.800000  \n",
      "max         10.000000        32.200000  \n"
     ]
    }
   ],
   "source": [
    "# List of numerical columns to aggregate\n",
    "numerical_columns = ['Temperature(F)', 'Humidity(%)', 'Pressure(in)', 'Visibility(mi)', 'Wind_Speed(mph)']\n",
    "\n",
    "# Aggregate numerical columns by calculating the mean\n",
    "numerical_aggregates = filtered_la_accidents.groupby(['Date_only', 'Hour'])[numerical_columns].mean().reset_index()\n",
    "\n",
    "# Display the aggregated numerical data\n",
    "print(numerical_aggregates.describe())"
   ]
  },
  {
   "cell_type": "code",
   "execution_count": 27,
   "metadata": {},
   "outputs": [],
   "source": [
    "# List of categorical columns to aggregate\n",
    "categorical_columns = ['Weather_Condition', 'Sunrise_Sunset', 'Wind_Direction']\n",
    "\n",
    "# Function to get the most frequent value\n",
    "def get_most_frequent(series):\n",
    "    return series.mode()[0] if not series.mode().empty else None\n",
    "\n",
    "# Aggregate categorical columns by taking the most frequent value\n",
    "categorical_aggregates = filtered_la_accidents.groupby(['Date_only', 'Hour'])[categorical_columns].agg(get_most_frequent).reset_index()\n",
    "\n"
   ]
  },
  {
   "cell_type": "code",
   "execution_count": 28,
   "metadata": {},
   "outputs": [
    {
     "name": "stdout",
     "output_type": "stream",
     "text": [
      "               Hour  Weather_Condition  Wind_Direction\n",
      "count  44010.000000       44010.000000    44010.000000\n",
      "mean      11.972529           5.999546        6.545581\n",
      "std        6.533393           6.935513        9.019508\n",
      "min        0.000000          -1.000000       -1.000000\n",
      "25%        7.000000           0.000000       -1.000000\n",
      "50%       12.000000           5.000000        0.000000\n",
      "75%       17.000000           5.000000       17.000000\n",
      "max       23.000000          29.000000       22.000000\n"
     ]
    }
   ],
   "source": [
    "# Display the aggregated categorical data\n",
    "print(categorical_aggregates.describe())"
   ]
  },
  {
   "cell_type": "code",
   "execution_count": 29,
   "metadata": {},
   "outputs": [
    {
     "name": "stdout",
     "output_type": "stream",
     "text": [
      "    Date_only  Hour Day_of_Week  Month  Is_Weekend  Week_of_Year  Year\n",
      "0  2016-03-22    19     Tuesday  March       False            12  2016\n",
      "1  2016-03-22    20     Tuesday  March       False            12  2016\n",
      "2  2016-03-22    22     Tuesday  March       False            12  2016\n",
      "3  2016-03-23     1   Wednesday  March       False            12  2016\n",
      "4  2016-03-23     2   Wednesday  March       False            12  2016\n"
     ]
    }
   ],
   "source": [
    "# Define additional columns to merge\n",
    "additional_columns = ['Day_of_Week', 'Month', 'Is_Weekend', 'Week_of_Year', 'Year']\n",
    "\n",
    "# Extract the additional columns from the original DataFrame, aggregated by Date and Hour\n",
    "additional_data = filtered_la_accidents.groupby(['Date_only', 'Hour'])[additional_columns].first().reset_index()\n",
    "\n",
    "# Display the additional data\n",
    "print(additional_data.head())"
   ]
  },
  {
   "cell_type": "code",
   "execution_count": 30,
   "metadata": {},
   "outputs": [
    {
     "name": "stdout",
     "output_type": "stream",
     "text": [
      "    Date_only  Hour  Accidents  Temperature(F)  Humidity(%)  Pressure(in)  \\\n",
      "0  2016-03-22    19          1           64.00    24.000000     30.000000   \n",
      "1  2016-03-22    20          2           63.50    24.000000     30.015000   \n",
      "2  2016-03-22    22          2           62.10    29.000000     30.025000   \n",
      "3  2016-03-23     1          3           59.30    32.666667     30.043333   \n",
      "4  2016-03-23     2          2           59.55    32.000000     30.045000   \n",
      "\n",
      "   Visibility(mi)  Wind_Speed(mph)  Weather_Condition Sunrise_Sunset  \\\n",
      "0            10.0             9.20                  0          Night   \n",
      "1            10.0            11.50                  0          Night   \n",
      "2            10.0             8.10                  0          Night   \n",
      "3            10.0             5.40                  0          Night   \n",
      "4            10.0             5.75                  0          Night   \n",
      "\n",
      "   Wind_Direction Day_of_Week  Month  Is_Weekend  Week_of_Year  Year  \n",
      "0               8     Tuesday  March       False            12  2016  \n",
      "1               8     Tuesday  March       False            12  2016  \n",
      "2              10     Tuesday  March       False            12  2016  \n",
      "3               0   Wednesday  March       False            12  2016  \n",
      "4               0   Wednesday  March       False            12  2016  \n"
     ]
    }
   ],
   "source": [
    "# Merge numerical and categorical aggregates with hourly accidents\n",
    "aggregated_data = hourly_accidents.merge(numerical_aggregates, on=['Date_only', 'Hour'])\n",
    "aggregated_data = aggregated_data.merge(categorical_aggregates, on=['Date_only', 'Hour'])\n",
    "aggregated_data = aggregated_data.merge(additional_data, on=['Date_only', 'Hour'])\n",
    "\n",
    "# Display the combined aggregated data\n",
    "print(aggregated_data.head())"
   ]
  },
  {
   "cell_type": "code",
   "execution_count": 31,
   "metadata": {},
   "outputs": [
    {
     "name": "stdout",
     "output_type": "stream",
     "text": [
      "               Hour     Accidents  Temperature(F)   Humidity(%)  Pressure(in)  \\\n",
      "count  44010.000000  44010.000000    44010.000000  44010.000000  44010.000000   \n",
      "mean      11.972529      3.555805       65.307504     62.566455     29.866675   \n",
      "std        6.533393      3.303817        9.042624     20.024927      0.157295   \n",
      "min        0.000000      1.000000       37.900000      3.000000     28.860000   \n",
      "25%        7.000000      1.000000       59.000000     51.000000     29.760000   \n",
      "50%       12.000000      3.000000       64.900000     66.000000     29.870000   \n",
      "75%       17.000000      5.000000       71.000000     78.000000     29.970000   \n",
      "max       23.000000     50.000000      106.000000    100.000000     30.480000   \n",
      "\n",
      "       Visibility(mi)  Wind_Speed(mph)  Weather_Condition  Wind_Direction  \\\n",
      "count    44010.000000     44010.000000       44010.000000    44010.000000   \n",
      "mean         9.116987         3.940862           5.999546        6.545581   \n",
      "std          1.837538         3.102305           6.935513        9.019508   \n",
      "min          0.103448         0.000000          -1.000000       -1.000000   \n",
      "25%          9.222222         1.000000           0.000000       -1.000000   \n",
      "50%         10.000000         4.050000           5.000000        0.000000   \n",
      "75%         10.000000         5.800000           5.000000       17.000000   \n",
      "max         10.000000        32.200000          29.000000       22.000000   \n",
      "\n",
      "       Week_of_Year          Year  \n",
      "count       44010.0  44010.000000  \n",
      "mean      26.577232   2019.239264  \n",
      "std       15.161763      2.032505  \n",
      "min             1.0   2016.000000  \n",
      "25%            13.0   2017.000000  \n",
      "50%            26.0   2019.000000  \n",
      "75%            40.0   2021.000000  \n",
      "max            53.0   2023.000000  \n"
     ]
    }
   ],
   "source": [
    "print(aggregated_data.describe())"
   ]
  },
  {
   "cell_type": "code",
   "execution_count": 32,
   "metadata": {},
   "outputs": [
    {
     "name": "stdout",
     "output_type": "stream",
     "text": [
      "Training set shape: (35208, 14)\n",
      "Test set shape: (8802, 14)\n",
      "Training target shape: (35208,)\n",
      "Test target shape: (8802,)\n"
     ]
    }
   ],
   "source": [
    "from sklearn.model_selection import train_test_split\n",
    "\n",
    "# Prepare features and target\n",
    "features = aggregated_data.drop(columns=['Accidents', 'Date_only'])\n",
    "target = aggregated_data['Accidents']\n",
    "\n",
    "# Split the data into training and test sets\n",
    "X_train, X_test, y_train, y_test = train_test_split(features, target, test_size=0.2, random_state=42)\n",
    "\n",
    "# Print the shapes of the resulting sets to verify\n",
    "print(\"Training set shape:\", X_train.shape)\n",
    "print(\"Test set shape:\", X_test.shape)\n",
    "print(\"Training target shape:\", y_train.shape)\n",
    "print(\"Test target shape:\", y_test.shape)\n"
   ]
  },
  {
   "cell_type": "code",
   "execution_count": 33,
   "metadata": {},
   "outputs": [
    {
     "name": "stdout",
     "output_type": "stream",
     "text": [
      "Index(['Hour', 'Temperature(F)', 'Humidity(%)', 'Pressure(in)',\n",
      "       'Visibility(mi)', 'Wind_Speed(mph)', 'Weather_Condition',\n",
      "       'Sunrise_Sunset', 'Wind_Direction', 'Day_of_Week', 'Month',\n",
      "       'Is_Weekend', 'Week_of_Year', 'Year'],\n",
      "      dtype='object')\n"
     ]
    }
   ],
   "source": [
    "print(features.columns)"
   ]
  },
  {
   "cell_type": "code",
   "execution_count": 36,
   "metadata": {},
   "outputs": [
    {
     "name": "stdout",
     "output_type": "stream",
     "text": [
      "Mean Squared Error (MSE): 9.353980110357048\n",
      "R^2 Score: 0.1617567166374113\n"
     ]
    },
    {
     "data": {
      "image/png": "[encoded data removed]",
      "text/plain": [
       "<Figure size 1000x600 with 1 Axes>"
      ]
     },
     "metadata": {},
     "output_type": "display_data"
    }
   ],
   "source": [
    "from sklearn.preprocessing import OneHotEncoder\n",
    "from sklearn.compose import ColumnTransformer\n",
    "from sklearn.pipeline import Pipeline\n",
    "from sklearn.linear_model import LinearRegression\n",
    "from sklearn.metrics import mean_squared_error, r2_score\n",
    "\n",
    "# Define categorical and numerical columns\n",
    "categorical_cols = ['Hour', 'Weather_Condition', 'Sunrise_Sunset', 'Wind_Direction', 'Day_of_Week', 'Month', 'Is_Weekend', 'Week_of_Year', 'Year']\n",
    "numerical_cols = ['Temperature(F)', 'Humidity(%)', 'Pressure(in)', 'Visibility(mi)', 'Wind_Speed(mph)']\n",
    "\n",
    "# Define preprocessing for categorical and numerical features\n",
    "preprocessor = ColumnTransformer(\n",
    "    transformers=[\n",
    "        ('num', 'passthrough', numerical_cols),  # No scaling or transformation for numerical features\n",
    "        ('cat', OneHotEncoder(handle_unknown='ignore'), categorical_cols)  # One-hot encoding for categorical features\n",
    "    ])\n",
    "\n",
    "# Create the pipeline with preprocessing and the linear regression model\n",
    "pipeline = Pipeline(steps=[\n",
    "    ('preprocessor', preprocessor),\n",
    "    ('regressor', LinearRegression())\n",
    "])\n",
    "\n",
    "# Train the model\n",
    "pipeline.fit(X_train, y_train)\n",
    "\n",
    "# Make predictions on the test set\n",
    "y_pred = pipeline.predict(X_test)\n",
    "\n",
    "# Evaluate the model\n",
    "mse = mean_squared_error(y_test, y_pred)\n",
    "r2 = r2_score(y_test, y_pred)\n",
    "\n",
    "# Print the evaluation metrics\n",
    "print(\"Mean Squared Error (MSE):\", mse)\n",
    "print(\"R^2 Score:\", r2)\n",
    "\n",
    "import matplotlib.pyplot as plt\n",
    "\n",
    "# Plot predictions vs ground truth\n",
    "plt.figure(figsize=(10, 6))\n",
    "plt.scatter(y_test, y_pred, alpha=0.5, color='blue')\n",
    "plt.plot([min(y_test), max(y_test)], [min(y_test), max(y_test)], color='red', linestyle='--')  # Diagonal line\n",
    "plt.xlabel('Ground Truth')\n",
    "plt.ylabel('Predictions')\n",
    "plt.title('Predictions vs Ground Truth')\n",
    "plt.grid(True)\n",
    "plt.show()\n"
   ]
  },
  {
   "cell_type": "code",
   "execution_count": 41,
   "metadata": {},
   "outputs": [],
   "source": [
    "from sklearn.ensemble import RandomForestRegressor\n",
    "from sklearn.pipeline import Pipeline\n",
    "from sklearn.compose import ColumnTransformer\n",
    "from sklearn.preprocessing import OneHotEncoder, StandardScaler\n",
    "from sklearn.impute import SimpleImputer\n",
    "from sklearn.metrics import mean_squared_error, r2_score\n",
    "import matplotlib.pyplot as plt\n",
    "\n",
    "# Define preprocessing for categorical and numerical features\n",
    "preprocessor = ColumnTransformer(\n",
    "    transformers=[\n",
    "        ('num', Pipeline(steps=[\n",
    "            ('imputer', SimpleImputer(strategy='mean')),  # Handle missing values\n",
    "            ('scaler', StandardScaler())  # Scale the features\n",
    "        ]), numerical_cols),\n",
    "        ('cat', OneHotEncoder(handle_unknown='ignore', sparse_output=False), categorical_cols)  # One-hot encoding for categorical features\n",
    "    ])\n",
    "\n",
    "# Create a pipeline with preprocessing and Random Forest Regressor\n",
    "rf_pipeline = Pipeline(steps=[\n",
    "    ('preprocessor', preprocessor),\n",
    "    ('regressor', RandomForestRegressor(n_estimators=100, random_state=42))\n",
    "])\n",
    "\n",
    "# Perform cross-validation\n",
    "cv_scores = cross_val_score(rf_pipeline, features, target, cv=5, scoring='neg_mean_squared_error')\n",
    "\n",
    "# Compute mean of cross-validation scores\n",
    "mean_cv_mse = -cv_scores.mean()\n",
    "print(\"Cross-Validated Mean Squared Error (MSE):\", mean_cv_mse)\n",
    "\n",
    "# Train the Random Forest model on the full training set\n",
    "rf_pipeline.fit(X_train, y_train)\n",
    "\n",
    "# Make predictions on the test set\n",
    "y_pred_rf = rf_pipeline.predict(X_test)\n",
    "\n",
    "# Evaluate the Random Forest model\n",
    "mse_rf = mean_squared_error(y_test, y_pred_rf)\n",
    "r2_rf = r2_score(y_test, y_pred_rf)\n",
    "\n",
    "print(\"Random Forest Regressor MSE:\", mse_rf)\n",
    "print(\"Random Forest Regressor R^2 Score:\", r2_rf)\n",
    "\n",
    "# Plot predictions vs ground truth\n",
    "plt.figure(figsize=(10, 6))\n",
    "plt.scatter(y_test, y_pred_rf, alpha=0.5, color='blue')\n",
    "plt.plot([min(y_test), max(y_test)], [min(y_test), max(y_test)], color='red', linestyle='--')  # Diagonal line\n",
    "plt.xlabel('Ground Truth')\n",
    "plt.ylabel('Predictions')\n",
    "plt.title('Predictions vs Ground Truth')\n",
    "plt.grid(True)\n",
    "plt.show()\n"
   ]
  },
  {
   "cell_type": "code",
   "execution_count": 41,
   "metadata": {},
   "outputs": [
    {
     "name": "stdout",
     "output_type": "stream",
     "text": [
      "Model: \"model_5\"\n",
      "__________________________________________________________________________________________________\n",
      " Layer (type)                   Output Shape         Param #     Connected to                     \n",
      "==================================================================================================\n",
      " Week_of_Year (InputLayer)      [(None, 1)]          0           []                               \n",
      "                                                                                                  \n",
      " Is_Weekend (InputLayer)        [(None, 1)]          0           []                               \n",
      "                                                                                                  \n",
      " Month (InputLayer)             [(None, 1)]          0           []                               \n",
      "                                                                                                  \n",
      " Day_of_Week (InputLayer)       [(None, 1)]          0           []                               \n",
      "                                                                                                  \n",
      " Hour (InputLayer)              [(None, 1)]          0           []                               \n",
      "                                                                                                  \n",
      " Weather_Condition (InputLayer)  [(None, 1)]         0           []                               \n",
      "                                                                                                  \n",
      " Sunrise_Sunset (InputLayer)    [(None, 1)]          0           []                               \n",
      "                                                                                                  \n",
      " Wind_Direction (InputLayer)    [(None, 1)]          0           []                               \n",
      "                                                                                                  \n",
      " embedding_40 (Embedding)       (None, 1, 10)        530         ['Week_of_Year[0][0]']           \n",
      "                                                                                                  \n",
      " embedding_41 (Embedding)       (None, 1, 1)         2           ['Is_Weekend[0][0]']             \n",
      "                                                                                                  \n",
      " embedding_42 (Embedding)       (None, 1, 5)         65          ['Month[0][0]']                  \n",
      "                                                                                                  \n",
      " embedding_43 (Embedding)       (None, 1, 3)         24          ['Day_of_Week[0][0]']            \n",
      "                                                                                                  \n",
      " embedding_44 (Embedding)       (None, 1, 6)         150         ['Hour[0][0]']                   \n",
      "                                                                                                  \n",
      " embedding_45 (Embedding)       (None, 1, 5)         50          ['Weather_Condition[0][0]']      \n",
      "                                                                                                  \n",
      " embedding_46 (Embedding)       (None, 1, 1)         2           ['Sunrise_Sunset[0][0]']         \n",
      "                                                                                                  \n",
      " embedding_47 (Embedding)       (None, 1, 3)         24          ['Wind_Direction[0][0]']         \n",
      "                                                                                                  \n",
      " flatten_45 (Flatten)           (None, 10)           0           ['embedding_40[0][0]']           \n",
      "                                                                                                  \n",
      " flatten_46 (Flatten)           (None, 1)            0           ['embedding_41[0][0]']           \n",
      "                                                                                                  \n",
      " flatten_47 (Flatten)           (None, 5)            0           ['embedding_42[0][0]']           \n",
      "                                                                                                  \n",
      " flatten_48 (Flatten)           (None, 3)            0           ['embedding_43[0][0]']           \n",
      "                                                                                                  \n",
      " flatten_49 (Flatten)           (None, 6)            0           ['embedding_44[0][0]']           \n",
      "                                                                                                  \n",
      " flatten_50 (Flatten)           (None, 5)            0           ['embedding_45[0][0]']           \n",
      "                                                                                                  \n",
      " flatten_51 (Flatten)           (None, 1)            0           ['embedding_46[0][0]']           \n",
      "                                                                                                  \n",
      " flatten_52 (Flatten)           (None, 3)            0           ['embedding_47[0][0]']           \n",
      "                                                                                                  \n",
      " concatenate_10 (Concatenate)   (None, 34)           0           ['flatten_45[0][0]',             \n",
      "                                                                  'flatten_46[0][0]',             \n",
      "                                                                  'flatten_47[0][0]',             \n",
      "                                                                  'flatten_48[0][0]',             \n",
      "                                                                  'flatten_49[0][0]',             \n",
      "                                                                  'flatten_50[0][0]',             \n",
      "                                                                  'flatten_51[0][0]',             \n",
      "                                                                  'flatten_52[0][0]']             \n",
      "                                                                                                  \n",
      " tf.expand_dims_5 (TFOpLambda)  (None, 1, 34)        0           ['concatenate_10[0][0]']         \n",
      "                                                                                                  \n",
      " tf.compat.v1.shape_10 (TFOpLam  (3,)                0           ['tf.expand_dims_5[0][0]']       \n",
      " bda)                                                                                             \n",
      "                                                                                                  \n",
      " tf.compat.v1.shape_11 (TFOpLam  (3,)                0           ['tf.expand_dims_5[0][0]']       \n",
      " bda)                                                                                             \n",
      "                                                                                                  \n",
      " tf.__operators__.getitem_10 (S  ()                  0           ['tf.compat.v1.shape_10[0][0]']  \n",
      " licingOpLambda)                                                                                  \n",
      "                                                                                                  \n",
      " tf.__operators__.getitem_11 (S  ()                  0           ['tf.compat.v1.shape_11[0][0]']  \n",
      " licingOpLambda)                                                                                  \n",
      "                                                                                                  \n",
      " tf.zeros_5 (TFOpLambda)        (None, 9, 34)        0           ['tf.__operators__.getitem_10[0][\n",
      "                                                                 0]',                             \n",
      "                                                                  'tf.__operators__.getitem_11[0][\n",
      "                                                                 0]']                             \n",
      "                                                                                                  \n",
      " concatenate_11 (Concatenate)   (None, 10, 34)       0           ['tf.expand_dims_5[0][0]',       \n",
      "                                                                  'tf.zeros_5[0][0]']             \n",
      "                                                                                                  \n",
      " conv1d_10 (Conv1D)             (None, 8, 64)        6592        ['concatenate_11[0][0]']         \n",
      "                                                                                                  \n",
      " max_pooling1d_10 (MaxPooling1D  (None, 4, 64)       0           ['conv1d_10[0][0]']              \n",
      " )                                                                                                \n",
      "                                                                                                  \n",
      " conv1d_11 (Conv1D)             (None, 2, 128)       24704       ['max_pooling1d_10[0][0]']       \n",
      "                                                                                                  \n",
      " max_pooling1d_11 (MaxPooling1D  (None, 1, 128)      0           ['conv1d_11[0][0]']              \n",
      " )                                                                                                \n",
      "                                                                                                  \n",
      " flatten_53 (Flatten)           (None, 128)          0           ['max_pooling1d_11[0][0]']       \n",
      "                                                                                                  \n",
      " dense_15 (Dense)               (None, 128)          16512       ['flatten_53[0][0]']             \n",
      "                                                                                                  \n",
      " dense_16 (Dense)               (None, 64)           8256        ['dense_15[0][0]']               \n",
      "                                                                                                  \n",
      " dense_17 (Dense)               (None, 1)            65          ['dense_16[0][0]']               \n",
      "                                                                                                  \n",
      "==================================================================================================\n",
      "Total params: 56,976\n",
      "Trainable params: 56,976\n",
      "Non-trainable params: 0\n",
      "__________________________________________________________________________________________________\n"
     ]
    }
   ],
   "source": [
    "import tensorflow as tf\n",
    "from tensorflow.keras.layers import Input, Embedding, Flatten, Dense, Conv1D, MaxPooling1D, Concatenate\n",
    "from tensorflow.keras.models import Model\n",
    "\n",
    "# Define the input for categorical features\n",
    "input_week_of_year = Input(shape=(1,), name='Week_of_Year')\n",
    "input_is_weekend = Input(shape=(1,), name='Is_Weekend')\n",
    "input_month = Input(shape=(1,), name='Month')\n",
    "input_day_of_week = Input(shape=(1,), name='Day_of_Week')\n",
    "input_hour = Input(shape=(1,), name='Hour')\n",
    "input_weather_condition = Input(shape=(1,), name='Weather_Condition')\n",
    "input_sunrise_sunset = Input(shape=(1,), name='Sunrise_Sunset')\n",
    "input_wind_direction = Input(shape=(1,), name='Wind_Direction')\n",
    "\n",
    "# Define the embedding layers for high-cardinality features\n",
    "embedding_week_of_year = Embedding(input_dim=53, output_dim=10)(input_week_of_year)\n",
    "embedding_is_weekend = Embedding(input_dim=2, output_dim=1)(input_is_weekend)\n",
    "embedding_month = Embedding(input_dim=13, output_dim=5)(input_month)\n",
    "embedding_day_of_week = Embedding(input_dim=8, output_dim=3)(input_day_of_week)\n",
    "embedding_hour = Embedding(input_dim=25, output_dim=6)(input_hour)\n",
    "embedding_weather_condition = Embedding(input_dim=10, output_dim=5)(input_weather_condition)\n",
    "embedding_sunrise_sunset = Embedding(input_dim=2, output_dim=1)(input_sunrise_sunset)\n",
    "embedding_wind_direction = Embedding(input_dim=8, output_dim=3)(input_wind_direction)\n",
    "\n",
    "# Flatten the embeddings\n",
    "flatten_week_of_year = Flatten()(embedding_week_of_year)\n",
    "flatten_is_weekend = Flatten()(embedding_is_weekend)\n",
    "flatten_month = Flatten()(embedding_month)\n",
    "flatten_day_of_week = Flatten()(embedding_day_of_week)\n",
    "flatten_hour = Flatten()(embedding_hour)\n",
    "flatten_weather_condition = Flatten()(embedding_weather_condition)\n",
    "flatten_sunrise_sunset = Flatten()(embedding_sunrise_sunset)\n",
    "flatten_wind_direction = Flatten()(embedding_wind_direction)\n",
    "\n",
    "# Concatenate all the features\n",
    "concatenated_features = Concatenate()([flatten_week_of_year, flatten_is_weekend, flatten_month, flatten_day_of_week, flatten_hour, flatten_weather_condition, flatten_sunrise_sunset, flatten_wind_direction])\n",
    "\n",
    "# Reshape for 1D convolution\n",
    "sequence_length = 10  # Adjust this based on the number of features after concatenation\n",
    "reshaped_features = tf.expand_dims(concatenated_features, axis=1)\n",
    "\n",
    "# Ensure reshaped_features has sufficient sequence length\n",
    "# For example, pad or repeat if needed to increase the sequence length\n",
    "reshaped_features = tf.keras.layers.Concatenate(axis=1)([reshaped_features, tf.zeros((tf.shape(reshaped_features)[0], sequence_length - 1, tf.shape(reshaped_features)[-1]))])\n",
    "\n",
    "# Apply 1D convolutional layers\n",
    "conv1 = Conv1D(filters=64, kernel_size=3, activation='relu')(reshaped_features)\n",
    "pool1 = MaxPooling1D(pool_size=2)(conv1)\n",
    "conv2 = Conv1D(filters=128, kernel_size=3, activation='relu')(pool1)\n",
    "pool2 = MaxPooling1D(pool_size=2)(conv2)\n",
    "\n",
    "# Flatten and dense layers\n",
    "flattened_conv = Flatten()(pool2)\n",
    "dense1 = Dense(128, activation='relu')(flattened_conv)\n",
    "dense2 = Dense(64, activation='relu')(dense1)\n",
    "output = Dense(1)(dense2)  # No activation function for regression\n",
    "\n",
    "# Define the model\n",
    "model = Model(inputs=[input_week_of_year, input_is_weekend, input_month, input_day_of_week, input_hour, input_weather_condition, input_sunrise_sunset, input_wind_direction], outputs=output)\n",
    "\n",
    "# Compile the model\n",
    "model.compile(optimizer='adam', loss='mean_squared_error', metrics=['mean_squared_error'])\n",
    "\n",
    "\n",
    "# Summary of the model\n",
    "model.summary()\n"
   ]
  },
  {
   "cell_type": "code",
   "execution_count": 43,
   "metadata": {},
   "outputs": [
    {
     "name": "stdout",
     "output_type": "stream",
     "text": [
      "Epoch 1/10\n"
     ]
    },
    {
     "ename": "ValueError",
     "evalue": "in user code:\n\n    File \"c:\\Users\\bonis\\miniconda3\\envs\\dsi_participant\\lib\\site-packages\\keras\\engine\\training.py\", line 1160, in train_function  *\n        return step_function(self, iterator)\n    File \"c:\\Users\\bonis\\miniconda3\\envs\\dsi_participant\\lib\\site-packages\\keras\\engine\\training.py\", line 1146, in step_function  **\n        outputs = model.distribute_strategy.run(run_step, args=(data,))\n    File \"c:\\Users\\bonis\\miniconda3\\envs\\dsi_participant\\lib\\site-packages\\keras\\engine\\training.py\", line 1135, in run_step  **\n        outputs = model.train_step(data)\n    File \"c:\\Users\\bonis\\miniconda3\\envs\\dsi_participant\\lib\\site-packages\\keras\\engine\\training.py\", line 993, in train_step\n        y_pred = self(x, training=True)\n    File \"c:\\Users\\bonis\\miniconda3\\envs\\dsi_participant\\lib\\site-packages\\keras\\utils\\traceback_utils.py\", line 70, in error_handler\n        raise e.with_traceback(filtered_tb) from None\n    File \"c:\\Users\\bonis\\miniconda3\\envs\\dsi_participant\\lib\\site-packages\\keras\\engine\\input_spec.py\", line 216, in assert_input_compatibility\n        raise ValueError(\n\n    ValueError: Layer \"model_5\" expects 8 input(s), but it received 1 input tensors. Inputs received: [<tf.Tensor 'IteratorGetNext:0' shape=(None, 155) dtype=float32>]\n",
     "output_type": "error",
     "traceback": [
      "\u001b[1;31m---------------------------------------------------------------------------\u001b[0m",
      "\u001b[1;31mValueError\u001b[0m                                Traceback (most recent call last)",
      "Cell \u001b[1;32mIn[43], line 35\u001b[0m\n\u001b[0;32m     32\u001b[0m X_train, X_test, y_train, y_test \u001b[38;5;241m=\u001b[39m train_test_split(X_processed, y, test_size\u001b[38;5;241m=\u001b[39m\u001b[38;5;241m0.2\u001b[39m, random_state\u001b[38;5;241m=\u001b[39m\u001b[38;5;241m42\u001b[39m)\n\u001b[0;32m     34\u001b[0m \u001b[38;5;66;03m# Fit the model\u001b[39;00m\n\u001b[1;32m---> 35\u001b[0m history \u001b[38;5;241m=\u001b[39m \u001b[43mmodel\u001b[49m\u001b[38;5;241;43m.\u001b[39;49m\u001b[43mfit\u001b[49m\u001b[43m(\u001b[49m\n\u001b[0;32m     36\u001b[0m \u001b[43m    \u001b[49m\u001b[43mX_train\u001b[49m\u001b[43m,\u001b[49m\n\u001b[0;32m     37\u001b[0m \u001b[43m    \u001b[49m\u001b[43my_train\u001b[49m\u001b[43m,\u001b[49m\n\u001b[0;32m     38\u001b[0m \u001b[43m    \u001b[49m\u001b[43mepochs\u001b[49m\u001b[38;5;241;43m=\u001b[39;49m\u001b[38;5;241;43m10\u001b[39;49m\u001b[43m,\u001b[49m\u001b[43m  \u001b[49m\u001b[38;5;66;43;03m# Adjust epochs as needed\u001b[39;49;00m\n\u001b[0;32m     39\u001b[0m \u001b[43m    \u001b[49m\u001b[43mbatch_size\u001b[49m\u001b[38;5;241;43m=\u001b[39;49m\u001b[38;5;241;43m32\u001b[39;49m\u001b[43m,\u001b[49m\n\u001b[0;32m     40\u001b[0m \u001b[43m    \u001b[49m\u001b[43mvalidation_data\u001b[49m\u001b[38;5;241;43m=\u001b[39;49m\u001b[43m(\u001b[49m\u001b[43mX_test\u001b[49m\u001b[43m,\u001b[49m\u001b[43m \u001b[49m\u001b[43my_test\u001b[49m\u001b[43m)\u001b[49m\u001b[43m,\u001b[49m\u001b[43m  \u001b[49m\u001b[38;5;66;43;03m# Provide validation data directly\u001b[39;49;00m\n\u001b[0;32m     41\u001b[0m \u001b[43m    \u001b[49m\u001b[43mverbose\u001b[49m\u001b[38;5;241;43m=\u001b[39;49m\u001b[38;5;241;43m1\u001b[39;49m\n\u001b[0;32m     42\u001b[0m \u001b[43m)\u001b[49m\n\u001b[0;32m     44\u001b[0m \u001b[38;5;66;03m# Evaluate the model\u001b[39;00m\n\u001b[0;32m     45\u001b[0m test_loss \u001b[38;5;241m=\u001b[39m model\u001b[38;5;241m.\u001b[39mevaluate(X_test, y_test, verbose\u001b[38;5;241m=\u001b[39m\u001b[38;5;241m1\u001b[39m)\n",
      "File \u001b[1;32mc:\\Users\\bonis\\miniconda3\\envs\\dsi_participant\\lib\\site-packages\\keras\\utils\\traceback_utils.py:70\u001b[0m, in \u001b[0;36mfilter_traceback.<locals>.error_handler\u001b[1;34m(*args, **kwargs)\u001b[0m\n\u001b[0;32m     67\u001b[0m     filtered_tb \u001b[38;5;241m=\u001b[39m _process_traceback_frames(e\u001b[38;5;241m.\u001b[39m__traceback__)\n\u001b[0;32m     68\u001b[0m     \u001b[38;5;66;03m# To get the full stack trace, call:\u001b[39;00m\n\u001b[0;32m     69\u001b[0m     \u001b[38;5;66;03m# `tf.debugging.disable_traceback_filtering()`\u001b[39;00m\n\u001b[1;32m---> 70\u001b[0m     \u001b[38;5;28;01mraise\u001b[39;00m e\u001b[38;5;241m.\u001b[39mwith_traceback(filtered_tb) \u001b[38;5;28;01mfrom\u001b[39;00m \u001b[38;5;28;01mNone\u001b[39;00m\n\u001b[0;32m     71\u001b[0m \u001b[38;5;28;01mfinally\u001b[39;00m:\n\u001b[0;32m     72\u001b[0m     \u001b[38;5;28;01mdel\u001b[39;00m filtered_tb\n",
      "File \u001b[1;32m~\\AppData\\Local\\Temp\\__autograph_generated_filet19c6xa8.py:15\u001b[0m, in \u001b[0;36mouter_factory.<locals>.inner_factory.<locals>.tf__train_function\u001b[1;34m(iterator)\u001b[0m\n\u001b[0;32m     13\u001b[0m \u001b[38;5;28;01mtry\u001b[39;00m:\n\u001b[0;32m     14\u001b[0m     do_return \u001b[38;5;241m=\u001b[39m \u001b[38;5;28;01mTrue\u001b[39;00m\n\u001b[1;32m---> 15\u001b[0m     retval_ \u001b[38;5;241m=\u001b[39m ag__\u001b[38;5;241m.\u001b[39mconverted_call(ag__\u001b[38;5;241m.\u001b[39mld(step_function), (ag__\u001b[38;5;241m.\u001b[39mld(\u001b[38;5;28mself\u001b[39m), ag__\u001b[38;5;241m.\u001b[39mld(iterator)), \u001b[38;5;28;01mNone\u001b[39;00m, fscope)\n\u001b[0;32m     16\u001b[0m \u001b[38;5;28;01mexcept\u001b[39;00m:\n\u001b[0;32m     17\u001b[0m     do_return \u001b[38;5;241m=\u001b[39m \u001b[38;5;28;01mFalse\u001b[39;00m\n",
      "\u001b[1;31mValueError\u001b[0m: in user code:\n\n    File \"c:\\Users\\bonis\\miniconda3\\envs\\dsi_participant\\lib\\site-packages\\keras\\engine\\training.py\", line 1160, in train_function  *\n        return step_function(self, iterator)\n    File \"c:\\Users\\bonis\\miniconda3\\envs\\dsi_participant\\lib\\site-packages\\keras\\engine\\training.py\", line 1146, in step_function  **\n        outputs = model.distribute_strategy.run(run_step, args=(data,))\n    File \"c:\\Users\\bonis\\miniconda3\\envs\\dsi_participant\\lib\\site-packages\\keras\\engine\\training.py\", line 1135, in run_step  **\n        outputs = model.train_step(data)\n    File \"c:\\Users\\bonis\\miniconda3\\envs\\dsi_participant\\lib\\site-packages\\keras\\engine\\training.py\", line 993, in train_step\n        y_pred = self(x, training=True)\n    File \"c:\\Users\\bonis\\miniconda3\\envs\\dsi_participant\\lib\\site-packages\\keras\\utils\\traceback_utils.py\", line 70, in error_handler\n        raise e.with_traceback(filtered_tb) from None\n    File \"c:\\Users\\bonis\\miniconda3\\envs\\dsi_participant\\lib\\site-packages\\keras\\engine\\input_spec.py\", line 216, in assert_input_compatibility\n        raise ValueError(\n\n    ValueError: Layer \"model_5\" expects 8 input(s), but it received 1 input tensors. Inputs received: [<tf.Tensor 'IteratorGetNext:0' shape=(None, 155) dtype=float32>]\n"
     ]
    }
   ],
   "source": [
    "from sklearn.preprocessing import StandardScaler, OneHotEncoder\n",
    "from sklearn.compose import ColumnTransformer\n",
    "from sklearn.pipeline import Pipeline\n",
    "\n",
    "# Identify categorical columns for encoding\n",
    "categorical_cols = ['Week_of_Year', 'Is_Weekend', 'Month', 'Day_of_Week', 'Hour', 'Weather_Condition', 'Sunrise_Sunset', 'Wind_Direction']\n",
    "numeric_cols = ['Temperature(F)', 'Humidity(%)', 'Pressure(in)', 'Visibility(mi)', 'Wind_Speed(mph)']\n",
    "\n",
    "# Define transformers for numeric and categorical features\n",
    "numeric_transformer = StandardScaler()\n",
    "categorical_transformer = OneHotEncoder(handle_unknown='ignore')\n",
    "\n",
    "# Create column transformer with specified transformers\n",
    "preprocessor = ColumnTransformer(\n",
    "    transformers=[\n",
    "        ('num', numeric_transformer, numeric_cols),\n",
    "        ('cat', categorical_transformer, categorical_cols)\n",
    "    ])\n",
    "\n",
    "# Apply transformations\n",
    "X = aggregated_data.drop(columns=['Accidents','Date_only'])\n",
    "y = aggregated_data['Accidents']\n",
    "\n",
    "# Apply preprocessing\n",
    "X_processed = preprocessor.fit_transform(X)\n",
    "# Convert sparse matrix to dense matrix\n",
    "X_processed = X_processed.toarray()\n",
    "\n",
    "# Split the data into training and testing sets\n",
    "from sklearn.model_selection import train_test_split\n",
    "\n",
    "X_train, X_test, y_train, y_test = train_test_split(X_processed, y, test_size=0.2, random_state=42)\n",
    "\n",
    "# Fit the model\n",
    "history = model.fit(\n",
    "    X_train,\n",
    "    y_train,\n",
    "    epochs=10,  # Adjust epochs as needed\n",
    "    batch_size=32,\n",
    "    validation_data=(X_test, y_test),  # Provide validation data directly\n",
    "    verbose=1\n",
    ")\n",
    "\n",
    "# Evaluate the model\n",
    "test_loss = model.evaluate(X_test, y_test, verbose=1)\n",
    "\n",
    "# Predict and calculate Mean Squared Error\n",
    "y_pred = model.predict(X_test)\n",
    "mse = mean_squared_error(y_test, y_pred)\n",
    "\n",
    "# Print test loss and Mean Squared Error\n",
    "print(f\"Test Loss (MSE): {test_loss[0]}\")\n",
    "print(f\"Test Mean Squared Error: {mse}\")\n",
    "\n",
    "\n"
   ]
  },
  {
   "cell_type": "code",
   "execution_count": 1,
   "metadata": {},
   "outputs": [],
   "source": [
    "import pandas as pd\n",
    "from sklearn.impute import KNNImputer\n",
    "from sklearn.model_selection import train_test_split\n",
    "from sklearn.preprocessing import StandardScaler, OneHotEncoder\n",
    "from sklearn.compose import ColumnTransformer\n",
    "from sklearn.pipeline import Pipeline\n",
    "from sklearn.ensemble import RandomForestRegressor\n",
    "from sklearn.metrics import mean_squared_error\n",
    "\n",
    "# Load data\n",
    "la_accidents = pd.read_csv(\"../data/processed/LA_Accidents.csv\")\n",
    "\n",
    "# Data preprocessing\n",
    "columns_to_keep = [\n",
    "    'Start_Time', 'Temperature(F)', 'Humidity(%)', 'Pressure(in)', 'Visibility(mi)', \n",
    "    'Wind_Direction', 'Wind_Speed(mph)', 'Weather_Condition', 'Sunrise_Sunset'\n",
    "]\n",
    "filtered_la_accidents = la_accidents[columns_to_keep].copy()\n",
    "filtered_la_accidents['Date'] = pd.to_datetime(filtered_la_accidents['Start_Time'], format=\"mixed\")\n",
    "\n",
    "# Impute missing values\n",
    "numerical_cols = ['Temperature(F)', 'Humidity(%)', 'Pressure(in)', 'Visibility(mi)', 'Wind_Speed(mph)']\n",
    "data_for_imputation = filtered_la_accidents[numerical_cols]\n",
    "imputer = KNNImputer(n_neighbors=3)\n",
    "imputed_data = imputer.fit_transform(data_for_imputation)\n",
    "imputed_df = pd.DataFrame(imputed_data, columns=numerical_cols, index=filtered_la_accidents.index)\n",
    "filtered_la_accidents[numerical_cols] = imputed_df\n",
    "\n",
    "categorical_cols = ['Wind_Direction', 'Weather_Condition']\n",
    "for col in categorical_cols:\n",
    "    filtered_la_accidents[col] = filtered_la_accidents[col].astype('category').cat.codes\n",
    "\n",
    "imputer = KNNImputer(n_neighbors=9)\n",
    "categorical_data = filtered_la_accidents[categorical_cols]\n",
    "imputed_data = imputer.fit_transform(categorical_data)\n",
    "imputed_df = pd.DataFrame(imputed_data, columns=categorical_cols, index=filtered_la_accidents.index)\n",
    "for col in categorical_cols:\n",
    "    original_categories = filtered_la_accidents[col].astype('category').cat.categories\n",
    "    imputed_df[col] = imputed_df[col].round().astype(int)\n",
    "    imputed_df[col] = original_categories[imputed_df[col].clip(lower=0, upper=len(original_categories)-1)]\n",
    "filtered_la_accidents[categorical_cols] = imputed_df\n",
    "\n",
    "filtered_la_accidents['Hour'] = filtered_la_accidents['Date'].dt.hour\n",
    "filtered_la_accidents['Day_of_Week'] = filtered_la_accidents['Date'].dt.day_name()\n",
    "filtered_la_accidents['Month'] = filtered_la_accidents['Date'].dt.month_name()\n",
    "filtered_la_accidents['Is_Weekend'] = filtered_la_accidents['Date'].dt.dayofweek >= 5\n",
    "filtered_la_accidents['Week_of_Year'] = filtered_la_accidents['Date'].dt.isocalendar().week\n",
    "filtered_la_accidents['Year'] = filtered_la_accidents['Date'].dt.year\n",
    "\n"
   ]
  },
  {
   "cell_type": "code",
   "execution_count": 2,
   "metadata": {},
   "outputs": [],
   "source": [
    "\n",
    "# Aggregate data\n",
    "filtered_la_accidents['Date_only'] = filtered_la_accidents['Date'].dt.date\n",
    "hourly_accidents = filtered_la_accidents.groupby(['Date_only','Hour']).size().reset_index(name='Accidents')\n",
    "numerical_columns = ['Temperature(F)', 'Humidity(%)', 'Pressure(in)', 'Visibility(mi)', 'Wind_Speed(mph)']\n",
    "numerical_aggregates = filtered_la_accidents.groupby(['Date_only', 'Hour'])[numerical_columns].mean().reset_index()\n",
    "categorical_columns = ['Weather_Condition', 'Sunrise_Sunset', 'Wind_Direction']\n",
    "def get_most_frequent(series):\n",
    "    return series.mode()[0] if not series.mode().empty else None\n",
    "categorical_aggregates = filtered_la_accidents.groupby(['Date_only', 'Hour'])[categorical_columns].agg(get_most_frequent).reset_index()\n",
    "additional_columns = ['Day_of_Week', 'Month', 'Is_Weekend', 'Week_of_Year']\n",
    "additional_data = filtered_la_accidents.groupby(['Date_only', 'Hour'])[additional_columns].first().reset_index()\n",
    "aggregated_data = hourly_accidents.merge(numerical_aggregates, on=['Date_only', 'Hour'])\n",
    "aggregated_data = aggregated_data.merge(categorical_aggregates, on=['Date_only', 'Hour'])\n",
    "aggregated_data = aggregated_data.merge(additional_data, on=['Date_only', 'Hour'])\n",
    "aggregated_data = aggregated_data.drop(columns=['Date_only'])\n",
    "\n",
    "\n"
   ]
  },
  {
   "cell_type": "code",
   "execution_count": 3,
   "metadata": {},
   "outputs": [],
   "source": [
    "# Define predictors and target\n",
    "categorical_cols = ['Week_of_Year', 'Is_Weekend', 'Month', 'Day_of_Week', 'Hour', 'Weather_Condition', 'Sunrise_Sunset', 'Wind_Direction']\n",
    "numeric_cols = ['Temperature(F)', 'Humidity(%)', 'Pressure(in)', 'Visibility(mi)', 'Wind_Speed(mph)']\n",
    "target_col = 'Accidents'\n",
    "X = aggregated_data[categorical_cols + numeric_cols]\n",
    "y = aggregated_data[target_col]\n",
    "\n",
    "# Train/test split\n",
    "X_train, X_test, y_train, y_test = train_test_split(X, y, test_size=0.2, random_state=42)\n"
   ]
  },
  {
   "cell_type": "code",
   "execution_count": 5,
   "metadata": {},
   "outputs": [],
   "source": [
    "# Preprocessing and model pipeline\n",
    "numeric_transformer = StandardScaler()\n",
    "categorical_transformer = OneHotEncoder(handle_unknown='ignore')\n",
    "preprocessor = ColumnTransformer(\n",
    "    transformers=[\n",
    "        ('num', numeric_transformer, numeric_cols),\n",
    "        ('cat', categorical_transformer, categorical_cols)\n",
    "    ])\n",
    "model = Pipeline(steps=[\n",
    "    ('preprocessor', preprocessor),\n",
    "    ('regressor', RandomForestRegressor(n_estimators=100, random_state=42))\n",
    "])\n",
    "history = model.fit(X_train, y_train)\n"
   ]
  },
  {
   "cell_type": "code",
   "execution_count": 8,
   "metadata": {},
   "outputs": [
    {
     "name": "stdout",
     "output_type": "stream",
     "text": [
      "Mean Squared Error: 7.24\n"
     ]
    },
    {
     "data": {
      "image/png": "[encoded data removed]",
      "text/plain": [
       "<Figure size 1000x600 with 1 Axes>"
      ]
     },
     "metadata": {},
     "output_type": "display_data"
    }
   ],
   "source": [
    "import matplotlib.pyplot as plt\n",
    "from sklearn.metrics import mean_squared_error\n",
    "# Evaluate model\n",
    "y_pred = model.predict(X_test)\n",
    "mse = mean_squared_error(y_test, y_pred)\n",
    "print(f\"Mean Squared Error: {mse:.2f}\")\n",
    "\n",
    "# Plot predictions vs ground truth\n",
    "plt.figure(figsize=(10, 6))\n",
    "plt.scatter(y_test, y_pred, alpha=0.5, color='blue')\n",
    "plt.plot([y_test.min(), y_test.max()], [y_test.min(), y_test.max()], 'r--', lw=2)  # Line of perfect prediction\n",
    "plt.xlabel('Ground Truth')\n",
    "plt.ylabel('Predictions')\n",
    "plt.title('Predictions vs Ground Truth')\n",
    "plt.grid(True)\n",
    "plt.show()"
   ]
  }
 ],
 "metadata": {
  "kernelspec": {
   "display_name": "dsi_participant",
   "language": "python",
   "name": "python3"
  },
  "language_info": {
   "codemirror_mode": {
    "name": "ipython",
    "version": 3
   },
   "file_extension": ".py",
   "mimetype": "text/x-python",
   "name": "python",
   "nbconvert_exporter": "python",
   "pygments_lexer": "ipython3",
   "version": "3.9.15"
  }
 },
 "nbformat": 4,
 "nbformat_minor": 2
}
