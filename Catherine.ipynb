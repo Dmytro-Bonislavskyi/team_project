{
 "cells": [
  {
   "cell_type": "code",
   "execution_count": 1,
   "metadata": {},
   "outputs": [],
   "source": [
    "import pandas as pd\n",
    "from sklearn.model_selection import KFold, cross_val_score\n",
    "from sklearn.linear_model import LinearRegression\n",
    "from sklearn.preprocessing import StandardScaler\n",
    "import numpy as np"
   ]
  },
  {
   "cell_type": "code",
   "execution_count": 2,
   "metadata": {},
   "outputs": [
    {
     "name": "stdout",
     "output_type": "stream",
     "text": [
      "     Accident_Date  Severity  Temperature(F) Weather_Condition  Humidity(%)  \\\n",
      "0       2016-03-22  2.400000       63.040000             Clear    26.000000   \n",
      "1       2016-03-23  2.529412       68.491176             Clear    29.794118   \n",
      "2       2016-03-24  2.485294       68.372059             Clear    33.544118   \n",
      "3       2016-03-25  2.533333       65.831111             Clear    56.088889   \n",
      "4       2016-03-26  2.736842       64.394737             Clear    70.631579   \n",
      "...            ...       ...             ...               ...          ...   \n",
      "2488    2023-03-27  2.000000       62.089888              Fair    28.528090   \n",
      "2489    2023-03-28  2.000000       61.981982              Fair    37.765766   \n",
      "2490    2023-03-29  2.014706       52.264706              Rain    80.794118   \n",
      "2491    2023-03-30  2.000000       51.096774            Cloudy    75.322581   \n",
      "2492    2023-03-31  2.000000       60.051282              Fair    57.076923   \n",
      "\n",
      "      Pressure(in)  Visibility(mi)  Wind_Speed(mph)  Precipitation(in)  \n",
      "0        30.016000       10.000000         9.680000           0.003435  \n",
      "1        30.114559       10.000000         5.885718           0.003435  \n",
      "2        30.008235        9.870588         5.265365           0.003435  \n",
      "3        29.824444       10.000000         4.864368           0.003435  \n",
      "4        29.853158        9.842105         6.060947           0.003435  \n",
      "...            ...             ...              ...                ...  \n",
      "2488     29.928764       10.000000         4.189271           0.000000  \n",
      "2489     29.881351       10.000000         4.720721           0.000000  \n",
      "2490     29.748897        5.183824         6.529412           0.073015  \n",
      "2491     29.758172        8.451613         3.322581           0.044086  \n",
      "2492     29.999231       10.000000         5.000000           0.000000  \n",
      "\n",
      "[2493 rows x 9 columns]\n"
     ]
    }
   ],
   "source": [
    "# Load the dataset\n",
    "file_path = 'Los_Angeles_Accidents_2016_2023.csv'\n",
    "data = pd.read_csv(file_path)\n",
    "print(data)"
   ]
  },
  {
   "cell_type": "code",
   "execution_count": 3,
   "metadata": {},
   "outputs": [],
   "source": [
    "# set x and y\n",
    "X = data[['Severity', 'Temperature(F)', 'Weather_Condition', 'Humidity(%)', 'Pressure(in)', 'Visibility(mi)', 'Wind_Speed(mph)', 'Precipitation(in)']]\n",
    "y = data['Accident_Date']"
   ]
  },
  {
   "cell_type": "code",
   "execution_count": 4,
   "metadata": {},
   "outputs": [],
   "source": [
    "# Encoding 'Weather_Condition' if it is categorical\n",
    "if X['Weather_Condition'].dtype == 'object':\n",
    "    X = pd.get_dummies(X, columns=['Weather_Condition'], drop_first=True)"
   ]
  },
  {
   "cell_type": "code",
   "execution_count": 5,
   "metadata": {},
   "outputs": [],
   "source": [
    "# Convert 'Accident_Date' to numeric (e.g., timestamp) if necessary\n",
    "y = pd.to_datetime(y).astype(int) / 10**9  # convert to seconds since epoch"
   ]
  },
  {
   "cell_type": "code",
   "execution_count": 6,
   "metadata": {},
   "outputs": [],
   "source": [
    "# Scale the features\n",
    "scaler = StandardScaler()\n",
    "X_scaled = scaler.fit_transform(X)"
   ]
  },
  {
   "cell_type": "code",
   "execution_count": 7,
   "metadata": {},
   "outputs": [],
   "source": [
    "# Set up the model\n",
    "model = LinearRegression()"
   ]
  },
  {
   "cell_type": "code",
   "execution_count": 8,
   "metadata": {},
   "outputs": [
    {
     "name": "stdout",
     "output_type": "stream",
     "text": [
      "R² Scores: [0.72844574 0.77585511 0.74732849 0.7625664  0.76109573 0.75057881\n",
      " 0.76712748 0.78327673 0.73139319 0.73492519]\n",
      "Mean R² Score: 0.7542592861341765\n",
      "Mean R² Score Standard: 0.01792850731622789\n"
     ]
    }
   ],
   "source": [
    "# Perform K-Fold Cross-Validation\n",
    "kf = KFold(n_splits=10, shuffle=True, random_state=42)\n",
    "cv_scores = cross_val_score(model, X_scaled, y, cv=kf, scoring='r2')\n",
    "print(f\"R² Scores: {cv_scores}\")\n",
    "print(f\"Mean R² Score: {cv_scores.mean()}\")\n",
    "print(f\"Mean R² Score Standard: {cv_scores.std()}\")"
   ]
  },
  {
   "cell_type": "markdown",
   "metadata": {},
   "source": [
    "Summary: The mean R² score of approximately 0.75 suggests that the model explains about 75% of the variance in Accident by Date based on the given features. The relatively low standard deviation indicates consistent performance across the folds."
   ]
  }
 ],
 "metadata": {
  "kernelspec": {
   "display_name": "Python 3",
   "language": "python",
   "name": "python3"
  },
  "language_info": {
   "codemirror_mode": {
    "name": "ipython",
    "version": 3
   },
   "file_extension": ".py",
   "mimetype": "text/x-python",
   "name": "python",
   "nbconvert_exporter": "python",
   "pygments_lexer": "ipython3",
   "version": "3.9.13"
  }
 },
 "nbformat": 4,
 "nbformat_minor": 2
}
