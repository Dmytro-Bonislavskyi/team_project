{
 "cells": [
  {
   "cell_type": "code",
   "execution_count": 61,
   "metadata": {},
   "outputs": [],
   "source": [
    "import pandas as pd\n",
    "from sklearn.model_selection import KFold, cross_val_predict\n",
    "from sklearn.linear_model import PoissonRegressor\n",
    "from sklearn.preprocessing import StandardScaler\n",
    "from sklearn.compose import ColumnTransformer\n",
    "from sklearn.pipeline import Pipeline\n",
    "from scipy import stats"
   ]
  },
  {
   "cell_type": "code",
   "execution_count": 62,
   "metadata": {},
   "outputs": [
    {
     "name": "stdout",
     "output_type": "stream",
     "text": [
      "     Accident_Date  Severity  Temperature(F) Weather_Condition  Humidity(%)  \\\n",
      "0       2016-03-22  2.400000       63.040000             Clear    26.000000   \n",
      "1       2016-03-23  2.529412       68.491176             Clear    29.794118   \n",
      "2       2016-03-24  2.485294       68.372059             Clear    33.544118   \n",
      "3       2016-03-25  2.533333       65.831111             Clear    56.088889   \n",
      "4       2016-03-26  2.736842       64.394737             Clear    70.631579   \n",
      "...            ...       ...             ...               ...          ...   \n",
      "2488    2023-03-27  2.000000       62.089888              Fair    28.528090   \n",
      "2489    2023-03-28  2.000000       61.981982              Fair    37.765766   \n",
      "2490    2023-03-29  2.014706       52.264706              Rain    80.794118   \n",
      "2491    2023-03-30  2.000000       51.096774            Cloudy    75.322581   \n",
      "2492    2023-03-31  2.000000       60.051282              Fair    57.076923   \n",
      "\n",
      "      Pressure(in)  Visibility(mi)  Wind_Speed(mph)  Precipitation(in)  \\\n",
      "0        30.016000       10.000000         9.680000           0.003435   \n",
      "1        30.114559       10.000000         5.885718           0.003435   \n",
      "2        30.008235        9.870588         5.265365           0.003435   \n",
      "3        29.824444       10.000000         4.864368           0.003435   \n",
      "4        29.853158        9.842105         6.060947           0.003435   \n",
      "...            ...             ...              ...                ...   \n",
      "2488     29.928764       10.000000         4.189271           0.000000   \n",
      "2489     29.881351       10.000000         4.720721           0.000000   \n",
      "2490     29.748897        5.183824         6.529412           0.073015   \n",
      "2491     29.758172        8.451613         3.322581           0.044086   \n",
      "2492     29.999231       10.000000         5.000000           0.000000   \n",
      "\n",
      "      total_accidents  \n",
      "0                   5  \n",
      "1                  68  \n",
      "2                  68  \n",
      "3                  45  \n",
      "4                  19  \n",
      "...               ...  \n",
      "2488               89  \n",
      "2489              111  \n",
      "2490              136  \n",
      "2491               93  \n",
      "2492               39  \n",
      "\n",
      "[2493 rows x 10 columns]\n"
     ]
    }
   ],
   "source": [
    "# Load the dataset\n",
    "file_path = 'Los_Angeles_Accidents_2016_2023.csv'\n",
    "data = pd.read_csv(file_path)\n",
    "print(data)"
   ]
  },
  {
   "cell_type": "code",
   "execution_count": 63,
   "metadata": {},
   "outputs": [],
   "source": [
    "# set x and y\n",
    "X = data[['Severity', 'Temperature(F)', 'Weather_Condition', 'Humidity(%)', 'Pressure(in)', 'Visibility(mi)', 'Wind_Speed(mph)', 'Precipitation(in)']]\n",
    "y = data['total_accidents']"
   ]
  },
  {
   "cell_type": "code",
   "execution_count": 64,
   "metadata": {},
   "outputs": [],
   "source": [
    "# Encoding 'Weather_Condition' if it is categorical\n",
    "if X['Weather_Condition'].dtype == 'object':\n",
    "    X = pd.get_dummies(X, columns=['Weather_Condition'], drop_first=True)"
   ]
  },
  {
   "cell_type": "code",
   "execution_count": 65,
   "metadata": {},
   "outputs": [],
   "source": [
    "# Update the OneHotEncoder to handle unknown categories\n",
    "preprocessor = ColumnTransformer(\n",
    "    transformers=[\n",
    "        ('num', StandardScaler(), ['Severity', 'Temperature(F)', 'Humidity(%)', 'Pressure(in)', 'Visibility(mi)', 'Wind_Speed(mph)', 'Precipitation(in)']),\n",
    "    ],\n",
    ")"
   ]
  },
  {
   "cell_type": "code",
   "execution_count": 66,
   "metadata": {},
   "outputs": [],
   "source": [
    "# Define the updated model pipeline\n",
    "model = Pipeline(steps=[\n",
    "    ('preprocessor', preprocessor),\n",
    "    ('regressor', PoissonRegressor())\n",
    "])"
   ]
  },
  {
   "cell_type": "code",
   "execution_count": 67,
   "metadata": {},
   "outputs": [],
   "source": [
    "# Set up KFold cross-validation\n",
    "kf = KFold(n_splits=10, shuffle=True, random_state=42)"
   ]
  },
  {
   "cell_type": "code",
   "execution_count": 68,
   "metadata": {},
   "outputs": [],
   "source": [
    "# Perform cross-validation and get predictions\n",
    "predictions = cross_val_predict(model, X, y, cv=kf)"
   ]
  },
  {
   "cell_type": "code",
   "execution_count": 69,
   "metadata": {},
   "outputs": [],
   "source": [
    "# Calculate residuals\n",
    "residuals = y - predictions"
   ]
  },
  {
   "cell_type": "code",
   "execution_count": 70,
   "metadata": {},
   "outputs": [],
   "source": [
    "# Perform a t-test on the residuals\n",
    "t_stat, p_value = stats.ttest_1samp(residuals, 0)"
   ]
  },
  {
   "cell_type": "code",
   "execution_count": 71,
   "metadata": {},
   "outputs": [
    {
     "name": "stdout",
     "output_type": "stream",
     "text": [
      "T-Test Statistic: 0.0005040337276877388\n",
      "P-Value: 0.9995978796307401\n"
     ]
    }
   ],
   "source": [
    "print(\"T-Test Statistic:\", t_stat)\n",
    "print(\"P-Value:\", p_value)"
   ]
  },
  {
   "cell_type": "markdown",
   "metadata": {},
   "source": [
    "T-Test Statistic: The t-test statistic is very close to zero 0.000184. This indicates that the mean of the residuals is very close to zero, suggesting that, on average, the predictions are quite accurate.\n",
    "\n",
    "P-Value: The p-value is 0.999853, which is very high and much greater than the typical significance level (e.g., 0.05). This indicates a very high probability that the observed data could occur under the null hypothesis, suggesting that there is no significant deviation of the residuals' mean from zero.\n",
    "\n",
    "Summary\n",
    "Model Performance: The high p-value and near-zero t-statistic indicate that the Poisson regression model's predictions are unbiased on average. The model's residuals do not significantly differ from zero, implying that the model does not systematically overpredict or underpredict the total number of accidents.\n",
    "\n",
    "Model Adequacy: Given the t-test result, we conclude that the model is performing adequately. The prediction errors are normally distributed around zero, suggesting that the model fits the data well in terms of not having a significant bias in predictions."
   ]
  }
 ],
 "metadata": {
  "kernelspec": {
   "display_name": "Python 3",
   "language": "python",
   "name": "python3"
  },
  "language_info": {
   "codemirror_mode": {
    "name": "ipython",
    "version": 3
   },
   "file_extension": ".py",
   "mimetype": "text/x-python",
   "name": "python",
   "nbconvert_exporter": "python",
   "pygments_lexer": "ipython3",
   "version": "3.9.15"
  }
 },
 "nbformat": 4,
 "nbformat_minor": 2
}
