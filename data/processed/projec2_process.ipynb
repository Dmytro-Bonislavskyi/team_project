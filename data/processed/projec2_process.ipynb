{
 "cells": [
  {
   "cell_type": "markdown",
   "metadata": {},
   "source": [
    "# Dataset #\n",
    "\n",
    "- Location: https://www.kaggle.com/datasets/sobhanmoosavi/us-accidents\n",
    "- Subject: US Accidents between 2016 and 2023"
   ]
  },
  {
   "cell_type": "markdown",
   "metadata": {},
   "source": [
    "# Problem to Solve #\n",
    "\n",
    "1. Problem 1: Given the weather forecast information create a model that will predict how many accidents will happen.\n",
    "    - Reason: predict how many accidents will happen allows the local emergency services plan ahead \n",
    "\n",
    "2. Problem 2: Given the weather forecast information create a model that will predict the total impact for that day.\n",
    "    - Note: impact = duration of the problems caused by the accidents\n",
    "    - Reason: impact means that people was stuck on trafic loosing productive time. Reduce the number of accidents can increse the overal productivity of the population by reducing time-wated "
   ]
  },
  {
   "cell_type": "code",
   "execution_count": 1,
   "metadata": {},
   "outputs": [],
   "source": [
    "import pandas as pd\n",
    "import numpy as np\n",
    "from sklearn.impute import KNNImputer"
   ]
  },
  {
   "cell_type": "code",
   "execution_count": 2,
   "metadata": {},
   "outputs": [],
   "source": [
    "# load the dataset\n",
    "accidents = pd.read_csv(\"../raw/US_Accidents_March23.csv\")"
   ]
  },
  {
   "cell_type": "code",
   "execution_count": 3,
   "metadata": {},
   "outputs": [
    {
     "name": "stdout",
     "output_type": "stream",
     "text": [
      "(7728394, 46)\n"
     ]
    },
    {
     "data": {
      "text/html": [
       "<div>\n",
       "<style scoped>\n",
       "    .dataframe tbody tr th:only-of-type {\n",
       "        vertical-align: middle;\n",
       "    }\n",
       "\n",
       "    .dataframe tbody tr th {\n",
       "        vertical-align: top;\n",
       "    }\n",
       "\n",
       "    .dataframe thead th {\n",
       "        text-align: right;\n",
       "    }\n",
       "</style>\n",
       "<table border=\"1\" class=\"dataframe\">\n",
       "  <thead>\n",
       "    <tr style=\"text-align: right;\">\n",
       "      <th></th>\n",
       "      <th>ID</th>\n",
       "      <th>Source</th>\n",
       "      <th>Severity</th>\n",
       "      <th>Start_Time</th>\n",
       "      <th>End_Time</th>\n",
       "      <th>Start_Lat</th>\n",
       "      <th>Start_Lng</th>\n",
       "      <th>End_Lat</th>\n",
       "      <th>End_Lng</th>\n",
       "      <th>Distance(mi)</th>\n",
       "      <th>...</th>\n",
       "      <th>Roundabout</th>\n",
       "      <th>Station</th>\n",
       "      <th>Stop</th>\n",
       "      <th>Traffic_Calming</th>\n",
       "      <th>Traffic_Signal</th>\n",
       "      <th>Turning_Loop</th>\n",
       "      <th>Sunrise_Sunset</th>\n",
       "      <th>Civil_Twilight</th>\n",
       "      <th>Nautical_Twilight</th>\n",
       "      <th>Astronomical_Twilight</th>\n",
       "    </tr>\n",
       "  </thead>\n",
       "  <tbody>\n",
       "    <tr>\n",
       "      <th>0</th>\n",
       "      <td>A-1</td>\n",
       "      <td>Source2</td>\n",
       "      <td>3</td>\n",
       "      <td>2016-02-08 05:46:00</td>\n",
       "      <td>2016-02-08 11:00:00</td>\n",
       "      <td>39.865147</td>\n",
       "      <td>-84.058723</td>\n",
       "      <td>NaN</td>\n",
       "      <td>NaN</td>\n",
       "      <td>0.01</td>\n",
       "      <td>...</td>\n",
       "      <td>False</td>\n",
       "      <td>False</td>\n",
       "      <td>False</td>\n",
       "      <td>False</td>\n",
       "      <td>False</td>\n",
       "      <td>False</td>\n",
       "      <td>Night</td>\n",
       "      <td>Night</td>\n",
       "      <td>Night</td>\n",
       "      <td>Night</td>\n",
       "    </tr>\n",
       "    <tr>\n",
       "      <th>1</th>\n",
       "      <td>A-2</td>\n",
       "      <td>Source2</td>\n",
       "      <td>2</td>\n",
       "      <td>2016-02-08 06:07:59</td>\n",
       "      <td>2016-02-08 06:37:59</td>\n",
       "      <td>39.928059</td>\n",
       "      <td>-82.831184</td>\n",
       "      <td>NaN</td>\n",
       "      <td>NaN</td>\n",
       "      <td>0.01</td>\n",
       "      <td>...</td>\n",
       "      <td>False</td>\n",
       "      <td>False</td>\n",
       "      <td>False</td>\n",
       "      <td>False</td>\n",
       "      <td>False</td>\n",
       "      <td>False</td>\n",
       "      <td>Night</td>\n",
       "      <td>Night</td>\n",
       "      <td>Night</td>\n",
       "      <td>Day</td>\n",
       "    </tr>\n",
       "    <tr>\n",
       "      <th>2</th>\n",
       "      <td>A-3</td>\n",
       "      <td>Source2</td>\n",
       "      <td>2</td>\n",
       "      <td>2016-02-08 06:49:27</td>\n",
       "      <td>2016-02-08 07:19:27</td>\n",
       "      <td>39.063148</td>\n",
       "      <td>-84.032608</td>\n",
       "      <td>NaN</td>\n",
       "      <td>NaN</td>\n",
       "      <td>0.01</td>\n",
       "      <td>...</td>\n",
       "      <td>False</td>\n",
       "      <td>False</td>\n",
       "      <td>False</td>\n",
       "      <td>False</td>\n",
       "      <td>True</td>\n",
       "      <td>False</td>\n",
       "      <td>Night</td>\n",
       "      <td>Night</td>\n",
       "      <td>Day</td>\n",
       "      <td>Day</td>\n",
       "    </tr>\n",
       "    <tr>\n",
       "      <th>3</th>\n",
       "      <td>A-4</td>\n",
       "      <td>Source2</td>\n",
       "      <td>3</td>\n",
       "      <td>2016-02-08 07:23:34</td>\n",
       "      <td>2016-02-08 07:53:34</td>\n",
       "      <td>39.747753</td>\n",
       "      <td>-84.205582</td>\n",
       "      <td>NaN</td>\n",
       "      <td>NaN</td>\n",
       "      <td>0.01</td>\n",
       "      <td>...</td>\n",
       "      <td>False</td>\n",
       "      <td>False</td>\n",
       "      <td>False</td>\n",
       "      <td>False</td>\n",
       "      <td>False</td>\n",
       "      <td>False</td>\n",
       "      <td>Night</td>\n",
       "      <td>Day</td>\n",
       "      <td>Day</td>\n",
       "      <td>Day</td>\n",
       "    </tr>\n",
       "    <tr>\n",
       "      <th>4</th>\n",
       "      <td>A-5</td>\n",
       "      <td>Source2</td>\n",
       "      <td>2</td>\n",
       "      <td>2016-02-08 07:39:07</td>\n",
       "      <td>2016-02-08 08:09:07</td>\n",
       "      <td>39.627781</td>\n",
       "      <td>-84.188354</td>\n",
       "      <td>NaN</td>\n",
       "      <td>NaN</td>\n",
       "      <td>0.01</td>\n",
       "      <td>...</td>\n",
       "      <td>False</td>\n",
       "      <td>False</td>\n",
       "      <td>False</td>\n",
       "      <td>False</td>\n",
       "      <td>True</td>\n",
       "      <td>False</td>\n",
       "      <td>Day</td>\n",
       "      <td>Day</td>\n",
       "      <td>Day</td>\n",
       "      <td>Day</td>\n",
       "    </tr>\n",
       "  </tbody>\n",
       "</table>\n",
       "<p>5 rows × 46 columns</p>\n",
       "</div>"
      ],
      "text/plain": [
       "    ID   Source  Severity           Start_Time             End_Time  \\\n",
       "0  A-1  Source2         3  2016-02-08 05:46:00  2016-02-08 11:00:00   \n",
       "1  A-2  Source2         2  2016-02-08 06:07:59  2016-02-08 06:37:59   \n",
       "2  A-3  Source2         2  2016-02-08 06:49:27  2016-02-08 07:19:27   \n",
       "3  A-4  Source2         3  2016-02-08 07:23:34  2016-02-08 07:53:34   \n",
       "4  A-5  Source2         2  2016-02-08 07:39:07  2016-02-08 08:09:07   \n",
       "\n",
       "   Start_Lat  Start_Lng  End_Lat  End_Lng  Distance(mi)  ... Roundabout  \\\n",
       "0  39.865147 -84.058723      NaN      NaN          0.01  ...      False   \n",
       "1  39.928059 -82.831184      NaN      NaN          0.01  ...      False   \n",
       "2  39.063148 -84.032608      NaN      NaN          0.01  ...      False   \n",
       "3  39.747753 -84.205582      NaN      NaN          0.01  ...      False   \n",
       "4  39.627781 -84.188354      NaN      NaN          0.01  ...      False   \n",
       "\n",
       "  Station   Stop Traffic_Calming Traffic_Signal Turning_Loop Sunrise_Sunset  \\\n",
       "0   False  False           False          False        False          Night   \n",
       "1   False  False           False          False        False          Night   \n",
       "2   False  False           False           True        False          Night   \n",
       "3   False  False           False          False        False          Night   \n",
       "4   False  False           False           True        False            Day   \n",
       "\n",
       "  Civil_Twilight Nautical_Twilight Astronomical_Twilight  \n",
       "0          Night             Night                 Night  \n",
       "1          Night             Night                   Day  \n",
       "2          Night               Day                   Day  \n",
       "3            Day               Day                   Day  \n",
       "4            Day               Day                   Day  \n",
       "\n",
       "[5 rows x 46 columns]"
      ]
     },
     "execution_count": 3,
     "metadata": {},
     "output_type": "execute_result"
    }
   ],
   "source": [
    "print (accidents.shape)\n",
    "accidents.head()"
   ]
  },
  {
   "cell_type": "markdown",
   "metadata": {},
   "source": [
    "# What Infor is Not Related to the Problem? #\n",
    "\n",
    "1. Location Coordinates (Lat / Log)\n",
    "    - End_Lat\n",
    "    - End_Lng\n",
    "    - Street\n",
    "\n",
    "2. General Information about the accident\n",
    "    - source: Source of raw accident data\n",
    "    - ID: This is a unique identifier of the accident record.\n",
    "    - description: hows a human provided description of the accident.\n",
    "    - Country\n",
    "    - Timezone\n",
    "    - Airport_Code\n",
    "\n",
    "\n",
    "3. Sunset - Twilight variations - Sunrise\n",
    "    - Civil_Twilight: Shows the period of day (i.e. day or night) based on civil twilight.\n",
    "    - Nautical_Twilight: Shows the period of day (i.e. day or night) based on nautical twilight.\n",
    "    - Astronomical_Twilight: Shows the period of day (i.e. day or night) based on astronomical twilight.\n",
    "\n",
    "        - Civil Twilight: This phase begins when the Sun is less than 6 degrees below the horizon. In the morning, it starts before sunrise, and in the evening, it begins at sunset. Civil twilight is the brightest form of twilight, providing enough natural sunlight for outdoor activities without artificial light. It’s often used for aviation, hunting, and street lighting regulations1.\n",
    "        - Nautical Twilight: Occurring when the Sun is between 6 and 12 degrees below the horizon, nautical twilight is less bright than civil twilight. During this phase, artificial light is generally needed for outdoor activities. Nautical twilight has historical significance for sailors who used stars to navigate the seas. It’s also relevant for military planning1.\n",
    "        - Astronomical Twilight: This phase happens when the Sun is between 12 and 18 degrees below the horizon. It’s the darkest form of twilight. Astronomers use it to define dawn and dusk. During astronomical twilight, celestial objects become visible, and the horizon remains clear. It’s essential for stargazing and astronomical observations\n",
    "\n",
    "4. Miscelaneous\n",
    "    - Zipcode\n"
   ]
  },
  {
   "cell_type": "markdown",
   "metadata": {},
   "source": [
    "# Useful Infomratio for the Problem #\n",
    "\n",
    "1. Accident Location\n",
    "    - City\n",
    "    - County\n",
    "    - State\n",
    "\n",
    "2. Impact of the accident\n",
    "    - New Column: Duration (End_Time - Start_Time)\n",
    "        - Start_time: Shows start time of the accident in local time zone.\n",
    "        - End_Time: Shows end time of the accident in local time zone. End time here refers to when the impact of accident on traffic flow was dismissed.\n",
    "    - Severity: Shows the severity of the accident, a number between 1 and 4, where 1 indicates the least impact on traffic (i.e., short delay as a result of the accident) and 4 indicates a significant impact on traffic (i.e., long delay).\n",
    "    - Distance(mi): The length of the road extent affected by the accident in miles.\n",
    "\n",
    "3. Accident Date and Accidcent Time\n",
    "    - New Column -> Accident_Date (hh:00:00 -> start_time without date)\n",
    "    - New Column -> Accident_Time (yyyy-mm-dd -> start_time without hour)\n",
    "    - New Column -> is_weekend: True / False (calculated as: accident_weekday > 4)\n",
    "    - New Column -> is_holiday: True / False\n",
    "    - New Column -> accident_weekday: day of the week of the accident (0: Monday to 6: Sunday)\n",
    "    - Start_Time: Shows start time of the accident in local time zone.\n",
    "    - End_Time: Shows end time of the accident in local time zone. End time here refers to when the impact of accident on traffic flow was dismissed.\n",
    "   \n",
    "4. Weather Information\n",
    "\n",
    "    - Weather_Timestamp: Shows the time-stamp of weather observation record (in local time).\n",
    "    - Temperature(F)\n",
    "    - Wind_Chill(F)\n",
    "    - Humidity(%)\n",
    "    - Pressure(in)\n",
    "    - Visibility(mi): Shows visibility (in miles).\n",
    "    - Wind_Direction\n",
    "    - Wind_Speed(mph)\n",
    "    - Precipitation(in)\n",
    "    - Weather_Condition: Shows the weather condition (rain, snow, thunderstorm, fog, etc.)\n",
    "\n",
    "5. Points of Interest\n",
    "    -  Amenity: A POI annotation which indicates presence of amenity in a nearby location.\n",
    "    - Bump: A POI annotation which indicates presence of speed bump or hump in a nearby location.\n",
    "    -  Crossing: A POI annotation which indicates presence of crossing in a nearby location.\n",
    "    - Give_away: A POI annotation which indicates presence of give_way in a nearby location\n",
    "    - Junction: A POI annotation which indicates presence of junction in a nearby location.\n",
    "    - No_Exit: A POI annotation which indicates presence of no_exit in a nearby location.\n",
    "    - Railway: A POI annotation which indicates presence of railway in a nearby location.\n",
    "    - Roundabout: A POI annotation which indicates presence of roundabout in a nearby location.\n",
    "    - Station: A POI annotation which indicates presence of station in a nearby location.\n",
    "    - Stop: A POI annotation which indicates presence of stop in a nearby location.\n",
    "    - Traffic_Calming: A POI annotation which indicates presence of traffic_calming in a nearby location.\n",
    "    - Traffic_Signal: A POI annotation which indicates presence of traffic_signal in a nearby location.\n",
    "    - Turning_Loop: A POI annotation which indicates presence of turning_loop in a nearby location.\n",
    "\n",
    "6. Day Night\n",
    "    - sunrise_sunset"
   ]
  },
  {
   "cell_type": "code",
   "execution_count": 4,
   "metadata": {},
   "outputs": [
    {
     "data": {
      "text/plain": [
       "(156491, 46)"
      ]
     },
     "execution_count": 4,
     "metadata": {},
     "output_type": "execute_result"
    }
   ],
   "source": [
    "# create a new DataFrame with accidents from Los Angeles\n",
    "accidents_temp = pd.DataFrame(accidents.loc[(accidents.City == 'Los Angeles')])\n",
    "accidents_temp.shape\n"
   ]
  },
  {
   "cell_type": "code",
   "execution_count": 5,
   "metadata": {},
   "outputs": [
    {
     "data": {
      "text/html": [
       "<div>\n",
       "<style scoped>\n",
       "    .dataframe tbody tr th:only-of-type {\n",
       "        vertical-align: middle;\n",
       "    }\n",
       "\n",
       "    .dataframe tbody tr th {\n",
       "        vertical-align: top;\n",
       "    }\n",
       "\n",
       "    .dataframe thead th {\n",
       "        text-align: right;\n",
       "    }\n",
       "</style>\n",
       "<table border=\"1\" class=\"dataframe\">\n",
       "  <thead>\n",
       "    <tr style=\"text-align: right;\">\n",
       "      <th></th>\n",
       "      <th>Severity</th>\n",
       "      <th>Start_Time</th>\n",
       "      <th>End_Time</th>\n",
       "      <th>Start_Lat</th>\n",
       "      <th>Start_Lng</th>\n",
       "      <th>Distance(mi)</th>\n",
       "      <th>City</th>\n",
       "      <th>County</th>\n",
       "      <th>State</th>\n",
       "      <th>Weather_Timestamp</th>\n",
       "      <th>...</th>\n",
       "      <th>Junction</th>\n",
       "      <th>No_Exit</th>\n",
       "      <th>Railway</th>\n",
       "      <th>Roundabout</th>\n",
       "      <th>Station</th>\n",
       "      <th>Stop</th>\n",
       "      <th>Traffic_Calming</th>\n",
       "      <th>Traffic_Signal</th>\n",
       "      <th>Turning_Loop</th>\n",
       "      <th>Sunrise_Sunset</th>\n",
       "    </tr>\n",
       "  </thead>\n",
       "  <tbody>\n",
       "    <tr>\n",
       "      <th>42866</th>\n",
       "      <td>2</td>\n",
       "      <td>2016-06-21 10:46:30</td>\n",
       "      <td>2016-06-21 11:27:00</td>\n",
       "      <td>34.078926</td>\n",
       "      <td>-118.289040</td>\n",
       "      <td>0.0</td>\n",
       "      <td>Los Angeles</td>\n",
       "      <td>Los Angeles</td>\n",
       "      <td>CA</td>\n",
       "      <td>2016-06-21 10:47:00</td>\n",
       "      <td>...</td>\n",
       "      <td>True</td>\n",
       "      <td>False</td>\n",
       "      <td>False</td>\n",
       "      <td>False</td>\n",
       "      <td>False</td>\n",
       "      <td>False</td>\n",
       "      <td>False</td>\n",
       "      <td>False</td>\n",
       "      <td>False</td>\n",
       "      <td>Day</td>\n",
       "    </tr>\n",
       "    <tr>\n",
       "      <th>42867</th>\n",
       "      <td>3</td>\n",
       "      <td>2016-06-21 10:49:21</td>\n",
       "      <td>2016-06-21 11:34:21</td>\n",
       "      <td>34.091179</td>\n",
       "      <td>-118.239471</td>\n",
       "      <td>0.0</td>\n",
       "      <td>Los Angeles</td>\n",
       "      <td>Los Angeles</td>\n",
       "      <td>CA</td>\n",
       "      <td>2016-06-21 10:47:00</td>\n",
       "      <td>...</td>\n",
       "      <td>False</td>\n",
       "      <td>False</td>\n",
       "      <td>False</td>\n",
       "      <td>False</td>\n",
       "      <td>False</td>\n",
       "      <td>False</td>\n",
       "      <td>False</td>\n",
       "      <td>False</td>\n",
       "      <td>False</td>\n",
       "      <td>Day</td>\n",
       "    </tr>\n",
       "    <tr>\n",
       "      <th>42881</th>\n",
       "      <td>3</td>\n",
       "      <td>2016-06-21 10:51:45</td>\n",
       "      <td>2016-06-21 11:36:45</td>\n",
       "      <td>34.037239</td>\n",
       "      <td>-118.309074</td>\n",
       "      <td>0.0</td>\n",
       "      <td>Los Angeles</td>\n",
       "      <td>Los Angeles</td>\n",
       "      <td>CA</td>\n",
       "      <td>2016-06-21 10:47:00</td>\n",
       "      <td>...</td>\n",
       "      <td>False</td>\n",
       "      <td>False</td>\n",
       "      <td>False</td>\n",
       "      <td>False</td>\n",
       "      <td>True</td>\n",
       "      <td>False</td>\n",
       "      <td>False</td>\n",
       "      <td>False</td>\n",
       "      <td>False</td>\n",
       "      <td>Day</td>\n",
       "    </tr>\n",
       "    <tr>\n",
       "      <th>42883</th>\n",
       "      <td>3</td>\n",
       "      <td>2016-06-21 10:56:24</td>\n",
       "      <td>2016-06-21 11:34:00</td>\n",
       "      <td>34.027458</td>\n",
       "      <td>-118.274490</td>\n",
       "      <td>0.0</td>\n",
       "      <td>Los Angeles</td>\n",
       "      <td>Los Angeles</td>\n",
       "      <td>CA</td>\n",
       "      <td>2016-06-21 10:47:00</td>\n",
       "      <td>...</td>\n",
       "      <td>False</td>\n",
       "      <td>False</td>\n",
       "      <td>False</td>\n",
       "      <td>False</td>\n",
       "      <td>False</td>\n",
       "      <td>False</td>\n",
       "      <td>False</td>\n",
       "      <td>False</td>\n",
       "      <td>False</td>\n",
       "      <td>Day</td>\n",
       "    </tr>\n",
       "    <tr>\n",
       "      <th>42898</th>\n",
       "      <td>3</td>\n",
       "      <td>2016-06-21 11:30:46</td>\n",
       "      <td>2016-06-21 12:00:46</td>\n",
       "      <td>33.947544</td>\n",
       "      <td>-118.279434</td>\n",
       "      <td>0.0</td>\n",
       "      <td>Los Angeles</td>\n",
       "      <td>Los Angeles</td>\n",
       "      <td>CA</td>\n",
       "      <td>2016-06-21 11:53:00</td>\n",
       "      <td>...</td>\n",
       "      <td>False</td>\n",
       "      <td>False</td>\n",
       "      <td>False</td>\n",
       "      <td>False</td>\n",
       "      <td>False</td>\n",
       "      <td>False</td>\n",
       "      <td>False</td>\n",
       "      <td>False</td>\n",
       "      <td>False</td>\n",
       "      <td>Day</td>\n",
       "    </tr>\n",
       "  </tbody>\n",
       "</table>\n",
       "<p>5 rows × 33 columns</p>\n",
       "</div>"
      ],
      "text/plain": [
       "       Severity           Start_Time             End_Time  Start_Lat  \\\n",
       "42866         2  2016-06-21 10:46:30  2016-06-21 11:27:00  34.078926   \n",
       "42867         3  2016-06-21 10:49:21  2016-06-21 11:34:21  34.091179   \n",
       "42881         3  2016-06-21 10:51:45  2016-06-21 11:36:45  34.037239   \n",
       "42883         3  2016-06-21 10:56:24  2016-06-21 11:34:00  34.027458   \n",
       "42898         3  2016-06-21 11:30:46  2016-06-21 12:00:46  33.947544   \n",
       "\n",
       "        Start_Lng  Distance(mi)         City       County State  \\\n",
       "42866 -118.289040           0.0  Los Angeles  Los Angeles    CA   \n",
       "42867 -118.239471           0.0  Los Angeles  Los Angeles    CA   \n",
       "42881 -118.309074           0.0  Los Angeles  Los Angeles    CA   \n",
       "42883 -118.274490           0.0  Los Angeles  Los Angeles    CA   \n",
       "42898 -118.279434           0.0  Los Angeles  Los Angeles    CA   \n",
       "\n",
       "         Weather_Timestamp  ...  Junction  No_Exit  Railway  Roundabout  \\\n",
       "42866  2016-06-21 10:47:00  ...      True    False    False       False   \n",
       "42867  2016-06-21 10:47:00  ...     False    False    False       False   \n",
       "42881  2016-06-21 10:47:00  ...     False    False    False       False   \n",
       "42883  2016-06-21 10:47:00  ...     False    False    False       False   \n",
       "42898  2016-06-21 11:53:00  ...     False    False    False       False   \n",
       "\n",
       "       Station   Stop  Traffic_Calming  Traffic_Signal Turning_Loop  \\\n",
       "42866    False  False            False           False        False   \n",
       "42867    False  False            False           False        False   \n",
       "42881     True  False            False           False        False   \n",
       "42883    False  False            False           False        False   \n",
       "42898    False  False            False           False        False   \n",
       "\n",
       "       Sunrise_Sunset  \n",
       "42866             Day  \n",
       "42867             Day  \n",
       "42881             Day  \n",
       "42883             Day  \n",
       "42898             Day  \n",
       "\n",
       "[5 rows x 33 columns]"
      ]
     },
     "execution_count": 5,
     "metadata": {},
     "output_type": "execute_result"
    }
   ],
   "source": [
    "#############################################################################\n",
    "# drop the columns that will not be used\n",
    "#############################################################################\n",
    "\n",
    "# 'End_Lat','End_Lng'\n",
    "# 'source','ID','description','Country','Timezone','Airport_Code'\n",
    "# 'Civil_Twilight','Nautical_Twilight','Astronomical_Twilight'\n",
    "# 'Zipcode'\n",
    "\n",
    "\n",
    "accidents_temp.drop(columns=['End_Lat','End_Lng','Street'], inplace=True)\n",
    "accidents_temp.drop(columns=['Source','ID','Description','Country','Timezone','Airport_Code'], inplace=True)\n",
    "accidents_temp.drop(columns=['Civil_Twilight','Nautical_Twilight','Astronomical_Twilight'], inplace=True)                            \n",
    "accidents_temp.drop(columns=['Zipcode'], inplace=True) \n",
    "\n",
    "accidents_temp.shape\n",
    "\n",
    "accidents_temp.head()"
   ]
  },
  {
   "cell_type": "code",
   "execution_count": 6,
   "metadata": {},
   "outputs": [
    {
     "data": {
      "text/plain": [
       "Severity                 0\n",
       "Start_Time               0\n",
       "End_Time                 0\n",
       "Start_Lat                0\n",
       "Start_Lng                0\n",
       "Distance(mi)             0\n",
       "City                     0\n",
       "County                   0\n",
       "State                    0\n",
       "Weather_Timestamp      470\n",
       "Temperature(F)        1105\n",
       "Wind_Chill(F)        52064\n",
       "Humidity(%)           1180\n",
       "Pressure(in)           965\n",
       "Visibility(mi)         684\n",
       "Wind_Direction        2431\n",
       "Wind_Speed(mph)      23989\n",
       "Precipitation(in)    47471\n",
       "Weather_Condition      650\n",
       "Amenity                  0\n",
       "Bump                     0\n",
       "Crossing                 0\n",
       "Give_Way                 0\n",
       "Junction                 0\n",
       "No_Exit                  0\n",
       "Railway                  0\n",
       "Roundabout               0\n",
       "Station                  0\n",
       "Stop                     0\n",
       "Traffic_Calming          0\n",
       "Traffic_Signal           0\n",
       "Turning_Loop             0\n",
       "Sunrise_Sunset           0\n",
       "dtype: int64"
      ]
     },
     "execution_count": 6,
     "metadata": {},
     "output_type": "execute_result"
    }
   ],
   "source": [
    "#################################################################\n",
    "# Solving Missing Data Points from Data Frame\n",
    "#################################################################\n",
    "\n",
    "missing_values_count = accidents_temp.isnull().sum()\n",
    "\n",
    "missing_values_count[0:]"
   ]
  },
  {
   "cell_type": "code",
   "execution_count": 7,
   "metadata": {},
   "outputs": [
    {
     "data": {
      "text/plain": [
       "Weather_Timestamp      470\n",
       "Temperature(F)        1105\n",
       "Wind_Chill(F)        52064\n",
       "Humidity(%)           1180\n",
       "Pressure(in)           965\n",
       "Visibility(mi)         684\n",
       "Wind_Direction        2431\n",
       "Wind_Speed(mph)      23989\n",
       "Precipitation(in)    47471\n",
       "Weather_Condition      650\n",
       "dtype: int64"
      ]
     },
     "execution_count": 7,
     "metadata": {},
     "output_type": "execute_result"
    }
   ],
   "source": [
    "missing_values_count [missing_values_count[0:] != 0]"
   ]
  },
  {
   "cell_type": "code",
   "execution_count": 8,
   "metadata": {},
   "outputs": [],
   "source": [
    "accidents_temp.Start_Time = pd.to_datetime(accidents_temp.Start_Time , format = \"mixed\")"
   ]
  },
  {
   "cell_type": "code",
   "execution_count": 9,
   "metadata": {},
   "outputs": [],
   "source": [
    "\n",
    "# Accident Date (no hour)\n",
    "accidents_temp['Accident_Date'] = accidents_temp.Start_Time.dt.date\n"
   ]
  },
  {
   "cell_type": "code",
   "execution_count": 10,
   "metadata": {},
   "outputs": [
    {
     "data": {
      "text/plain": [
       "42866      1\n",
       "42867      1\n",
       "42881      1\n",
       "42883      1\n",
       "42898      1\n",
       "          ..\n",
       "7727947    3\n",
       "7728357    4\n",
       "7728361    4\n",
       "7728364    4\n",
       "7728376    4\n",
       "Name: accidnet_weekday, Length: 156491, dtype: int32"
      ]
     },
     "execution_count": 10,
     "metadata": {},
     "output_type": "execute_result"
    }
   ],
   "source": [
    "\n",
    "accidents_temp['accidnet_weekday'] = accidents_temp.Start_Time.dt.weekday\n",
    "accidents_temp['accidnet_weekday']\n",
    "\n",
    "# 0: Monday\n",
    "# 1: Tuesday\n",
    "# 2: Wednesday\n",
    "# 3: Thursday\n",
    "# 4: Friday\n",
    "# 5: Saturday\n",
    "# 6: Sunday\n"
   ]
  },
  {
   "cell_type": "code",
   "execution_count": 11,
   "metadata": {},
   "outputs": [
    {
     "data": {
      "text/plain": [
       "is_weekend\n",
       "False    121480\n",
       "True      35011\n",
       "Name: count, dtype: int64"
      ]
     },
     "execution_count": 11,
     "metadata": {},
     "output_type": "execute_result"
    }
   ],
   "source": [
    "# 0: Monday\n",
    "# 1: Tuesday\n",
    "# 2: Wednesday\n",
    "# 3: Thursday\n",
    "# 4: Friday\n",
    "# 5: Saturday\n",
    "# 6: Sunday\n",
    " \n",
    "accidents_temp['is_weekend'] = accidents_temp.Start_Time.dt.weekday > 4\n",
    "accidents_temp['is_weekend'].value_counts(False)\n",
    "\n"
   ]
  },
  {
   "cell_type": "code",
   "execution_count": 12,
   "metadata": {},
   "outputs": [
    {
     "name": "stdout",
     "output_type": "stream",
     "text": [
      "Requirement already satisfied: holidays in c:\\users\\klaes\\miniconda3\\envs\\scale2prod\\lib\\site-packages (0.54)\n",
      "Requirement already satisfied: python-dateutil in c:\\users\\klaes\\miniconda3\\envs\\scale2prod\\lib\\site-packages (from holidays) (2.9.0)\n",
      "Requirement already satisfied: six>=1.5 in c:\\users\\klaes\\miniconda3\\envs\\scale2prod\\lib\\site-packages (from python-dateutil->holidays) (1.16.0)\n",
      "Note: you may need to restart the kernel to use updated packages.\n"
     ]
    }
   ],
   "source": [
    "%pip install holidays"
   ]
  },
  {
   "cell_type": "code",
   "execution_count": 13,
   "metadata": {},
   "outputs": [],
   "source": [
    "import holidays\n",
    "ca_holidays = holidays.US(state='CA')\n",
    "\n",
    "accidents_temp['is_holiday'] = accidents_temp['Start_Time'].dt.date.apply(lambda x: x in ca_holidays)\n",
    "\n"
   ]
  },
  {
   "cell_type": "code",
   "execution_count": 14,
   "metadata": {},
   "outputs": [
    {
     "data": {
      "text/plain": [
       "is_holiday\n",
       "False    151813\n",
       "True       4678\n",
       "Name: count, dtype: int64"
      ]
     },
     "execution_count": 14,
     "metadata": {},
     "output_type": "execute_result"
    }
   ],
   "source": [
    "\n",
    "accidents_temp['is_holiday'].value_counts(False)\n"
   ]
  },
  {
   "cell_type": "code",
   "execution_count": 15,
   "metadata": {},
   "outputs": [],
   "source": [
    "# Accident Hour (no date)\n",
    "accidents_temp['Accident_Time'] = pd.to_datetime(accidents_temp.Start_Time , format = \"mixed\")\n",
    "accidents_temp['Accident_Time'] = accidents_temp['Accident_Time'].dt.hour"
   ]
  },
  {
   "cell_type": "code",
   "execution_count": 16,
   "metadata": {},
   "outputs": [
    {
     "data": {
      "text/plain": [
       "42866      10\n",
       "42867      10\n",
       "42881      10\n",
       "42883      10\n",
       "42898      11\n",
       "           ..\n",
       "7727947    17\n",
       "7728357     4\n",
       "7728361    12\n",
       "7728364    13\n",
       "7728376    15\n",
       "Name: Accident_Time, Length: 156491, dtype: int32"
      ]
     },
     "execution_count": 16,
     "metadata": {},
     "output_type": "execute_result"
    }
   ],
   "source": [
    "accidents_temp['Accident_Time']"
   ]
  },
  {
   "cell_type": "code",
   "execution_count": 17,
   "metadata": {},
   "outputs": [
    {
     "name": "stdout",
     "output_type": "stream",
     "text": [
      "Temperature Null: 1105\n",
      "Temperature Not Null: 155386\n",
      "Temperature Mean: 65.65538465498824\n"
     ]
    }
   ],
   "source": [
    "# Temperature(F)\n",
    "# Replace the null values by the average temperature\n",
    "\n",
    "print (\"Temperature Null:\", accidents_temp['Temperature(F)'].map(lambda p: pd.isnull(p)).sum() )\n",
    "print (\"Temperature Not Null:\", accidents_temp['Temperature(F)'].notnull().sum())\n",
    "print (\"Temperature Mean:\",accidents_temp['Temperature(F)'].mean())\n",
    "\n",
    "# Temperature Null: 1105\n",
    "# Temperature Not Null: 155386\n",
    "# Mean: 65.65538465498824\n"
   ]
  },
  {
   "cell_type": "code",
   "execution_count": 18,
   "metadata": {},
   "outputs": [],
   "source": [
    "# Initialize KNNImputer with the desired number of neighbors\n",
    "imputer = KNNImputer(n_neighbors=3)"
   ]
  },
  {
   "cell_type": "code",
   "execution_count": 19,
   "metadata": {},
   "outputs": [],
   "source": [
    "# Temperature(F)\n",
    "# use the imputer to resolve\n",
    "\n",
    "accidents_temp = accidents_temp.reset_index()\n",
    "\n",
    "# # Convert the Series to a DataFrame\n",
    "temperature_df = accidents_temp[['Temperature(F)']]\n",
    "\n",
    "# Fit and transform the DataFrame\n",
    "df_imputed = imputer.fit_transform(temperature_df)\n",
    "\n",
    "# Convert the result back to a DataFrame\n",
    "accidents_temp['Temperature(F)'] = pd.DataFrame(df_imputed, columns=['Temperature(F)'])\n",
    "\n",
    "###########################################################\n",
    "###########################################################\n"
   ]
  },
  {
   "cell_type": "code",
   "execution_count": 20,
   "metadata": {},
   "outputs": [
    {
     "data": {
      "text/plain": [
       "index                    0\n",
       "Severity                 0\n",
       "Start_Time               0\n",
       "End_Time                 0\n",
       "Start_Lat                0\n",
       "Start_Lng                0\n",
       "Distance(mi)             0\n",
       "City                     0\n",
       "County                   0\n",
       "State                    0\n",
       "Weather_Timestamp      470\n",
       "Temperature(F)           0\n",
       "Wind_Chill(F)        52064\n",
       "Humidity(%)           1180\n",
       "Pressure(in)           965\n",
       "Visibility(mi)         684\n",
       "Wind_Direction        2431\n",
       "Wind_Speed(mph)      23989\n",
       "Precipitation(in)    47471\n",
       "Weather_Condition      650\n",
       "Amenity                  0\n",
       "Bump                     0\n",
       "Crossing                 0\n",
       "Give_Way                 0\n",
       "Junction                 0\n",
       "No_Exit                  0\n",
       "Railway                  0\n",
       "Roundabout               0\n",
       "Station                  0\n",
       "Stop                     0\n",
       "Traffic_Calming          0\n",
       "Traffic_Signal           0\n",
       "Turning_Loop             0\n",
       "Sunrise_Sunset           0\n",
       "Accident_Date            0\n",
       "accidnet_weekday         0\n",
       "is_weekend               0\n",
       "is_holiday               0\n",
       "Accident_Time            0\n",
       "dtype: int64"
      ]
     },
     "execution_count": 20,
     "metadata": {},
     "output_type": "execute_result"
    }
   ],
   "source": [
    "missing_values_count = accidents_temp.isnull().sum()\n",
    "\n",
    "missing_values_count[0:]"
   ]
  },
  {
   "cell_type": "code",
   "execution_count": 21,
   "metadata": {},
   "outputs": [
    {
     "data": {
      "text/plain": [
       "\"\\n\\ntemperature_mean = accidents_temp['Temperature(F)'].mean()\\ntemperature_rolling_mean = accidents_temp['Temperature(F)'].rolling(window=3, min_periods=1).mean()\\naccidents_temp['Temperature(F)'] = np.where (\\n                                            pd.isnull(accidents_temp['Temperature(F)']) \\n                                            , temperature_rolling_mean\\n                                            , accidents_temp['Temperature(F)'] )\\n\\n\""
      ]
     },
     "execution_count": 21,
     "metadata": {},
     "output_type": "execute_result"
    }
   ],
   "source": [
    "\n",
    "'''\n",
    "\n",
    "temperature_mean = accidents_temp['Temperature(F)'].mean()\n",
    "temperature_rolling_mean = accidents_temp['Temperature(F)'].rolling(window=3, min_periods=1).mean()\n",
    "accidents_temp['Temperature(F)'] = np.where (\n",
    "                                            pd.isnull(accidents_temp['Temperature(F)']) \n",
    "                                            , temperature_rolling_mean\n",
    "                                            , accidents_temp['Temperature(F)'] )\n",
    "\n",
    "'''"
   ]
  },
  {
   "cell_type": "code",
   "execution_count": 22,
   "metadata": {},
   "outputs": [],
   "source": [
    "# Weather_Timestamp\n",
    "# when Weather_Timestamp is null replace by the start_time\n",
    "\n",
    "accidents_temp['Weather_Timestamp'] = np.where (\n",
    "                                            pd.isnull(accidents_temp['Weather_Timestamp']) \n",
    "                                            , accidents_temp['Start_Time']\n",
    "                                            , accidents_temp['Weather_Timestamp'] )"
   ]
  },
  {
   "cell_type": "code",
   "execution_count": 23,
   "metadata": {},
   "outputs": [
    {
     "name": "stdout",
     "output_type": "stream",
     "text": [
      "Humidity Null: 1180\n",
      "Humidity Not Null: 155311\n",
      "Humidity Mean: 60.53426994868361\n"
     ]
    },
    {
     "data": {
      "text/plain": [
       "\"\\nhumidity_rolling_mean = accidents_temp['Humidity(%)'].rolling(window=3, min_periods=1).mean()\\n\\naccidents_temp['Humidity(%)'] = np.where ( pd.isnull(accidents_temp['Humidity(%)']) \\n                                            , humidity_rolling_mean\\n                                            , accidents_temp['Humidity(%)'] )\\n\""
      ]
     },
     "execution_count": 23,
     "metadata": {},
     "output_type": "execute_result"
    }
   ],
   "source": [
    "# Humidity(%)\n",
    "# when humidity is null, add humidity mean\n",
    "\n",
    "\n",
    "print (\"Humidity Null:\", accidents_temp['Humidity(%)'].map(lambda p: pd.isnull(p)).sum() )\n",
    "print (\"Humidity Not Null:\", accidents_temp['Humidity(%)'].notnull().sum())\n",
    "print (\"Humidity Mean:\",accidents_temp['Humidity(%)'].mean())\n",
    "\n",
    "'''\n",
    "humidity_rolling_mean = accidents_temp['Humidity(%)'].rolling(window=3, min_periods=1).mean()\n",
    "\n",
    "accidents_temp['Humidity(%)'] = np.where ( pd.isnull(accidents_temp['Humidity(%)']) \n",
    "                                            , humidity_rolling_mean\n",
    "                                            , accidents_temp['Humidity(%)'] )\n",
    "'''\n"
   ]
  },
  {
   "cell_type": "code",
   "execution_count": 24,
   "metadata": {},
   "outputs": [],
   "source": [
    "# Humidity(%)\n",
    "# use the imputer to resolve\n",
    "\n",
    "# # Convert the Series to a DataFrame\n",
    "humidity_df = accidents_temp[['Humidity(%)']]\n",
    "\n",
    "# Fit and transform the DataFrame\n",
    "df_imputed = imputer.fit_transform(humidity_df)\n",
    "\n",
    "# Convert the result back to a DataFrame\n",
    "accidents_temp['Humidity(%)'] = pd.DataFrame(df_imputed, columns=['Humidity(%)'])"
   ]
  },
  {
   "cell_type": "code",
   "execution_count": 25,
   "metadata": {},
   "outputs": [
    {
     "name": "stdout",
     "output_type": "stream",
     "text": [
      "Pressure Null: 965\n",
      "Pressure Not Null: 155526\n",
      "Pressure Mean: 29.852869938145385\n"
     ]
    },
    {
     "data": {
      "text/plain": [
       "\"\\npressure_mean = accidents_temp['Pressure(in)'].mean()\\n\\naccidents_temp['Pressure(in)'] = np.where ( pd.isnull(accidents_temp['Pressure(in)']) \\n                                            , pressure_mean\\n                                            , accidents_temp['Pressure(in)'] )\\n\""
      ]
     },
     "execution_count": 25,
     "metadata": {},
     "output_type": "execute_result"
    }
   ],
   "source": [
    "# Pressure(in)\n",
    "# when Pressure(in) is null replace by Pressure(in)' mean\n",
    "\n",
    "print (\"Pressure Null:\", accidents_temp['Pressure(in)'].map(lambda p: pd.isnull(p)).sum() )\n",
    "print (\"Pressure Not Null:\", accidents_temp['Pressure(in)'].notnull().sum())\n",
    "print (\"Pressure Mean:\",accidents_temp['Pressure(in)'].mean())\n",
    "\n",
    "'''\n",
    "pressure_mean = accidents_temp['Pressure(in)'].mean()\n",
    "\n",
    "accidents_temp['Pressure(in)'] = np.where ( pd.isnull(accidents_temp['Pressure(in)']) \n",
    "                                            , pressure_mean\n",
    "                                            , accidents_temp['Pressure(in)'] )\n",
    "'''\n"
   ]
  },
  {
   "cell_type": "code",
   "execution_count": 26,
   "metadata": {},
   "outputs": [],
   "source": [
    "# Pressure(in)\n",
    "# use the imputer to resolve\n",
    "\n",
    "# # Convert the Series to a DataFrame\n",
    "pressure_df = accidents_temp[['Pressure(in)']]\n",
    "\n",
    "# Fit and transform the DataFrame\n",
    "df_imputed = imputer.fit_transform(pressure_df)\n",
    "\n",
    "# Convert the result back to a DataFrame\n",
    "accidents_temp['Pressure(in)'] = pd.DataFrame(df_imputed, columns=['Pressure(in)'])"
   ]
  },
  {
   "cell_type": "code",
   "execution_count": 27,
   "metadata": {},
   "outputs": [
    {
     "name": "stdout",
     "output_type": "stream",
     "text": [
      "Visibility Null: 684\n",
      "Visibility Not Null: 155807\n",
      "Visibility Mean: 9.099849878375169\n"
     ]
    },
    {
     "data": {
      "text/plain": [
       "\"\\nvisibility_mean = accidents_temp['Visibility(mi)'].mean()\\n\\naccidents_temp['Visibility(mi)'] = np.where ( pd.isnull(accidents_temp['Visibility(mi)']) \\n                                            , visibility_mean\\n                                            , accidents_temp['Visibility(mi)'] )\\n\""
      ]
     },
     "execution_count": 27,
     "metadata": {},
     "output_type": "execute_result"
    }
   ],
   "source": [
    "# Visibility(mi)\n",
    "# when visibility is null, replace by the mean\n",
    "# \n",
    "  \n",
    "print (\"Visibility Null:\", accidents_temp['Visibility(mi)'].map(lambda p: pd.isnull(p)).sum() )\n",
    "print (\"Visibility Not Null:\", accidents_temp['Visibility(mi)'].notnull().sum())\n",
    "print (\"Visibility Mean:\",accidents_temp['Visibility(mi)'].mean())\n",
    "\n",
    "# Visibility Null: 684\n",
    "# Visibility Not Null: 155807\n",
    "# Visibility Mean: 9.099849878375169\n",
    "\n",
    "'''\n",
    "visibility_mean = accidents_temp['Visibility(mi)'].mean()\n",
    "\n",
    "accidents_temp['Visibility(mi)'] = np.where ( pd.isnull(accidents_temp['Visibility(mi)']) \n",
    "                                            , visibility_mean\n",
    "                                            , accidents_temp['Visibility(mi)'] )\n",
    "'''\n"
   ]
  },
  {
   "cell_type": "code",
   "execution_count": 28,
   "metadata": {},
   "outputs": [],
   "source": [
    "# Visibility(mi)\n",
    "# use the imputer to resolve\n",
    "\n",
    "# # Convert the Series to a DataFrame\n",
    "visibility_df = accidents_temp[['Visibility(mi)']]\n",
    "\n",
    "# Fit and transform the DataFrame\n",
    "df_imputed = imputer.fit_transform(visibility_df)\n",
    "\n",
    "# Convert the result back to a DataFrame\n",
    "accidents_temp['Visibility(mi)'] = pd.DataFrame(df_imputed, columns=['Visibility(mi)'])"
   ]
  },
  {
   "cell_type": "code",
   "execution_count": 29,
   "metadata": {},
   "outputs": [
    {
     "name": "stdout",
     "output_type": "stream",
     "text": [
      "Wind_Speed Null: 23989\n",
      "Wind_Speed Not Null: 132502\n",
      "Wind_Speed Mean: 3.9225702253550887\n"
     ]
    },
    {
     "data": {
      "text/plain": [
       "\"\\nwind_speed_mean = accidents_temp['Wind_Speed(mph)'].mean()\\n\\naccidents_temp['Wind_Speed(mph)'] = np.where ( pd.isnull(accidents_temp['Wind_Speed(mph)']) \\n                                            , wind_speed_mean\\n                                            , accidents_temp['Wind_Speed(mph)'] )\\n\""
      ]
     },
     "execution_count": 29,
     "metadata": {},
     "output_type": "execute_result"
    }
   ],
   "source": [
    "# Wind_Speed(mph)\n",
    "# when wind_speed is null, replace by the mean\n",
    "\n",
    "print (\"Wind_Speed Null:\", accidents_temp['Wind_Speed(mph)'].map(lambda p: pd.isnull(p)).sum() )\n",
    "print (\"Wind_Speed Not Null:\", accidents_temp['Wind_Speed(mph)'].notnull().sum())\n",
    "print (\"Wind_Speed Mean:\",accidents_temp['Wind_Speed(mph)'].mean())\n",
    "\n",
    "# Wind_Speed Null: 23989\n",
    "# Wind_Speed Not Null: 132502\n",
    "# Wind_Speed Mean: 3.9225702253550887\n",
    "\n",
    "'''\n",
    "wind_speed_mean = accidents_temp['Wind_Speed(mph)'].mean()\n",
    "\n",
    "accidents_temp['Wind_Speed(mph)'] = np.where ( pd.isnull(accidents_temp['Wind_Speed(mph)']) \n",
    "                                            , wind_speed_mean\n",
    "                                            , accidents_temp['Wind_Speed(mph)'] )\n",
    "'''\n"
   ]
  },
  {
   "cell_type": "code",
   "execution_count": 30,
   "metadata": {},
   "outputs": [],
   "source": [
    "# Wind_Speed(mph)\n",
    "# use the imputer to resolve\n",
    "\n",
    "# # Convert the Series to a DataFrame\n",
    "wind_speed_df = accidents_temp[['Wind_Speed(mph)']]\n",
    "\n",
    "# Fit and transform the DataFrame\n",
    "df_imputed = imputer.fit_transform(wind_speed_df)\n",
    "\n",
    "# Convert the result back to a DataFrame\n",
    "accidents_temp['Wind_Speed(mph)'] = pd.DataFrame(df_imputed, columns=['Wind_Speed(mph)'])"
   ]
  },
  {
   "cell_type": "code",
   "execution_count": 31,
   "metadata": {},
   "outputs": [
    {
     "name": "stdout",
     "output_type": "stream",
     "text": [
      "Precipitation Null: 47471\n",
      "Precipitation Not Null: 109020\n",
      "Precipitation Mean: 0.0034345074298293894\n"
     ]
    },
    {
     "data": {
      "text/plain": [
       "\"\\nprecipitation_mean = accidents_temp['Precipitation(in)'].mean()\\n\\naccidents_temp['Precipitation(in)'] = np.where ( pd.isnull(accidents_temp['Precipitation(in)']) \\n                                            , precipitation_mean\\n                                            , accidents_temp['Precipitation(in)'] )\\n\""
      ]
     },
     "execution_count": 31,
     "metadata": {},
     "output_type": "execute_result"
    }
   ],
   "source": [
    "# Precipitation(in)\n",
    "# when precipitation is null, replace by the mean\n",
    "\n",
    "print (\"Precipitation Null:\", accidents_temp['Precipitation(in)'].map(lambda p: pd.isnull(p)).sum() )\n",
    "print (\"Precipitation Not Null:\", accidents_temp['Precipitation(in)'].notnull().sum())\n",
    "print (\"Precipitation Mean:\",accidents_temp['Precipitation(in)'].mean())\n",
    "\n",
    "# Precipitation Null: 47471\n",
    "# Precipitation Not Null: 109020\n",
    "# Precipitation Mean: 0.0034345074298293894\n",
    "\n",
    "'''\n",
    "precipitation_mean = accidents_temp['Precipitation(in)'].mean()\n",
    "\n",
    "accidents_temp['Precipitation(in)'] = np.where ( pd.isnull(accidents_temp['Precipitation(in)']) \n",
    "                                            , precipitation_mean\n",
    "                                            , accidents_temp['Precipitation(in)'] )\n",
    "'''\n"
   ]
  },
  {
   "cell_type": "code",
   "execution_count": 32,
   "metadata": {},
   "outputs": [],
   "source": [
    "# Precipitation(in)\n",
    "# use the imputer to resolve\n",
    "\n",
    "# # Convert the Series to a DataFrame\n",
    "precipitation_df = accidents_temp[['Precipitation(in)']]\n",
    "\n",
    "# Fit and transform the DataFrame\n",
    "df_imputed = imputer.fit_transform(precipitation_df)\n",
    "\n",
    "# Convert the result back to a DataFrame\n",
    "accidents_temp['Precipitation(in)'] = pd.DataFrame(df_imputed, columns=['Precipitation(in)'])"
   ]
  },
  {
   "cell_type": "code",
   "execution_count": 33,
   "metadata": {},
   "outputs": [],
   "source": [
    "# Wind_Chill(F)\n",
    "# use the imputer to resolve\n",
    "\n",
    "# Convert the Series to a DataFrame\n",
    "wind_chill_df = accidents_temp[['Wind_Chill(F)']]\n",
    "\n",
    "# Fit and transform the DataFrame\n",
    "df_imputed = imputer.fit_transform(wind_chill_df)\n",
    "\n",
    "# Convert the result back to a DataFrame\n",
    "accidents_temp['Wind_Chill(F)'] = pd.DataFrame(df_imputed, columns=['Wind_Chill(F)'])\n",
    "\n"
   ]
  },
  {
   "cell_type": "code",
   "execution_count": 34,
   "metadata": {},
   "outputs": [
    {
     "data": {
      "text/plain": [
       "0         Variable\n",
       "1         Variable\n",
       "2         Variable\n",
       "3         Variable\n",
       "4              ESE\n",
       "            ...   \n",
       "156486          SW\n",
       "156487        CALM\n",
       "156488        CALM\n",
       "156489        CALM\n",
       "156490           W\n",
       "Name: Wind_Direction, Length: 156491, dtype: object"
      ]
     },
     "execution_count": 34,
     "metadata": {},
     "output_type": "execute_result"
    }
   ],
   "source": [
    "accidents_temp['Wind_Direction']"
   ]
  },
  {
   "cell_type": "code",
   "execution_count": 35,
   "metadata": {},
   "outputs": [
    {
     "name": "stdout",
     "output_type": "stream",
     "text": [
      "Wind Direction Null: 2431\n",
      "Wind Direction NOT Null: 154060\n",
      "---------------------------------------------------------------------------------------\n",
      "Wind Direction Null: 0\n",
      "Wind Direction NOT Null: 156491\n"
     ]
    }
   ],
   "source": [
    "# Wind_Direction\n",
    "# To replace missing values in a Pandas DataFrame with the value from the row below\n",
    "\n",
    "print (\"Wind Direction Null:\", accidents_temp['Wind_Direction'].isnull().sum())\n",
    "print (\"Wind Direction NOT Null:\", accidents_temp['Wind_Direction'].notnull().sum())\n",
    "print (\"---------------------------------------------------------------------------------------\")\n",
    "\n",
    "accidents_temp['Wind_Direction'] = np.where ( pd.isnull(accidents_temp['Wind_Direction']) \n",
    "                                            , accidents_temp['Wind_Direction'].bfill(axis='rows')\n",
    "                                            , accidents_temp['Wind_Direction'] )\n",
    "\n",
    "print (\"Wind Direction Null:\", accidents_temp['Wind_Direction'].isnull().sum())\n",
    "print (\"Wind Direction NOT Null:\", accidents_temp['Wind_Direction'].notnull().sum())"
   ]
  },
  {
   "cell_type": "code",
   "execution_count": 36,
   "metadata": {},
   "outputs": [
    {
     "name": "stdout",
     "output_type": "stream",
     "text": [
      "                                0\n",
      "0                             NaN\n",
      "1                            Mist\n",
      "2             Heavy Sleet / Windy\n",
      "3                            Rain\n",
      "4       Light Snow Shower / Windy\n",
      "..                            ...\n",
      "140            Wintry Mix / Windy\n",
      "141             N/A Precipitation\n",
      "142        Light Freezing Drizzle\n",
      "143           Light Freezing Rain\n",
      "144  Light Thunderstorms and Rain\n",
      "\n",
      "[145 rows x 1 columns]\n"
     ]
    }
   ],
   "source": [
    "# How many Weather Conditions are in the DataSet?\n",
    "#\n",
    "# Use set() to eliminate duplicate values in column 'Weather_Condition'\n",
    "unique_values_set = set(accidents['Weather_Condition'])\n",
    "\n",
    "# Print the unique values\n",
    "print (pd.DataFrame(unique_values_set))"
   ]
  },
  {
   "cell_type": "code",
   "execution_count": 37,
   "metadata": {},
   "outputs": [
    {
     "name": "stdout",
     "output_type": "stream",
     "text": [
      "Weather Condition Null: 650\n",
      "Weather Condition NOT Null: 155841\n",
      "---------------------------------------------------------------------------------------\n",
      "Weather Condition Null: 0\n",
      "Weather Condition NOT Null: 156491\n"
     ]
    }
   ],
   "source": [
    "# Weather_Condition\n",
    "# To replace missing values in a Pandas DataFrame with the value from the row below\n",
    "\n",
    "print (\"Weather Condition Null:\", accidents_temp['Weather_Condition'].isnull().sum())\n",
    "print (\"Weather Condition NOT Null:\", accidents_temp['Weather_Condition'].notnull().sum())\n",
    "print (\"---------------------------------------------------------------------------------------\")\n",
    "\n",
    "accidents_temp['Weather_Condition'] = np.where ( pd.isnull(accidents_temp['Weather_Condition']) \n",
    "                                            , accidents_temp['Weather_Condition'].bfill(axis='rows')\n",
    "                                            , accidents_temp['Weather_Condition'] )\n",
    "\n",
    "print (\"Weather Condition Null:\", accidents_temp['Weather_Condition'].isnull().sum())\n",
    "print (\"Weather Condition NOT Null:\", accidents_temp['Weather_Condition'].notnull().sum())\n",
    "\n"
   ]
  },
  {
   "cell_type": "code",
   "execution_count": 38,
   "metadata": {},
   "outputs": [
    {
     "data": {
      "text/html": [
       "<div>\n",
       "<style scoped>\n",
       "    .dataframe tbody tr th:only-of-type {\n",
       "        vertical-align: middle;\n",
       "    }\n",
       "\n",
       "    .dataframe tbody tr th {\n",
       "        vertical-align: top;\n",
       "    }\n",
       "\n",
       "    .dataframe thead th {\n",
       "        text-align: right;\n",
       "    }\n",
       "</style>\n",
       "<table border=\"1\" class=\"dataframe\">\n",
       "  <thead>\n",
       "    <tr style=\"text-align: right;\">\n",
       "      <th></th>\n",
       "      <th>index</th>\n",
       "      <th>Severity</th>\n",
       "      <th>Start_Time</th>\n",
       "      <th>End_Time</th>\n",
       "      <th>Start_Lat</th>\n",
       "      <th>Start_Lng</th>\n",
       "      <th>Distance(mi)</th>\n",
       "      <th>City</th>\n",
       "      <th>County</th>\n",
       "      <th>State</th>\n",
       "      <th>...</th>\n",
       "      <th>Stop</th>\n",
       "      <th>Traffic_Calming</th>\n",
       "      <th>Traffic_Signal</th>\n",
       "      <th>Turning_Loop</th>\n",
       "      <th>Sunrise_Sunset</th>\n",
       "      <th>Accident_Date</th>\n",
       "      <th>accidnet_weekday</th>\n",
       "      <th>is_weekend</th>\n",
       "      <th>is_holiday</th>\n",
       "      <th>Accident_Time</th>\n",
       "    </tr>\n",
       "  </thead>\n",
       "  <tbody>\n",
       "    <tr>\n",
       "      <th>0</th>\n",
       "      <td>42866</td>\n",
       "      <td>2</td>\n",
       "      <td>2016-06-21 10:46:30</td>\n",
       "      <td>2016-06-21 11:27:00</td>\n",
       "      <td>34.078926</td>\n",
       "      <td>-118.289040</td>\n",
       "      <td>0.0</td>\n",
       "      <td>Los Angeles</td>\n",
       "      <td>Los Angeles</td>\n",
       "      <td>CA</td>\n",
       "      <td>...</td>\n",
       "      <td>False</td>\n",
       "      <td>False</td>\n",
       "      <td>False</td>\n",
       "      <td>False</td>\n",
       "      <td>Day</td>\n",
       "      <td>2016-06-21</td>\n",
       "      <td>1</td>\n",
       "      <td>False</td>\n",
       "      <td>False</td>\n",
       "      <td>10</td>\n",
       "    </tr>\n",
       "    <tr>\n",
       "      <th>1</th>\n",
       "      <td>42867</td>\n",
       "      <td>3</td>\n",
       "      <td>2016-06-21 10:49:21</td>\n",
       "      <td>2016-06-21 11:34:21</td>\n",
       "      <td>34.091179</td>\n",
       "      <td>-118.239471</td>\n",
       "      <td>0.0</td>\n",
       "      <td>Los Angeles</td>\n",
       "      <td>Los Angeles</td>\n",
       "      <td>CA</td>\n",
       "      <td>...</td>\n",
       "      <td>False</td>\n",
       "      <td>False</td>\n",
       "      <td>False</td>\n",
       "      <td>False</td>\n",
       "      <td>Day</td>\n",
       "      <td>2016-06-21</td>\n",
       "      <td>1</td>\n",
       "      <td>False</td>\n",
       "      <td>False</td>\n",
       "      <td>10</td>\n",
       "    </tr>\n",
       "    <tr>\n",
       "      <th>2</th>\n",
       "      <td>42881</td>\n",
       "      <td>3</td>\n",
       "      <td>2016-06-21 10:51:45</td>\n",
       "      <td>2016-06-21 11:36:45</td>\n",
       "      <td>34.037239</td>\n",
       "      <td>-118.309074</td>\n",
       "      <td>0.0</td>\n",
       "      <td>Los Angeles</td>\n",
       "      <td>Los Angeles</td>\n",
       "      <td>CA</td>\n",
       "      <td>...</td>\n",
       "      <td>False</td>\n",
       "      <td>False</td>\n",
       "      <td>False</td>\n",
       "      <td>False</td>\n",
       "      <td>Day</td>\n",
       "      <td>2016-06-21</td>\n",
       "      <td>1</td>\n",
       "      <td>False</td>\n",
       "      <td>False</td>\n",
       "      <td>10</td>\n",
       "    </tr>\n",
       "    <tr>\n",
       "      <th>3</th>\n",
       "      <td>42883</td>\n",
       "      <td>3</td>\n",
       "      <td>2016-06-21 10:56:24</td>\n",
       "      <td>2016-06-21 11:34:00</td>\n",
       "      <td>34.027458</td>\n",
       "      <td>-118.274490</td>\n",
       "      <td>0.0</td>\n",
       "      <td>Los Angeles</td>\n",
       "      <td>Los Angeles</td>\n",
       "      <td>CA</td>\n",
       "      <td>...</td>\n",
       "      <td>False</td>\n",
       "      <td>False</td>\n",
       "      <td>False</td>\n",
       "      <td>False</td>\n",
       "      <td>Day</td>\n",
       "      <td>2016-06-21</td>\n",
       "      <td>1</td>\n",
       "      <td>False</td>\n",
       "      <td>False</td>\n",
       "      <td>10</td>\n",
       "    </tr>\n",
       "    <tr>\n",
       "      <th>4</th>\n",
       "      <td>42898</td>\n",
       "      <td>3</td>\n",
       "      <td>2016-06-21 11:30:46</td>\n",
       "      <td>2016-06-21 12:00:46</td>\n",
       "      <td>33.947544</td>\n",
       "      <td>-118.279434</td>\n",
       "      <td>0.0</td>\n",
       "      <td>Los Angeles</td>\n",
       "      <td>Los Angeles</td>\n",
       "      <td>CA</td>\n",
       "      <td>...</td>\n",
       "      <td>False</td>\n",
       "      <td>False</td>\n",
       "      <td>False</td>\n",
       "      <td>False</td>\n",
       "      <td>Day</td>\n",
       "      <td>2016-06-21</td>\n",
       "      <td>1</td>\n",
       "      <td>False</td>\n",
       "      <td>False</td>\n",
       "      <td>11</td>\n",
       "    </tr>\n",
       "  </tbody>\n",
       "</table>\n",
       "<p>5 rows × 39 columns</p>\n",
       "</div>"
      ],
      "text/plain": [
       "   index  Severity          Start_Time             End_Time  Start_Lat  \\\n",
       "0  42866         2 2016-06-21 10:46:30  2016-06-21 11:27:00  34.078926   \n",
       "1  42867         3 2016-06-21 10:49:21  2016-06-21 11:34:21  34.091179   \n",
       "2  42881         3 2016-06-21 10:51:45  2016-06-21 11:36:45  34.037239   \n",
       "3  42883         3 2016-06-21 10:56:24  2016-06-21 11:34:00  34.027458   \n",
       "4  42898         3 2016-06-21 11:30:46  2016-06-21 12:00:46  33.947544   \n",
       "\n",
       "    Start_Lng  Distance(mi)         City       County State  ...   Stop  \\\n",
       "0 -118.289040           0.0  Los Angeles  Los Angeles    CA  ...  False   \n",
       "1 -118.239471           0.0  Los Angeles  Los Angeles    CA  ...  False   \n",
       "2 -118.309074           0.0  Los Angeles  Los Angeles    CA  ...  False   \n",
       "3 -118.274490           0.0  Los Angeles  Los Angeles    CA  ...  False   \n",
       "4 -118.279434           0.0  Los Angeles  Los Angeles    CA  ...  False   \n",
       "\n",
       "   Traffic_Calming  Traffic_Signal  Turning_Loop  Sunrise_Sunset  \\\n",
       "0            False           False         False             Day   \n",
       "1            False           False         False             Day   \n",
       "2            False           False         False             Day   \n",
       "3            False           False         False             Day   \n",
       "4            False           False         False             Day   \n",
       "\n",
       "   Accident_Date accidnet_weekday  is_weekend  is_holiday Accident_Time  \n",
       "0     2016-06-21                1       False       False            10  \n",
       "1     2016-06-21                1       False       False            10  \n",
       "2     2016-06-21                1       False       False            10  \n",
       "3     2016-06-21                1       False       False            10  \n",
       "4     2016-06-21                1       False       False            11  \n",
       "\n",
       "[5 rows x 39 columns]"
      ]
     },
     "execution_count": 38,
     "metadata": {},
     "output_type": "execute_result"
    }
   ],
   "source": [
    "accidents_temp.head()"
   ]
  },
  {
   "cell_type": "code",
   "execution_count": 39,
   "metadata": {},
   "outputs": [
    {
     "data": {
      "text/plain": [
       "(156491, 39)"
      ]
     },
     "execution_count": 39,
     "metadata": {},
     "output_type": "execute_result"
    }
   ],
   "source": [
    "accidents_temp.shape"
   ]
  },
  {
   "cell_type": "code",
   "execution_count": 40,
   "metadata": {},
   "outputs": [
    {
     "data": {
      "text/plain": [
       "index                0\n",
       "Severity             0\n",
       "Start_Time           0\n",
       "End_Time             0\n",
       "Start_Lat            0\n",
       "Start_Lng            0\n",
       "Distance(mi)         0\n",
       "City                 0\n",
       "County               0\n",
       "State                0\n",
       "Weather_Timestamp    0\n",
       "Temperature(F)       0\n",
       "Wind_Chill(F)        0\n",
       "Humidity(%)          0\n",
       "Pressure(in)         0\n",
       "Visibility(mi)       0\n",
       "Wind_Direction       0\n",
       "Wind_Speed(mph)      0\n",
       "Precipitation(in)    0\n",
       "Weather_Condition    0\n",
       "Amenity              0\n",
       "Bump                 0\n",
       "Crossing             0\n",
       "Give_Way             0\n",
       "Junction             0\n",
       "No_Exit              0\n",
       "Railway              0\n",
       "Roundabout           0\n",
       "Station              0\n",
       "Stop                 0\n",
       "Traffic_Calming      0\n",
       "Traffic_Signal       0\n",
       "Turning_Loop         0\n",
       "Sunrise_Sunset       0\n",
       "Accident_Date        0\n",
       "accidnet_weekday     0\n",
       "is_weekend           0\n",
       "is_holiday           0\n",
       "Accident_Time        0\n",
       "dtype: int64"
      ]
     },
     "execution_count": 40,
     "metadata": {},
     "output_type": "execute_result"
    }
   ],
   "source": [
    "missing_values_count = accidents_temp.isnull().sum()\n",
    "\n",
    "missing_values_count[0:]"
   ]
  },
  {
   "cell_type": "code",
   "execution_count": 41,
   "metadata": {},
   "outputs": [
    {
     "data": {
      "text/html": [
       "<div>\n",
       "<style scoped>\n",
       "    .dataframe tbody tr th:only-of-type {\n",
       "        vertical-align: middle;\n",
       "    }\n",
       "\n",
       "    .dataframe tbody tr th {\n",
       "        vertical-align: top;\n",
       "    }\n",
       "\n",
       "    .dataframe thead th {\n",
       "        text-align: right;\n",
       "    }\n",
       "</style>\n",
       "<table border=\"1\" class=\"dataframe\">\n",
       "  <thead>\n",
       "    <tr style=\"text-align: right;\">\n",
       "      <th></th>\n",
       "    </tr>\n",
       "  </thead>\n",
       "  <tbody>\n",
       "  </tbody>\n",
       "</table>\n",
       "</div>"
      ],
      "text/plain": [
       "Empty DataFrame\n",
       "Columns: []\n",
       "Index: []"
      ]
     },
     "execution_count": 41,
     "metadata": {},
     "output_type": "execute_result"
    }
   ],
   "source": [
    "accidents_los_angeles = pd.DataFrame()\n",
    "\n",
    "accidents_los_angeles.head()"
   ]
  },
  {
   "cell_type": "code",
   "execution_count": 42,
   "metadata": {},
   "outputs": [],
   "source": [
    "##########################################################\n",
    "# Build Data Frame with data agregated by day\n",
    "##########################################################\n",
    "\n",
    "accidents_los_angeles['Accident_Date'] = accidents_temp['Accident_Date'].unique()"
   ]
  },
  {
   "cell_type": "code",
   "execution_count": 43,
   "metadata": {},
   "outputs": [],
   "source": [
    "# Weather Condition\n",
    "# get the most common weather condition of the day and use it\n",
    "\n",
    "weather_counts = accidents_temp.groupby(['Accident_Date', 'Weather_Condition']).size().reset_index(name='counts')\n",
    "weather = weather_counts.loc[weather_counts.groupby('Accident_Date')['counts'].idxmax()]\n",
    "\n",
    "# Merge the weather condition into the DataFrame\n",
    "accidents_los_angeles = pd.merge(weather , accidents_los_angeles , on='Accident_Date')\n",
    "\n",
    "accidents_los_angeles = accidents_los_angeles.drop('counts' , axis=1)"
   ]
  },
  {
   "cell_type": "code",
   "execution_count": 44,
   "metadata": {},
   "outputs": [],
   "source": [
    "# Temperature \n",
    "# get the average of the day and use it\n",
    "\n",
    "mean_temperature = accidents_temp.groupby('Accident_Date')['Temperature(F)'].mean().reset_index()\n",
    "\n",
    "# merge the temperature into the DataFrame\n",
    "accidents_los_angeles = pd.merge(mean_temperature , accidents_los_angeles , on='Accident_Date')\n",
    "\n"
   ]
  },
  {
   "cell_type": "code",
   "execution_count": 45,
   "metadata": {},
   "outputs": [],
   "source": [
    "# Severity \n",
    "# get the average of the day and use it\n",
    "\n",
    "mean_severity = accidents_temp.groupby('Accident_Date')['Severity'].mean().reset_index()\n",
    "\n",
    "# merge the temperature into the DataFrame\n",
    "accidents_los_angeles = pd.merge(mean_severity , accidents_los_angeles , on='Accident_Date')\n"
   ]
  },
  {
   "cell_type": "code",
   "execution_count": 46,
   "metadata": {},
   "outputs": [],
   "source": [
    "# Humidity(%) \n",
    "# get the average of the day and use it\n",
    "\n",
    "mean_humidity = accidents_temp.groupby('Accident_Date')['Humidity(%)'].mean().reset_index()\n",
    "\n",
    "# merge the temperature into the DataFrame\n",
    "accidents_los_angeles = pd.merge(accidents_los_angeles ,mean_humidity , on='Accident_Date')"
   ]
  },
  {
   "cell_type": "code",
   "execution_count": 47,
   "metadata": {},
   "outputs": [],
   "source": [
    "# Pressure(in)\n",
    "# get the average of the day and use it\n",
    "\n",
    "mean_pressure = accidents_temp.groupby('Accident_Date')['Pressure(in)'].mean().reset_index()\n",
    "\n",
    "# merge the temperature into the DataFrame\n",
    "accidents_los_angeles = pd.merge(accidents_los_angeles , mean_pressure , on='Accident_Date')"
   ]
  },
  {
   "cell_type": "code",
   "execution_count": 48,
   "metadata": {},
   "outputs": [],
   "source": [
    "# Visibility(mi)\n",
    "# get the average of the day and use it\n",
    "\n",
    "mean_visibility = accidents_temp.groupby('Accident_Date')['Visibility(mi)'].mean().reset_index()\n",
    "\n",
    "# merge the temperature into the DataFrame\n",
    "accidents_los_angeles = pd.merge(accidents_los_angeles , mean_visibility , on='Accident_Date')"
   ]
  },
  {
   "cell_type": "code",
   "execution_count": 49,
   "metadata": {},
   "outputs": [],
   "source": [
    "# Wind_Speed(mph)\n",
    "# get the average of the day and use it\n",
    "\n",
    "mean_wind_speed = accidents_temp.groupby('Accident_Date')['Wind_Speed(mph)'].mean().reset_index()\n",
    "\n",
    "# merge the temperature into the DataFrame\n",
    "accidents_los_angeles = pd.merge(accidents_los_angeles , mean_wind_speed , on='Accident_Date')"
   ]
  },
  {
   "cell_type": "code",
   "execution_count": 50,
   "metadata": {},
   "outputs": [],
   "source": [
    "# Precipitation(in)\n",
    "# get the average of the day and use it\n",
    "\n",
    "mean_precipitation = accidents_temp.groupby('Accident_Date')['Precipitation(in)'].mean().reset_index()\n",
    "\n",
    "# merge the temperature into the DataFrame\n",
    "accidents_los_angeles = pd.merge(accidents_los_angeles , mean_precipitation , on='Accident_Date')"
   ]
  },
  {
   "cell_type": "code",
   "execution_count": 51,
   "metadata": {},
   "outputs": [],
   "source": [
    "# Number of accidents per day\n",
    "#\n",
    "\n",
    "accidents_per_day = accidents_temp.groupby('Accident_Date').size().reset_index(name = \"total_accidents\")\n",
    "\n",
    "# merge the accidents into the DataFrame\n",
    "accidents_los_angeles = pd.merge(accidents_los_angeles , accidents_per_day , on='Accident_Date')\n"
   ]
  },
  {
   "cell_type": "code",
   "execution_count": 52,
   "metadata": {},
   "outputs": [
    {
     "name": "stdout",
     "output_type": "stream",
     "text": [
      "  Accident_Date  Severity  Temperature(F) Weather_Condition  Humidity(%)  \\\n",
      "0    2016-03-22  2.400000       63.040000             Clear    26.000000   \n",
      "1    2016-03-23  2.529412       68.491176             Clear    29.794118   \n",
      "2    2016-03-24  2.485294       68.372059             Clear    33.544118   \n",
      "3    2016-03-25  2.533333       65.831111             Clear    56.088889   \n",
      "4    2016-03-26  2.736842       64.394737             Clear    70.631579   \n",
      "\n",
      "   Pressure(in)  Visibility(mi)  Wind_Speed(mph)  Precipitation(in)  \\\n",
      "0     30.016000       10.000000         9.680000           0.003435   \n",
      "1     30.114559       10.000000         5.885718           0.003435   \n",
      "2     30.008235        9.870588         5.265365           0.003435   \n",
      "3     29.824444       10.000000         4.864368           0.003435   \n",
      "4     29.853158        9.842105         6.060947           0.003435   \n",
      "\n",
      "   total_accidents  \n",
      "0                5  \n",
      "1               68  \n",
      "2               68  \n",
      "3               45  \n",
      "4               19  \n",
      "(2493, 10)\n"
     ]
    }
   ],
   "source": [
    "print (accidents_los_angeles.head())\n",
    "print (accidents_los_angeles.shape)"
   ]
  },
  {
   "cell_type": "code",
   "execution_count": 53,
   "metadata": {},
   "outputs": [],
   "source": [
    "# Export DataFrame to CSV\n",
    "\n",
    "\n",
    "# data agreagated by day\n",
    "accidents_los_angeles.to_csv(\"./Los_Angeles_Accidents_Agreagated_2016_2023.csv\", index=False)"
   ]
  },
  {
   "cell_type": "code",
   "execution_count": 54,
   "metadata": {},
   "outputs": [],
   "source": [
    "# raw data treated\n",
    "accidents_temp.to_csv(\"./Los_Angeles_Accidents_Complete_2016_2023.csv\", index=False)"
   ]
  }
 ],
 "metadata": {
  "kernelspec": {
   "display_name": "dsi_participant",
   "language": "python",
   "name": "python3"
  },
  "language_info": {
   "codemirror_mode": {
    "name": "ipython",
    "version": 3
   },
   "file_extension": ".py",
   "mimetype": "text/x-python",
   "name": "python",
   "nbconvert_exporter": "python",
   "pygments_lexer": "ipython3",
   "version": "3.9.15"
  }
 },
 "nbformat": 4,
 "nbformat_minor": 2
}
