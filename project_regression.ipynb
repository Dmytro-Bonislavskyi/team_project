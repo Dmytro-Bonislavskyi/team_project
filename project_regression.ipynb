{
 "cells": [
  {
   "cell_type": "code",
   "execution_count": 1,
   "metadata": {},
   "outputs": [],
   "source": [
    "import numpy as np\n",
    "import pandas as pd\n",
    "import matplotlib.pyplot as plt\n",
    "import statsmodels.api as sm\n",
    "from ISLP.models import ModelSpec as MS\n",
    "from ISLP.models import sklearn_sm\n",
    "from sklearn.model_selection import cross_validate\n",
    "from sklearn.model_selection import KFold"
   ]
  },
  {
   "cell_type": "code",
   "execution_count": 2,
   "metadata": {},
   "outputs": [
    {
     "name": "stdout",
     "output_type": "stream",
     "text": [
      "     Accident_Date  Severity  Temperature(F) Weather_Condition  Humidity(%)  \\\n",
      "0       2016-03-22  2.400000       63.040000             Clear    26.000000   \n",
      "1       2016-03-23  2.529412       68.491176             Clear    29.794118   \n",
      "2       2016-03-24  2.485294       68.372059             Clear    33.544118   \n",
      "3       2016-03-25  2.533333       65.831111             Clear    56.088889   \n",
      "4       2016-03-26  2.736842       64.394737             Clear    70.631579   \n",
      "...            ...       ...             ...               ...          ...   \n",
      "2488    2023-03-27  2.000000       62.089888              Fair    28.528090   \n",
      "2489    2023-03-28  2.000000       61.981982              Fair    37.765766   \n",
      "2490    2023-03-29  2.014706       52.264706              Rain    80.794118   \n",
      "2491    2023-03-30  2.000000       51.096774            Cloudy    75.322581   \n",
      "2492    2023-03-31  2.000000       60.051282              Fair    57.076923   \n",
      "\n",
      "      Pressure(in)  Visibility(mi)  Wind_Speed(mph)  Precipitation(in)  \\\n",
      "0        30.016000       10.000000         9.680000           0.003435   \n",
      "1        30.114559       10.000000         5.885718           0.003435   \n",
      "2        30.008235        9.870588         5.265365           0.003435   \n",
      "3        29.824444       10.000000         4.864368           0.003435   \n",
      "4        29.853158        9.842105         6.060947           0.003435   \n",
      "...            ...             ...              ...                ...   \n",
      "2488     29.928764       10.000000         4.189271           0.000000   \n",
      "2489     29.881351       10.000000         4.720721           0.000000   \n",
      "2490     29.748897        5.183824         6.529412           0.073015   \n",
      "2491     29.758172        8.451613         3.322581           0.044086   \n",
      "2492     29.999231       10.000000         5.000000           0.000000   \n",
      "\n",
      "      total_accidents  \n",
      "0                   5  \n",
      "1                  68  \n",
      "2                  68  \n",
      "3                  45  \n",
      "4                  19  \n",
      "...               ...  \n",
      "2488               89  \n",
      "2489              111  \n",
      "2490              136  \n",
      "2491               93  \n",
      "2492               39  \n",
      "\n",
      "[2493 rows x 10 columns]\n"
     ]
    }
   ],
   "source": [
    "data = pd.read_csv('data/processed/Los_Angeles_Accidents_2016_2023.csv')\n",
    "print(data)"
   ]
  },
  {
   "cell_type": "code",
   "execution_count": 3,
   "metadata": {},
   "outputs": [
    {
     "data": {
      "text/plain": [
       "Index(['Accident_Date', 'Severity', 'Temperature(F)', 'Weather_Condition',\n",
       "       'Humidity(%)', 'Pressure(in)', 'Visibility(mi)', 'Wind_Speed(mph)',\n",
       "       'Precipitation(in)', 'total_accidents'],\n",
       "      dtype='object')"
      ]
     },
     "execution_count": 3,
     "metadata": {},
     "output_type": "execute_result"
    }
   ],
   "source": [
    "data.columns"
   ]
  },
  {
   "cell_type": "code",
   "execution_count": 4,
   "metadata": {},
   "outputs": [
    {
     "name": "stderr",
     "output_type": "stream",
     "text": [
      "c:\\Users\\IbrahimAssi\\.conda\\envs\\dsi_participant\\lib\\site-packages\\ISLP\\models\\columns.py:159: FutureWarning: Series.__getitem__ treating keys as positions is deprecated. In a future version, integer keys will always be treated as labels (consistent with DataFrame behavior). To access a value by position, use `ser.iloc[pos]`\n",
      "  if is_categorical[i]:\n"
     ]
    }
   ],
   "source": [
    "terms = data.columns.drop(['Accident_Date', 'Severity', 'total_accidents'])\n",
    "X = MS(terms).fit_transform(data)\n",
    "X = pd.get_dummies(X, dtype=int)\n",
    "y = data['total_accidents']"
   ]
  },
  {
   "cell_type": "code",
   "execution_count": 5,
   "metadata": {},
   "outputs": [
    {
     "name": "stdout",
     "output_type": "stream",
     "text": [
      "      intercept  Temperature(F)  Humidity(%)  Pressure(in)  Visibility(mi)  \\\n",
      "0           1.0       63.040000    26.000000     30.016000       10.000000   \n",
      "1           1.0       68.491176    29.794118     30.114559       10.000000   \n",
      "2           1.0       68.372059    33.544118     30.008235        9.870588   \n",
      "3           1.0       65.831111    56.088889     29.824444       10.000000   \n",
      "4           1.0       64.394737    70.631579     29.853158        9.842105   \n",
      "...         ...             ...          ...           ...             ...   \n",
      "2488        1.0       62.089888    28.528090     29.928764       10.000000   \n",
      "2489        1.0       61.981982    37.765766     29.881351       10.000000   \n",
      "2490        1.0       52.264706    80.794118     29.748897        5.183824   \n",
      "2491        1.0       51.096774    75.322581     29.758172        8.451613   \n",
      "2492        1.0       60.051282    57.076923     29.999231       10.000000   \n",
      "\n",
      "      Wind_Speed(mph)  Precipitation(in)  Weather_Condition_Clear  \\\n",
      "0            9.680000           0.003435                        1   \n",
      "1            5.885718           0.003435                        1   \n",
      "2            5.265365           0.003435                        1   \n",
      "3            4.864368           0.003435                        1   \n",
      "4            6.060947           0.003435                        1   \n",
      "...               ...                ...                      ...   \n",
      "2488         4.189271           0.000000                        0   \n",
      "2489         4.720721           0.000000                        0   \n",
      "2490         6.529412           0.073015                        0   \n",
      "2491         3.322581           0.044086                        0   \n",
      "2492         5.000000           0.000000                        0   \n",
      "\n",
      "      Weather_Condition_Cloudy  Weather_Condition_Fair  Weather_Condition_Fog  \\\n",
      "0                            0                       0                      0   \n",
      "1                            0                       0                      0   \n",
      "2                            0                       0                      0   \n",
      "3                            0                       0                      0   \n",
      "4                            0                       0                      0   \n",
      "...                        ...                     ...                    ...   \n",
      "2488                         0                       1                      0   \n",
      "2489                         0                       1                      0   \n",
      "2490                         0                       0                      0   \n",
      "2491                         1                       0                      0   \n",
      "2492                         0                       1                      0   \n",
      "\n",
      "      Weather_Condition_Haze  Weather_Condition_Heavy Rain  \\\n",
      "0                          0                             0   \n",
      "1                          0                             0   \n",
      "2                          0                             0   \n",
      "3                          0                             0   \n",
      "4                          0                             0   \n",
      "...                      ...                           ...   \n",
      "2488                       0                             0   \n",
      "2489                       0                             0   \n",
      "2490                       0                             0   \n",
      "2491                       0                             0   \n",
      "2492                       0                             0   \n",
      "\n",
      "      Weather_Condition_Light Rain  Weather_Condition_Mostly Cloudy  \\\n",
      "0                                0                                0   \n",
      "1                                0                                0   \n",
      "2                                0                                0   \n",
      "3                                0                                0   \n",
      "4                                0                                0   \n",
      "...                            ...                              ...   \n",
      "2488                             0                                0   \n",
      "2489                             0                                0   \n",
      "2490                             0                                0   \n",
      "2491                             0                                0   \n",
      "2492                             0                                0   \n",
      "\n",
      "      Weather_Condition_Overcast  Weather_Condition_Partly Cloudy  \\\n",
      "0                              0                                0   \n",
      "1                              0                                0   \n",
      "2                              0                                0   \n",
      "3                              0                                0   \n",
      "4                              0                                0   \n",
      "...                          ...                              ...   \n",
      "2488                           0                                0   \n",
      "2489                           0                                0   \n",
      "2490                           0                                0   \n",
      "2491                           0                                0   \n",
      "2492                           0                                0   \n",
      "\n",
      "      Weather_Condition_Rain  Weather_Condition_Scattered Clouds  \\\n",
      "0                          0                                   0   \n",
      "1                          0                                   0   \n",
      "2                          0                                   0   \n",
      "3                          0                                   0   \n",
      "4                          0                                   0   \n",
      "...                      ...                                 ...   \n",
      "2488                       0                                   0   \n",
      "2489                       0                                   0   \n",
      "2490                       1                                   0   \n",
      "2491                       0                                   0   \n",
      "2492                       0                                   0   \n",
      "\n",
      "      Weather_Condition_Smoke  \n",
      "0                           0  \n",
      "1                           0  \n",
      "2                           0  \n",
      "3                           0  \n",
      "4                           0  \n",
      "...                       ...  \n",
      "2488                        0  \n",
      "2489                        0  \n",
      "2490                        0  \n",
      "2491                        0  \n",
      "2492                        0  \n",
      "\n",
      "[2493 rows x 20 columns]\n"
     ]
    }
   ],
   "source": [
    "print(X)"
   ]
  },
  {
   "cell_type": "code",
   "execution_count": 6,
   "metadata": {},
   "outputs": [
    {
     "data": {
      "text/plain": [
       "Index(['intercept', 'Temperature(F)', 'Humidity(%)', 'Pressure(in)',\n",
       "       'Visibility(mi)', 'Wind_Speed(mph)', 'Precipitation(in)',\n",
       "       'Weather_Condition_Clear', 'Weather_Condition_Cloudy',\n",
       "       'Weather_Condition_Fair', 'Weather_Condition_Fog',\n",
       "       'Weather_Condition_Haze', 'Weather_Condition_Heavy Rain',\n",
       "       'Weather_Condition_Light Rain', 'Weather_Condition_Mostly Cloudy',\n",
       "       'Weather_Condition_Overcast', 'Weather_Condition_Partly Cloudy',\n",
       "       'Weather_Condition_Rain', 'Weather_Condition_Scattered Clouds',\n",
       "       'Weather_Condition_Smoke'],\n",
       "      dtype='object')"
      ]
     },
     "execution_count": 6,
     "metadata": {},
     "output_type": "execute_result"
    }
   ],
   "source": [
    "X.columns"
   ]
  },
  {
   "cell_type": "code",
   "execution_count": 7,
   "metadata": {},
   "outputs": [
    {
     "data": {
      "text/html": [
       "<table class=\"simpletable\">\n",
       "<caption>Generalized Linear Model Regression Results</caption>\n",
       "<tr>\n",
       "  <th>Dep. Variable:</th>    <td>total_accidents</td> <th>  No. Observations:  </th>  <td>  2493</td> \n",
       "</tr>\n",
       "<tr>\n",
       "  <th>Model:</th>                  <td>GLM</td>       <th>  Df Residuals:      </th>  <td>  2474</td> \n",
       "</tr>\n",
       "<tr>\n",
       "  <th>Model Family:</th>         <td>Poisson</td>     <th>  Df Model:          </th>  <td>    18</td> \n",
       "</tr>\n",
       "<tr>\n",
       "  <th>Link Function:</th>          <td>Log</td>       <th>  Scale:             </th> <td>  1.0000</td>\n",
       "</tr>\n",
       "<tr>\n",
       "  <th>Method:</th>                <td>IRLS</td>       <th>  Log-Likelihood:    </th> <td> -25480.</td>\n",
       "</tr>\n",
       "<tr>\n",
       "  <th>Date:</th>            <td>Fri, 21 Jun 2024</td> <th>  Deviance:          </th> <td>  36480.</td>\n",
       "</tr>\n",
       "<tr>\n",
       "  <th>Time:</th>                <td>14:45:39</td>     <th>  Pearson chi2:      </th> <td>3.56e+04</td>\n",
       "</tr>\n",
       "<tr>\n",
       "  <th>No. Iterations:</th>          <td>6</td>        <th>  Pseudo R-squ. (CS):</th>  <td>0.9901</td> \n",
       "</tr>\n",
       "<tr>\n",
       "  <th>Covariance Type:</th>     <td>nonrobust</td>    <th>                     </th>     <td> </td>   \n",
       "</tr>\n",
       "</table>\n",
       "<table class=\"simpletable\">\n",
       "<tr>\n",
       "                   <td></td>                     <th>coef</th>     <th>std err</th>      <th>z</th>      <th>P>|z|</th>  <th>[0.025</th>    <th>0.975]</th>  \n",
       "</tr>\n",
       "<tr>\n",
       "  <th>intercept</th>                          <td>    0.3978</td> <td>    0.788</td> <td>    0.505</td> <td> 0.614</td> <td>   -1.147</td> <td>    1.942</td>\n",
       "</tr>\n",
       "<tr>\n",
       "  <th>Temperature(F)</th>                     <td>   -0.0055</td> <td>    0.000</td> <td>  -12.929</td> <td> 0.000</td> <td>   -0.006</td> <td>   -0.005</td>\n",
       "</tr>\n",
       "<tr>\n",
       "  <th>Humidity(%)</th>                        <td>   -0.0034</td> <td>    0.000</td> <td>  -16.396</td> <td> 0.000</td> <td>   -0.004</td> <td>   -0.003</td>\n",
       "</tr>\n",
       "<tr>\n",
       "  <th>Pressure(in)</th>                       <td>    0.1352</td> <td>    0.028</td> <td>    4.891</td> <td> 0.000</td> <td>    0.081</td> <td>    0.189</td>\n",
       "</tr>\n",
       "<tr>\n",
       "  <th>Visibility(mi)</th>                     <td>    0.0009</td> <td>    0.003</td> <td>    0.329</td> <td> 0.742</td> <td>   -0.005</td> <td>    0.006</td>\n",
       "</tr>\n",
       "<tr>\n",
       "  <th>Wind_Speed(mph)</th>                    <td>    0.0124</td> <td>    0.002</td> <td>    6.096</td> <td> 0.000</td> <td>    0.008</td> <td>    0.016</td>\n",
       "</tr>\n",
       "<tr>\n",
       "  <th>Precipitation(in)</th>                  <td>    4.0460</td> <td>    0.438</td> <td>    9.239</td> <td> 0.000</td> <td>    3.188</td> <td>    4.904</td>\n",
       "</tr>\n",
       "<tr>\n",
       "  <th>Weather_Condition_Clear</th>            <td>   -0.1538</td> <td>    0.076</td> <td>   -2.028</td> <td> 0.043</td> <td>   -0.302</td> <td>   -0.005</td>\n",
       "</tr>\n",
       "<tr>\n",
       "  <th>Weather_Condition_Cloudy</th>           <td>    0.2406</td> <td>    0.070</td> <td>    3.417</td> <td> 0.001</td> <td>    0.103</td> <td>    0.379</td>\n",
       "</tr>\n",
       "<tr>\n",
       "  <th>Weather_Condition_Fair</th>             <td>    0.4495</td> <td>    0.071</td> <td>    6.349</td> <td> 0.000</td> <td>    0.311</td> <td>    0.588</td>\n",
       "</tr>\n",
       "<tr>\n",
       "  <th>Weather_Condition_Fog</th>              <td>    0.8226</td> <td>    0.090</td> <td>    9.173</td> <td> 0.000</td> <td>    0.647</td> <td>    0.998</td>\n",
       "</tr>\n",
       "<tr>\n",
       "  <th>Weather_Condition_Haze</th>             <td>    0.2483</td> <td>    0.073</td> <td>    3.389</td> <td> 0.001</td> <td>    0.105</td> <td>    0.392</td>\n",
       "</tr>\n",
       "<tr>\n",
       "  <th>Weather_Condition_Heavy Rain</th>       <td>    0.1967</td> <td>    0.091</td> <td>    2.157</td> <td> 0.031</td> <td>    0.018</td> <td>    0.375</td>\n",
       "</tr>\n",
       "<tr>\n",
       "  <th>Weather_Condition_Light Rain</th>       <td>    0.4237</td> <td>    0.074</td> <td>    5.730</td> <td> 0.000</td> <td>    0.279</td> <td>    0.569</td>\n",
       "</tr>\n",
       "<tr>\n",
       "  <th>Weather_Condition_Mostly Cloudy</th>    <td>    0.0496</td> <td>    0.077</td> <td>    0.647</td> <td> 0.518</td> <td>   -0.101</td> <td>    0.200</td>\n",
       "</tr>\n",
       "<tr>\n",
       "  <th>Weather_Condition_Overcast</th>         <td>   -0.1464</td> <td>    0.076</td> <td>   -1.924</td> <td> 0.054</td> <td>   -0.296</td> <td>    0.003</td>\n",
       "</tr>\n",
       "<tr>\n",
       "  <th>Weather_Condition_Partly Cloudy</th>    <td>    0.3300</td> <td>    0.075</td> <td>    4.386</td> <td> 0.000</td> <td>    0.183</td> <td>    0.477</td>\n",
       "</tr>\n",
       "<tr>\n",
       "  <th>Weather_Condition_Rain</th>             <td>    0.7973</td> <td>    0.085</td> <td>    9.413</td> <td> 0.000</td> <td>    0.631</td> <td>    0.963</td>\n",
       "</tr>\n",
       "<tr>\n",
       "  <th>Weather_Condition_Scattered Clouds</th> <td>   -2.5157</td> <td>    0.469</td> <td>   -5.366</td> <td> 0.000</td> <td>   -3.435</td> <td>   -1.597</td>\n",
       "</tr>\n",
       "<tr>\n",
       "  <th>Weather_Condition_Smoke</th>            <td>   -0.3446</td> <td>    0.175</td> <td>   -1.971</td> <td> 0.049</td> <td>   -0.687</td> <td>   -0.002</td>\n",
       "</tr>\n",
       "</table>"
      ],
      "text/latex": [
       "\\begin{center}\n",
       "\\begin{tabular}{lclc}\n",
       "\\toprule\n",
       "\\textbf{Dep. Variable:}                       & total\\_accidents & \\textbf{  No. Observations:  } &     2493    \\\\\n",
       "\\textbf{Model:}                               &       GLM        & \\textbf{  Df Residuals:      } &     2474    \\\\\n",
       "\\textbf{Model Family:}                        &     Poisson      & \\textbf{  Df Model:          } &       18    \\\\\n",
       "\\textbf{Link Function:}                       &       Log        & \\textbf{  Scale:             } &    1.0000   \\\\\n",
       "\\textbf{Method:}                              &       IRLS       & \\textbf{  Log-Likelihood:    } &   -25480.   \\\\\n",
       "\\textbf{Date:}                                & Fri, 21 Jun 2024 & \\textbf{  Deviance:          } &    36480.   \\\\\n",
       "\\textbf{Time:}                                &     14:45:39     & \\textbf{  Pearson chi2:      } &  3.56e+04   \\\\\n",
       "\\textbf{No. Iterations:}                      &        6         & \\textbf{  Pseudo R-squ. (CS):} &   0.9901    \\\\\n",
       "\\textbf{Covariance Type:}                     &    nonrobust     & \\textbf{                     } &             \\\\\n",
       "\\bottomrule\n",
       "\\end{tabular}\n",
       "\\begin{tabular}{lcccccc}\n",
       "                                              & \\textbf{coef} & \\textbf{std err} & \\textbf{z} & \\textbf{P$> |$z$|$} & \\textbf{[0.025} & \\textbf{0.975]}  \\\\\n",
       "\\midrule\n",
       "\\textbf{intercept}                            &       0.3978  &        0.788     &     0.505  &         0.614        &       -1.147    &        1.942     \\\\\n",
       "\\textbf{Temperature(F)}                       &      -0.0055  &        0.000     &   -12.929  &         0.000        &       -0.006    &       -0.005     \\\\\n",
       "\\textbf{Humidity(\\%)}                         &      -0.0034  &        0.000     &   -16.396  &         0.000        &       -0.004    &       -0.003     \\\\\n",
       "\\textbf{Pressure(in)}                         &       0.1352  &        0.028     &     4.891  &         0.000        &        0.081    &        0.189     \\\\\n",
       "\\textbf{Visibility(mi)}                       &       0.0009  &        0.003     &     0.329  &         0.742        &       -0.005    &        0.006     \\\\\n",
       "\\textbf{Wind\\_Speed(mph)}                     &       0.0124  &        0.002     &     6.096  &         0.000        &        0.008    &        0.016     \\\\\n",
       "\\textbf{Precipitation(in)}                    &       4.0460  &        0.438     &     9.239  &         0.000        &        3.188    &        4.904     \\\\\n",
       "\\textbf{Weather\\_Condition\\_Clear}            &      -0.1538  &        0.076     &    -2.028  &         0.043        &       -0.302    &       -0.005     \\\\\n",
       "\\textbf{Weather\\_Condition\\_Cloudy}           &       0.2406  &        0.070     &     3.417  &         0.001        &        0.103    &        0.379     \\\\\n",
       "\\textbf{Weather\\_Condition\\_Fair}             &       0.4495  &        0.071     &     6.349  &         0.000        &        0.311    &        0.588     \\\\\n",
       "\\textbf{Weather\\_Condition\\_Fog}              &       0.8226  &        0.090     &     9.173  &         0.000        &        0.647    &        0.998     \\\\\n",
       "\\textbf{Weather\\_Condition\\_Haze}             &       0.2483  &        0.073     &     3.389  &         0.001        &        0.105    &        0.392     \\\\\n",
       "\\textbf{Weather\\_Condition\\_Heavy Rain}       &       0.1967  &        0.091     &     2.157  &         0.031        &        0.018    &        0.375     \\\\\n",
       "\\textbf{Weather\\_Condition\\_Light Rain}       &       0.4237  &        0.074     &     5.730  &         0.000        &        0.279    &        0.569     \\\\\n",
       "\\textbf{Weather\\_Condition\\_Mostly Cloudy}    &       0.0496  &        0.077     &     0.647  &         0.518        &       -0.101    &        0.200     \\\\\n",
       "\\textbf{Weather\\_Condition\\_Overcast}         &      -0.1464  &        0.076     &    -1.924  &         0.054        &       -0.296    &        0.003     \\\\\n",
       "\\textbf{Weather\\_Condition\\_Partly Cloudy}    &       0.3300  &        0.075     &     4.386  &         0.000        &        0.183    &        0.477     \\\\\n",
       "\\textbf{Weather\\_Condition\\_Rain}             &       0.7973  &        0.085     &     9.413  &         0.000        &        0.631    &        0.963     \\\\\n",
       "\\textbf{Weather\\_Condition\\_Scattered Clouds} &      -2.5157  &        0.469     &    -5.366  &         0.000        &       -3.435    &       -1.597     \\\\\n",
       "\\textbf{Weather\\_Condition\\_Smoke}            &      -0.3446  &        0.175     &    -1.971  &         0.049        &       -0.687    &       -0.002     \\\\\n",
       "\\bottomrule\n",
       "\\end{tabular}\n",
       "%\\caption{Generalized Linear Model Regression Results}\n",
       "\\end{center}"
      ],
      "text/plain": [
       "<class 'statsmodels.iolib.summary.Summary'>\n",
       "\"\"\"\n",
       "                 Generalized Linear Model Regression Results                  \n",
       "==============================================================================\n",
       "Dep. Variable:        total_accidents   No. Observations:                 2493\n",
       "Model:                            GLM   Df Residuals:                     2474\n",
       "Model Family:                 Poisson   Df Model:                           18\n",
       "Link Function:                    Log   Scale:                          1.0000\n",
       "Method:                          IRLS   Log-Likelihood:                -25480.\n",
       "Date:                Fri, 21 Jun 2024   Deviance:                       36480.\n",
       "Time:                        14:45:39   Pearson chi2:                 3.56e+04\n",
       "No. Iterations:                     6   Pseudo R-squ. (CS):             0.9901\n",
       "Covariance Type:            nonrobust                                         \n",
       "======================================================================================================\n",
       "                                         coef    std err          z      P>|z|      [0.025      0.975]\n",
       "------------------------------------------------------------------------------------------------------\n",
       "intercept                              0.3978      0.788      0.505      0.614      -1.147       1.942\n",
       "Temperature(F)                        -0.0055      0.000    -12.929      0.000      -0.006      -0.005\n",
       "Humidity(%)                           -0.0034      0.000    -16.396      0.000      -0.004      -0.003\n",
       "Pressure(in)                           0.1352      0.028      4.891      0.000       0.081       0.189\n",
       "Visibility(mi)                         0.0009      0.003      0.329      0.742      -0.005       0.006\n",
       "Wind_Speed(mph)                        0.0124      0.002      6.096      0.000       0.008       0.016\n",
       "Precipitation(in)                      4.0460      0.438      9.239      0.000       3.188       4.904\n",
       "Weather_Condition_Clear               -0.1538      0.076     -2.028      0.043      -0.302      -0.005\n",
       "Weather_Condition_Cloudy               0.2406      0.070      3.417      0.001       0.103       0.379\n",
       "Weather_Condition_Fair                 0.4495      0.071      6.349      0.000       0.311       0.588\n",
       "Weather_Condition_Fog                  0.8226      0.090      9.173      0.000       0.647       0.998\n",
       "Weather_Condition_Haze                 0.2483      0.073      3.389      0.001       0.105       0.392\n",
       "Weather_Condition_Heavy Rain           0.1967      0.091      2.157      0.031       0.018       0.375\n",
       "Weather_Condition_Light Rain           0.4237      0.074      5.730      0.000       0.279       0.569\n",
       "Weather_Condition_Mostly Cloudy        0.0496      0.077      0.647      0.518      -0.101       0.200\n",
       "Weather_Condition_Overcast            -0.1464      0.076     -1.924      0.054      -0.296       0.003\n",
       "Weather_Condition_Partly Cloudy        0.3300      0.075      4.386      0.000       0.183       0.477\n",
       "Weather_Condition_Rain                 0.7973      0.085      9.413      0.000       0.631       0.963\n",
       "Weather_Condition_Scattered Clouds    -2.5157      0.469     -5.366      0.000      -3.435      -1.597\n",
       "Weather_Condition_Smoke               -0.3446      0.175     -1.971      0.049      -0.687      -0.002\n",
       "======================================================================================================\n",
       "\"\"\""
      ]
     },
     "execution_count": 7,
     "metadata": {},
     "output_type": "execute_result"
    }
   ],
   "source": [
    "model = sm.GLM(y, X, family=sm.families.Poisson())\n",
    "results = model.fit()\n",
    "results.summary()"
   ]
  },
  {
   "cell_type": "code",
   "execution_count": 8,
   "metadata": {},
   "outputs": [
    {
     "data": {
      "text/plain": [
       "979.0379848962345"
      ]
     },
     "execution_count": 8,
     "metadata": {},
     "output_type": "execute_result"
    }
   ],
   "source": [
    "valid_pred = results.predict()\n",
    "np.mean((y - valid_pred)**2)"
   ]
  },
  {
   "cell_type": "code",
   "execution_count": 9,
   "metadata": {},
   "outputs": [
    {
     "data": {
      "text/plain": [
       "Text(0, 0.5, 'Fitted Values')"
      ]
     },
     "execution_count": 9,
     "metadata": {},
     "output_type": "execute_result"
    },
    {
     "data": {
      "image/png": "[encoded data removed]",
      "text/plain": [
       "<Figure size 640x480 with 1 Axes>"
      ]
     },
     "metadata": {},
     "output_type": "display_data"
    }
   ],
   "source": [
    "plt.figure()\n",
    "plt.scatter(y, valid_pred)\n",
    "plt.xlabel('True Values')\n",
    "plt.ylabel('Fitted Values')"
   ]
  },
  {
   "cell_type": "code",
   "execution_count": 10,
   "metadata": {},
   "outputs": [],
   "source": [
    "X2 = X.drop(columns=['intercept', 'Visibility(mi)'])"
   ]
  },
  {
   "cell_type": "code",
   "execution_count": 11,
   "metadata": {},
   "outputs": [
    {
     "data": {
      "text/html": [
       "<table class=\"simpletable\">\n",
       "<caption>Generalized Linear Model Regression Results</caption>\n",
       "<tr>\n",
       "  <th>Dep. Variable:</th>    <td>total_accidents</td> <th>  No. Observations:  </th>  <td>  2493</td> \n",
       "</tr>\n",
       "<tr>\n",
       "  <th>Model:</th>                  <td>GLM</td>       <th>  Df Residuals:      </th>  <td>  2475</td> \n",
       "</tr>\n",
       "<tr>\n",
       "  <th>Model Family:</th>         <td>Poisson</td>     <th>  Df Model:          </th>  <td>    17</td> \n",
       "</tr>\n",
       "<tr>\n",
       "  <th>Link Function:</th>          <td>Log</td>       <th>  Scale:             </th> <td>  1.0000</td>\n",
       "</tr>\n",
       "<tr>\n",
       "  <th>Method:</th>                <td>IRLS</td>       <th>  Log-Likelihood:    </th> <td> -25480.</td>\n",
       "</tr>\n",
       "<tr>\n",
       "  <th>Date:</th>            <td>Fri, 21 Jun 2024</td> <th>  Deviance:          </th> <td>  36480.</td>\n",
       "</tr>\n",
       "<tr>\n",
       "  <th>Time:</th>                <td>14:45:40</td>     <th>  Pearson chi2:      </th> <td>3.56e+04</td>\n",
       "</tr>\n",
       "<tr>\n",
       "  <th>No. Iterations:</th>          <td>6</td>        <th>  Pseudo R-squ. (CS):</th>  <td>0.9901</td> \n",
       "</tr>\n",
       "<tr>\n",
       "  <th>Covariance Type:</th>     <td>nonrobust</td>    <th>                     </th>     <td> </td>   \n",
       "</tr>\n",
       "</table>\n",
       "<table class=\"simpletable\">\n",
       "<tr>\n",
       "                   <td></td>                     <th>coef</th>     <th>std err</th>      <th>z</th>      <th>P>|z|</th>  <th>[0.025</th>    <th>0.975]</th>  \n",
       "</tr>\n",
       "<tr>\n",
       "  <th>Temperature(F)</th>                     <td>   -0.0055</td> <td>    0.000</td> <td>  -13.027</td> <td> 0.000</td> <td>   -0.006</td> <td>   -0.005</td>\n",
       "</tr>\n",
       "<tr>\n",
       "  <th>Humidity(%)</th>                        <td>   -0.0035</td> <td>    0.000</td> <td>  -18.257</td> <td> 0.000</td> <td>   -0.004</td> <td>   -0.003</td>\n",
       "</tr>\n",
       "<tr>\n",
       "  <th>Pressure(in)</th>                       <td>    0.1346</td> <td>    0.028</td> <td>    4.880</td> <td> 0.000</td> <td>    0.081</td> <td>    0.189</td>\n",
       "</tr>\n",
       "<tr>\n",
       "  <th>Wind_Speed(mph)</th>                    <td>    0.0125</td> <td>    0.002</td> <td>    6.229</td> <td> 0.000</td> <td>    0.009</td> <td>    0.016</td>\n",
       "</tr>\n",
       "<tr>\n",
       "  <th>Precipitation(in)</th>                  <td>    4.0195</td> <td>    0.430</td> <td>    9.337</td> <td> 0.000</td> <td>    3.176</td> <td>    4.863</td>\n",
       "</tr>\n",
       "<tr>\n",
       "  <th>Weather_Condition_Clear</th>            <td>    0.2729</td> <td>    0.847</td> <td>    0.322</td> <td> 0.747</td> <td>   -1.388</td> <td>    1.934</td>\n",
       "</tr>\n",
       "<tr>\n",
       "  <th>Weather_Condition_Cloudy</th>           <td>    0.6673</td> <td>    0.841</td> <td>    0.794</td> <td> 0.427</td> <td>   -0.980</td> <td>    2.315</td>\n",
       "</tr>\n",
       "<tr>\n",
       "  <th>Weather_Condition_Fair</th>             <td>    0.8760</td> <td>    0.841</td> <td>    1.041</td> <td> 0.298</td> <td>   -0.773</td> <td>    2.525</td>\n",
       "</tr>\n",
       "<tr>\n",
       "  <th>Weather_Condition_Fog</th>              <td>    1.2439</td> <td>    0.847</td> <td>    1.468</td> <td> 0.142</td> <td>   -0.417</td> <td>    2.904</td>\n",
       "</tr>\n",
       "<tr>\n",
       "  <th>Weather_Condition_Haze</th>             <td>    0.6720</td> <td>    0.844</td> <td>    0.796</td> <td> 0.426</td> <td>   -0.982</td> <td>    2.326</td>\n",
       "</tr>\n",
       "<tr>\n",
       "  <th>Weather_Condition_Heavy Rain</th>       <td>    0.6227</td> <td>    0.845</td> <td>    0.737</td> <td> 0.461</td> <td>   -1.033</td> <td>    2.279</td>\n",
       "</tr>\n",
       "<tr>\n",
       "  <th>Weather_Condition_Light Rain</th>       <td>    0.8493</td> <td>    0.844</td> <td>    1.006</td> <td> 0.314</td> <td>   -0.805</td> <td>    2.504</td>\n",
       "</tr>\n",
       "<tr>\n",
       "  <th>Weather_Condition_Mostly Cloudy</th>    <td>    0.4767</td> <td>    0.845</td> <td>    0.564</td> <td> 0.573</td> <td>   -1.179</td> <td>    2.132</td>\n",
       "</tr>\n",
       "<tr>\n",
       "  <th>Weather_Condition_Overcast</th>         <td>    0.2803</td> <td>    0.847</td> <td>    0.331</td> <td> 0.741</td> <td>   -1.380</td> <td>    1.941</td>\n",
       "</tr>\n",
       "<tr>\n",
       "  <th>Weather_Condition_Partly Cloudy</th>    <td>    0.7569</td> <td>    0.842</td> <td>    0.899</td> <td> 0.369</td> <td>   -0.894</td> <td>    2.408</td>\n",
       "</tr>\n",
       "<tr>\n",
       "  <th>Weather_Condition_Rain</th>             <td>    1.2221</td> <td>    0.845</td> <td>    1.446</td> <td> 0.148</td> <td>   -0.434</td> <td>    2.878</td>\n",
       "</tr>\n",
       "<tr>\n",
       "  <th>Weather_Condition_Scattered Clouds</th> <td>   -2.0896</td> <td>    0.983</td> <td>   -2.126</td> <td> 0.033</td> <td>   -4.016</td> <td>   -0.164</td>\n",
       "</tr>\n",
       "<tr>\n",
       "  <th>Weather_Condition_Smoke</th>            <td>    0.0784</td> <td>    0.856</td> <td>    0.092</td> <td> 0.927</td> <td>   -1.600</td> <td>    1.756</td>\n",
       "</tr>\n",
       "</table>"
      ],
      "text/latex": [
       "\\begin{center}\n",
       "\\begin{tabular}{lclc}\n",
       "\\toprule\n",
       "\\textbf{Dep. Variable:}                       & total\\_accidents & \\textbf{  No. Observations:  } &     2493    \\\\\n",
       "\\textbf{Model:}                               &       GLM        & \\textbf{  Df Residuals:      } &     2475    \\\\\n",
       "\\textbf{Model Family:}                        &     Poisson      & \\textbf{  Df Model:          } &       17    \\\\\n",
       "\\textbf{Link Function:}                       &       Log        & \\textbf{  Scale:             } &    1.0000   \\\\\n",
       "\\textbf{Method:}                              &       IRLS       & \\textbf{  Log-Likelihood:    } &   -25480.   \\\\\n",
       "\\textbf{Date:}                                & Fri, 21 Jun 2024 & \\textbf{  Deviance:          } &    36480.   \\\\\n",
       "\\textbf{Time:}                                &     14:45:40     & \\textbf{  Pearson chi2:      } &  3.56e+04   \\\\\n",
       "\\textbf{No. Iterations:}                      &        6         & \\textbf{  Pseudo R-squ. (CS):} &   0.9901    \\\\\n",
       "\\textbf{Covariance Type:}                     &    nonrobust     & \\textbf{                     } &             \\\\\n",
       "\\bottomrule\n",
       "\\end{tabular}\n",
       "\\begin{tabular}{lcccccc}\n",
       "                                              & \\textbf{coef} & \\textbf{std err} & \\textbf{z} & \\textbf{P$> |$z$|$} & \\textbf{[0.025} & \\textbf{0.975]}  \\\\\n",
       "\\midrule\n",
       "\\textbf{Temperature(F)}                       &      -0.0055  &        0.000     &   -13.027  &         0.000        &       -0.006    &       -0.005     \\\\\n",
       "\\textbf{Humidity(\\%)}                         &      -0.0035  &        0.000     &   -18.257  &         0.000        &       -0.004    &       -0.003     \\\\\n",
       "\\textbf{Pressure(in)}                         &       0.1346  &        0.028     &     4.880  &         0.000        &        0.081    &        0.189     \\\\\n",
       "\\textbf{Wind\\_Speed(mph)}                     &       0.0125  &        0.002     &     6.229  &         0.000        &        0.009    &        0.016     \\\\\n",
       "\\textbf{Precipitation(in)}                    &       4.0195  &        0.430     &     9.337  &         0.000        &        3.176    &        4.863     \\\\\n",
       "\\textbf{Weather\\_Condition\\_Clear}            &       0.2729  &        0.847     &     0.322  &         0.747        &       -1.388    &        1.934     \\\\\n",
       "\\textbf{Weather\\_Condition\\_Cloudy}           &       0.6673  &        0.841     &     0.794  &         0.427        &       -0.980    &        2.315     \\\\\n",
       "\\textbf{Weather\\_Condition\\_Fair}             &       0.8760  &        0.841     &     1.041  &         0.298        &       -0.773    &        2.525     \\\\\n",
       "\\textbf{Weather\\_Condition\\_Fog}              &       1.2439  &        0.847     &     1.468  &         0.142        &       -0.417    &        2.904     \\\\\n",
       "\\textbf{Weather\\_Condition\\_Haze}             &       0.6720  &        0.844     &     0.796  &         0.426        &       -0.982    &        2.326     \\\\\n",
       "\\textbf{Weather\\_Condition\\_Heavy Rain}       &       0.6227  &        0.845     &     0.737  &         0.461        &       -1.033    &        2.279     \\\\\n",
       "\\textbf{Weather\\_Condition\\_Light Rain}       &       0.8493  &        0.844     &     1.006  &         0.314        &       -0.805    &        2.504     \\\\\n",
       "\\textbf{Weather\\_Condition\\_Mostly Cloudy}    &       0.4767  &        0.845     &     0.564  &         0.573        &       -1.179    &        2.132     \\\\\n",
       "\\textbf{Weather\\_Condition\\_Overcast}         &       0.2803  &        0.847     &     0.331  &         0.741        &       -1.380    &        1.941     \\\\\n",
       "\\textbf{Weather\\_Condition\\_Partly Cloudy}    &       0.7569  &        0.842     &     0.899  &         0.369        &       -0.894    &        2.408     \\\\\n",
       "\\textbf{Weather\\_Condition\\_Rain}             &       1.2221  &        0.845     &     1.446  &         0.148        &       -0.434    &        2.878     \\\\\n",
       "\\textbf{Weather\\_Condition\\_Scattered Clouds} &      -2.0896  &        0.983     &    -2.126  &         0.033        &       -4.016    &       -0.164     \\\\\n",
       "\\textbf{Weather\\_Condition\\_Smoke}            &       0.0784  &        0.856     &     0.092  &         0.927        &       -1.600    &        1.756     \\\\\n",
       "\\bottomrule\n",
       "\\end{tabular}\n",
       "%\\caption{Generalized Linear Model Regression Results}\n",
       "\\end{center}"
      ],
      "text/plain": [
       "<class 'statsmodels.iolib.summary.Summary'>\n",
       "\"\"\"\n",
       "                 Generalized Linear Model Regression Results                  \n",
       "==============================================================================\n",
       "Dep. Variable:        total_accidents   No. Observations:                 2493\n",
       "Model:                            GLM   Df Residuals:                     2475\n",
       "Model Family:                 Poisson   Df Model:                           17\n",
       "Link Function:                    Log   Scale:                          1.0000\n",
       "Method:                          IRLS   Log-Likelihood:                -25480.\n",
       "Date:                Fri, 21 Jun 2024   Deviance:                       36480.\n",
       "Time:                        14:45:40   Pearson chi2:                 3.56e+04\n",
       "No. Iterations:                     6   Pseudo R-squ. (CS):             0.9901\n",
       "Covariance Type:            nonrobust                                         \n",
       "======================================================================================================\n",
       "                                         coef    std err          z      P>|z|      [0.025      0.975]\n",
       "------------------------------------------------------------------------------------------------------\n",
       "Temperature(F)                        -0.0055      0.000    -13.027      0.000      -0.006      -0.005\n",
       "Humidity(%)                           -0.0035      0.000    -18.257      0.000      -0.004      -0.003\n",
       "Pressure(in)                           0.1346      0.028      4.880      0.000       0.081       0.189\n",
       "Wind_Speed(mph)                        0.0125      0.002      6.229      0.000       0.009       0.016\n",
       "Precipitation(in)                      4.0195      0.430      9.337      0.000       3.176       4.863\n",
       "Weather_Condition_Clear                0.2729      0.847      0.322      0.747      -1.388       1.934\n",
       "Weather_Condition_Cloudy               0.6673      0.841      0.794      0.427      -0.980       2.315\n",
       "Weather_Condition_Fair                 0.8760      0.841      1.041      0.298      -0.773       2.525\n",
       "Weather_Condition_Fog                  1.2439      0.847      1.468      0.142      -0.417       2.904\n",
       "Weather_Condition_Haze                 0.6720      0.844      0.796      0.426      -0.982       2.326\n",
       "Weather_Condition_Heavy Rain           0.6227      0.845      0.737      0.461      -1.033       2.279\n",
       "Weather_Condition_Light Rain           0.8493      0.844      1.006      0.314      -0.805       2.504\n",
       "Weather_Condition_Mostly Cloudy        0.4767      0.845      0.564      0.573      -1.179       2.132\n",
       "Weather_Condition_Overcast             0.2803      0.847      0.331      0.741      -1.380       1.941\n",
       "Weather_Condition_Partly Cloudy        0.7569      0.842      0.899      0.369      -0.894       2.408\n",
       "Weather_Condition_Rain                 1.2221      0.845      1.446      0.148      -0.434       2.878\n",
       "Weather_Condition_Scattered Clouds    -2.0896      0.983     -2.126      0.033      -4.016      -0.164\n",
       "Weather_Condition_Smoke                0.0784      0.856      0.092      0.927      -1.600       1.756\n",
       "======================================================================================================\n",
       "\"\"\""
      ]
     },
     "execution_count": 11,
     "metadata": {},
     "output_type": "execute_result"
    }
   ],
   "source": [
    "model2 = sm.GLM(y, X2, family=sm.families.Poisson())\n",
    "results2 = model2.fit()\n",
    "results2.summary()"
   ]
  },
  {
   "cell_type": "code",
   "execution_count": 12,
   "metadata": {},
   "outputs": [
    {
     "data": {
      "text/plain": [
       "979.0294968449074"
      ]
     },
     "execution_count": 12,
     "metadata": {},
     "output_type": "execute_result"
    }
   ],
   "source": [
    "valid_pred2 = results2.predict()\n",
    "np.mean((y - valid_pred2)**2)"
   ]
  },
  {
   "cell_type": "code",
   "execution_count": 13,
   "metadata": {},
   "outputs": [
    {
     "data": {
      "text/plain": [
       "Text(0, 0.5, 'Fitted Values')"
      ]
     },
     "execution_count": 13,
     "metadata": {},
     "output_type": "execute_result"
    },
    {
     "data": {
      "image/png": "[encoded data removed]",
      "text/plain": [
       "<Figure size 640x480 with 1 Axes>"
      ]
     },
     "metadata": {},
     "output_type": "display_data"
    }
   ],
   "source": [
    "plt.figure()\n",
    "plt.scatter(y, valid_pred2)\n",
    "plt.xlabel('True Values')\n",
    "plt.ylabel('Fitted Values')"
   ]
  },
  {
   "cell_type": "code",
   "execution_count": 14,
   "metadata": {},
   "outputs": [],
   "source": [
    "X3 = data.drop(columns=['Accident_Date', 'Severity', 'total_accidents', 'Visibility(mi)', 'Weather_Condition'])"
   ]
  },
  {
   "cell_type": "code",
   "execution_count": 15,
   "metadata": {},
   "outputs": [
    {
     "data": {
      "text/html": [
       "<table class=\"simpletable\">\n",
       "<caption>Generalized Linear Model Regression Results</caption>\n",
       "<tr>\n",
       "  <th>Dep. Variable:</th>    <td>total_accidents</td> <th>  No. Observations:  </th>  <td>  2493</td> \n",
       "</tr>\n",
       "<tr>\n",
       "  <th>Model:</th>                  <td>GLM</td>       <th>  Df Residuals:      </th>  <td>  2488</td> \n",
       "</tr>\n",
       "<tr>\n",
       "  <th>Model Family:</th>         <td>Poisson</td>     <th>  Df Model:          </th>  <td>     4</td> \n",
       "</tr>\n",
       "<tr>\n",
       "  <th>Link Function:</th>          <td>Log</td>       <th>  Scale:             </th> <td>  1.0000</td>\n",
       "</tr>\n",
       "<tr>\n",
       "  <th>Method:</th>                <td>IRLS</td>       <th>  Log-Likelihood:    </th> <td> -29726.</td>\n",
       "</tr>\n",
       "<tr>\n",
       "  <th>Date:</th>            <td>Fri, 21 Jun 2024</td> <th>  Deviance:          </th> <td>  44973.</td>\n",
       "</tr>\n",
       "<tr>\n",
       "  <th>Time:</th>                <td>14:45:41</td>     <th>  Pearson chi2:      </th> <td>4.71e+04</td>\n",
       "</tr>\n",
       "<tr>\n",
       "  <th>No. Iterations:</th>          <td>5</td>        <th>  Pseudo R-squ. (CS):</th>  <td>0.7016</td> \n",
       "</tr>\n",
       "<tr>\n",
       "  <th>Covariance Type:</th>     <td>nonrobust</td>    <th>                     </th>     <td> </td>   \n",
       "</tr>\n",
       "</table>\n",
       "<table class=\"simpletable\">\n",
       "<tr>\n",
       "          <td></td>             <th>coef</th>     <th>std err</th>      <th>z</th>      <th>P>|z|</th>  <th>[0.025</th>    <th>0.975]</th>  \n",
       "</tr>\n",
       "<tr>\n",
       "  <th>Temperature(F)</th>    <td>   -0.0033</td> <td>    0.000</td> <td>   -9.377</td> <td> 0.000</td> <td>   -0.004</td> <td>   -0.003</td>\n",
       "</tr>\n",
       "<tr>\n",
       "  <th>Humidity(%)</th>       <td>   -0.0036</td> <td>    0.000</td> <td>  -22.053</td> <td> 0.000</td> <td>   -0.004</td> <td>   -0.003</td>\n",
       "</tr>\n",
       "<tr>\n",
       "  <th>Pressure(in)</th>      <td>    0.1643</td> <td>    0.001</td> <td>  190.296</td> <td> 0.000</td> <td>    0.163</td> <td>    0.166</td>\n",
       "</tr>\n",
       "<tr>\n",
       "  <th>Wind_Speed(mph)</th>   <td>   -0.0889</td> <td>    0.002</td> <td>  -52.256</td> <td> 0.000</td> <td>   -0.092</td> <td>   -0.086</td>\n",
       "</tr>\n",
       "<tr>\n",
       "  <th>Precipitation(in)</th> <td>    7.5698</td> <td>    0.255</td> <td>   29.715</td> <td> 0.000</td> <td>    7.070</td> <td>    8.069</td>\n",
       "</tr>\n",
       "</table>"
      ],
      "text/latex": [
       "\\begin{center}\n",
       "\\begin{tabular}{lclc}\n",
       "\\toprule\n",
       "\\textbf{Dep. Variable:}    & total\\_accidents & \\textbf{  No. Observations:  } &     2493    \\\\\n",
       "\\textbf{Model:}            &       GLM        & \\textbf{  Df Residuals:      } &     2488    \\\\\n",
       "\\textbf{Model Family:}     &     Poisson      & \\textbf{  Df Model:          } &        4    \\\\\n",
       "\\textbf{Link Function:}    &       Log        & \\textbf{  Scale:             } &    1.0000   \\\\\n",
       "\\textbf{Method:}           &       IRLS       & \\textbf{  Log-Likelihood:    } &   -29726.   \\\\\n",
       "\\textbf{Date:}             & Fri, 21 Jun 2024 & \\textbf{  Deviance:          } &    44973.   \\\\\n",
       "\\textbf{Time:}             &     14:45:41     & \\textbf{  Pearson chi2:      } &  4.71e+04   \\\\\n",
       "\\textbf{No. Iterations:}   &        5         & \\textbf{  Pseudo R-squ. (CS):} &   0.7016    \\\\\n",
       "\\textbf{Covariance Type:}  &    nonrobust     & \\textbf{                     } &             \\\\\n",
       "\\bottomrule\n",
       "\\end{tabular}\n",
       "\\begin{tabular}{lcccccc}\n",
       "                           & \\textbf{coef} & \\textbf{std err} & \\textbf{z} & \\textbf{P$> |$z$|$} & \\textbf{[0.025} & \\textbf{0.975]}  \\\\\n",
       "\\midrule\n",
       "\\textbf{Temperature(F)}    &      -0.0033  &        0.000     &    -9.377  &         0.000        &       -0.004    &       -0.003     \\\\\n",
       "\\textbf{Humidity(\\%)}      &      -0.0036  &        0.000     &   -22.053  &         0.000        &       -0.004    &       -0.003     \\\\\n",
       "\\textbf{Pressure(in)}      &       0.1643  &        0.001     &   190.296  &         0.000        &        0.163    &        0.166     \\\\\n",
       "\\textbf{Wind\\_Speed(mph)}  &      -0.0889  &        0.002     &   -52.256  &         0.000        &       -0.092    &       -0.086     \\\\\n",
       "\\textbf{Precipitation(in)} &       7.5698  &        0.255     &    29.715  &         0.000        &        7.070    &        8.069     \\\\\n",
       "\\bottomrule\n",
       "\\end{tabular}\n",
       "%\\caption{Generalized Linear Model Regression Results}\n",
       "\\end{center}"
      ],
      "text/plain": [
       "<class 'statsmodels.iolib.summary.Summary'>\n",
       "\"\"\"\n",
       "                 Generalized Linear Model Regression Results                  \n",
       "==============================================================================\n",
       "Dep. Variable:        total_accidents   No. Observations:                 2493\n",
       "Model:                            GLM   Df Residuals:                     2488\n",
       "Model Family:                 Poisson   Df Model:                            4\n",
       "Link Function:                    Log   Scale:                          1.0000\n",
       "Method:                          IRLS   Log-Likelihood:                -29726.\n",
       "Date:                Fri, 21 Jun 2024   Deviance:                       44973.\n",
       "Time:                        14:45:41   Pearson chi2:                 4.71e+04\n",
       "No. Iterations:                     5   Pseudo R-squ. (CS):             0.7016\n",
       "Covariance Type:            nonrobust                                         \n",
       "=====================================================================================\n",
       "                        coef    std err          z      P>|z|      [0.025      0.975]\n",
       "-------------------------------------------------------------------------------------\n",
       "Temperature(F)       -0.0033      0.000     -9.377      0.000      -0.004      -0.003\n",
       "Humidity(%)          -0.0036      0.000    -22.053      0.000      -0.004      -0.003\n",
       "Pressure(in)          0.1643      0.001    190.296      0.000       0.163       0.166\n",
       "Wind_Speed(mph)      -0.0889      0.002    -52.256      0.000      -0.092      -0.086\n",
       "Precipitation(in)     7.5698      0.255     29.715      0.000       7.070       8.069\n",
       "=====================================================================================\n",
       "\"\"\""
      ]
     },
     "execution_count": 15,
     "metadata": {},
     "output_type": "execute_result"
    }
   ],
   "source": [
    "model3 = sm.GLM(y, X3, family=sm.families.Poisson())\n",
    "results3 = model3.fit()\n",
    "results3.summary()"
   ]
  },
  {
   "cell_type": "code",
   "execution_count": 16,
   "metadata": {},
   "outputs": [
    {
     "data": {
      "text/plain": [
       "1191.9242789628813"
      ]
     },
     "execution_count": 16,
     "metadata": {},
     "output_type": "execute_result"
    }
   ],
   "source": [
    "valid_pred3 = results3.predict()\n",
    "np.mean((y - valid_pred3)**2)"
   ]
  },
  {
   "cell_type": "code",
   "execution_count": 17,
   "metadata": {},
   "outputs": [
    {
     "data": {
      "text/plain": [
       "Text(0, 0.5, 'Fitted Values')"
      ]
     },
     "execution_count": 17,
     "metadata": {},
     "output_type": "execute_result"
    },
    {
     "data": {
      "image/png": "[encoded data removed]",
      "text/plain": [
       "<Figure size 640x480 with 1 Axes>"
      ]
     },
     "metadata": {},
     "output_type": "display_data"
    }
   ],
   "source": [
    "plt.figure()\n",
    "plt.scatter(y, valid_pred3)\n",
    "plt.xlabel('True Values')\n",
    "plt.ylabel('Fitted Values')"
   ]
  }
 ],
 "metadata": {
  "kernelspec": {
   "display_name": "dsi_participant",
   "language": "python",
   "name": "python3"
  },
  "language_info": {
   "codemirror_mode": {
    "name": "ipython",
    "version": 3
   },
   "file_extension": ".py",
   "mimetype": "text/x-python",
   "name": "python",
   "nbconvert_exporter": "python",
   "pygments_lexer": "ipython3",
   "version": "3.9.15"
  }
 },
 "nbformat": 4,
 "nbformat_minor": 2
}
